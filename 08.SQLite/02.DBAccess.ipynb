{
 "cells": [
  {
   "attachments": {},
   "cell_type": "markdown",
   "metadata": {},
   "source": [
    "### DAO를 이용하여 데이터를 활용하기"
   ]
  },
  {
   "cell_type": "code",
   "execution_count": 1,
   "metadata": {},
   "outputs": [],
   "source": [
    "import member_dao as mdao"
   ]
  },
  {
   "cell_type": "code",
   "execution_count": 5,
   "metadata": {},
   "outputs": [
    {
     "name": "stdout",
     "output_type": "stream",
     "text": [
      "mid: 1, mname: james, gender: 1\n",
      "mid: 2, mname: maria, gender: 2\n",
      "mid: 3, mname: 홍길동, gender: 1\n",
      "mid: 4, mname: 차정숙, gender: 2\n",
      "mid: 6, mname: 테스트, gender: 1\n"
     ]
    }
   ],
   "source": [
    "rows = mdao.get_members()\n",
    "for row in rows:\n",
    "    print(f'mid: {row[0]}, mname: {row[1]}, gender: {row[2]}')"
   ]
  },
  {
   "cell_type": "code",
   "execution_count": 4,
   "metadata": {},
   "outputs": [],
   "source": [
    "# name = request.form['name']\n",
    "# gender = request.form['gender']\n",
    "\n",
    "name, gender = '테스트', 1\n",
    "params = (name, gender)\n",
    "mdao.insert_member(params)"
   ]
  },
  {
   "cell_type": "code",
   "execution_count": 6,
   "metadata": {},
   "outputs": [
    {
     "data": {
      "text/plain": [
       "(6, '테스트', 1)"
      ]
     },
     "execution_count": 6,
     "metadata": {},
     "output_type": "execute_result"
    }
   ],
   "source": [
    "row = mdao.get_member_by_mid(6)\n",
    "row"
   ]
  },
  {
   "cell_type": "code",
   "execution_count": 7,
   "metadata": {},
   "outputs": [
    {
     "name": "stdout",
     "output_type": "stream",
     "text": [
      "mid: 1, mname: james, gender: 1\n",
      "mid: 2, mname: maria, gender: 2\n",
      "mid: 3, mname: 홍길동, gender: 1\n",
      "mid: 4, mname: 차정숙, gender: 2\n",
      "mid: 6, mname: 테스트2, gender: 2\n"
     ]
    }
   ],
   "source": [
    "params = ('테스트2', 2, 6)\n",
    "mdao.update_member(params)\n",
    "rows = mdao.get_members()\n",
    "for row in rows:\n",
    "    print(f'mid: {row[0]}, mname: {row[1]}, gender: {row[2]}')"
   ]
  },
  {
   "cell_type": "code",
   "execution_count": 8,
   "metadata": {},
   "outputs": [
    {
     "name": "stdout",
     "output_type": "stream",
     "text": [
      "mid: 1, mname: james, gender: 1\n",
      "mid: 2, mname: maria, gender: 2\n",
      "mid: 3, mname: 홍길동, gender: 1\n",
      "mid: 4, mname: 차정숙, gender: 2\n"
     ]
    }
   ],
   "source": [
    "mdao.delete_member(6)\n",
    "rows = mdao.get_members()\n",
    "for row in rows:\n",
    "    print(f'mid: {row[0]}, mname: {row[1]}, gender: {row[2]}')"
   ]
  }
 ],
 "metadata": {
  "kernelspec": {
   "display_name": "base",
   "language": "python",
   "name": "python3"
  },
  "language_info": {
   "codemirror_mode": {
    "name": "ipython",
    "version": 3
   },
   "file_extension": ".py",
   "mimetype": "text/x-python",
   "name": "python",
   "nbconvert_exporter": "python",
   "pygments_lexer": "ipython3",
   "version": "3.10.10"
  },
  "orig_nbformat": 4
 },
 "nbformat": 4,
 "nbformat_minor": 2
}
