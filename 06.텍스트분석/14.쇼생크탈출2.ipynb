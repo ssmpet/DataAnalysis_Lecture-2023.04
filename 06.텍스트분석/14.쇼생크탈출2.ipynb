{
 "cells": [
  {
   "cell_type": "code",
   "execution_count": 4,
   "metadata": {},
   "outputs": [],
   "source": [
    "from wordcloud import WordCloud, STOPWORDS\n",
    "from PIL import Image\n",
    "import numpy as np\n",
    "import matplotlib.pyplot as plt\n",
    "\n",
    "import time\n",
    "import pandas as pd\n",
    "from tqdm import tqdm\n",
    "\n",
    "from urllib.parse import quote\n",
    "from selenium import webdriver\n",
    "from selenium.webdriver.common.by import By\n",
    "from selenium.webdriver.common.keys import Keys\n",
    "from bs4 import BeautifulSoup\n",
    "import warnings\n",
    "warnings.filterwarnings('ignore')\n",
    "\n",
    "import os\n",
    "\n",
    "driver_name =  os.environ['HOMEDRIVE'] + os.environ['HOMEPATH'] + '\\\\downloads\\\\chromedriver.exe'"
   ]
  },
  {
   "cell_type": "code",
   "execution_count": 5,
   "metadata": {},
   "outputs": [],
   "source": [
    "\n",
    "imdburl = 'https://www.imdb.com/title/tt0111161/reviews/?ref_=tt_ql_2'\n",
    "driver = webdriver.Chrome(driver_name)\n",
    "driver.get(imdburl)\n",
    "time.sleep(2)"
   ]
  },
  {
   "attachments": {},
   "cell_type": "markdown",
   "metadata": {},
   "source": [
    "- \"Load More\" 버튼을 24회 눌러서 1000건의 데이터가 보이게 하기"
   ]
  },
  {
   "cell_type": "code",
   "execution_count": 6,
   "metadata": {},
   "outputs": [],
   "source": [
    "for i in range(3):\n",
    "    driver.find_element(By.ID, 'load-more-trigger').click()\n",
    "    time.sleep(3)"
   ]
  },
  {
   "attachments": {},
   "cell_type": "markdown",
   "metadata": {},
   "source": [
    "- 글 내용을 펼치는 아이콘 누르기\n",
    "    - 스포일러(class=\"expander-icon-wrapper show-more__control\")\n",
    "    - 긴 글(class=\"expander-icon-wrapper spoiler-warning__control\")"
   ]
  },
  {
   "cell_type": "code",
   "execution_count": 20,
   "metadata": {},
   "outputs": [
    {
     "name": "stdout",
     "output_type": "stream",
     "text": [
      "except\n",
      "except\n",
      "except\n",
      "except\n",
      "except\n",
      "except\n",
      "except\n",
      "except\n",
      "except\n",
      "except\n",
      "except\n",
      "except\n",
      "except\n",
      "except\n",
      "except\n",
      "except\n",
      "except\n",
      "except\n",
      "except\n",
      "except\n",
      "except\n",
      "except\n",
      "except\n",
      "except\n",
      "except\n",
      "except\n",
      "except\n",
      "except\n",
      "except\n",
      "except\n",
      "except\n",
      "except\n",
      "except\n",
      "except\n",
      "except\n",
      "except\n",
      "except\n",
      "except\n",
      "except\n",
      "except\n",
      "except\n",
      "except\n",
      "except\n"
     ]
    }
   ],
   "source": [
    "divs = driver.find_elements(By.CSS_SELECTOR, '.lister-item.mode-detail.imdb-user-review')\n",
    "\n",
    "count = 0\n",
    "for div in divs:\n",
    "    try:\n",
    "        div.find_element(By.CSS_SELECTOR, '.expander-icon-wrapper').click()\n",
    "        time.sleep(1)\n",
    "        count += 1\n",
    "    except:\n",
    "        print('except')\n",
    "        continue"
   ]
  },
  {
   "cell_type": "code",
   "execution_count": 21,
   "metadata": {},
   "outputs": [
    {
     "data": {
      "text/plain": [
       "(100, 57)"
      ]
     },
     "execution_count": 21,
     "metadata": {},
     "output_type": "execute_result"
    }
   ],
   "source": [
    "len(divs), count"
   ]
  },
  {
   "attachments": {},
   "cell_type": "markdown",
   "metadata": {},
   "source": [
    "- 화면이 모두 펼쳐지면 BeautifulSoup( or driver)으로 크롤링"
   ]
  },
  {
   "cell_type": "code",
   "execution_count": 22,
   "metadata": {},
   "outputs": [
    {
     "data": {
      "text/html": [
       "<div>\n",
       "<style scoped>\n",
       "    .dataframe tbody tr th:only-of-type {\n",
       "        vertical-align: middle;\n",
       "    }\n",
       "\n",
       "    .dataframe tbody tr th {\n",
       "        vertical-align: top;\n",
       "    }\n",
       "\n",
       "    .dataframe thead th {\n",
       "        text-align: right;\n",
       "    }\n",
       "</style>\n",
       "<table border=\"1\" class=\"dataframe\">\n",
       "  <thead>\n",
       "    <tr style=\"text-align: right;\">\n",
       "      <th></th>\n",
       "      <th>제목</th>\n",
       "      <th>평점</th>\n",
       "      <th>REVIEW:</th>\n",
       "    </tr>\n",
       "  </thead>\n",
       "  <tbody>\n",
       "    <tr>\n",
       "      <th>0</th>\n",
       "      <td>Some birds aren't meant to be caged.</td>\n",
       "      <td>10.0</td>\n",
       "      <td></td>\n",
       "    </tr>\n",
       "    <tr>\n",
       "      <th>1</th>\n",
       "      <td>An incredible movie. One that lives with you.</td>\n",
       "      <td>10.0</td>\n",
       "      <td>It is no wonder that the film has such a high ...</td>\n",
       "    </tr>\n",
       "    <tr>\n",
       "      <th>2</th>\n",
       "      <td>Don't Rent Shawshank.</td>\n",
       "      <td>10.0</td>\n",
       "      <td>I'm trying to save you money; this is the last...</td>\n",
       "    </tr>\n",
       "    <tr>\n",
       "      <th>3</th>\n",
       "      <td>This is How Movies Should Be Made</td>\n",
       "      <td>10.0</td>\n",
       "      <td>This movie is not your ordinary Hollywood flic...</td>\n",
       "    </tr>\n",
       "    <tr>\n",
       "      <th>4</th>\n",
       "      <td>A classic piece of unforgettable film-making.</td>\n",
       "      <td>10.0</td>\n",
       "      <td>In its Oscar year, Shawshank Redemption (writt...</td>\n",
       "    </tr>\n",
       "  </tbody>\n",
       "</table>\n",
       "</div>"
      ],
      "text/plain": [
       "                                              제목    평점   \n",
       "0           Some birds aren't meant to be caged.  10.0  \\\n",
       "1  An incredible movie. One that lives with you.  10.0   \n",
       "2                          Don't Rent Shawshank.  10.0   \n",
       "3              This is How Movies Should Be Made  10.0   \n",
       "4  A classic piece of unforgettable film-making.  10.0   \n",
       "\n",
       "                                             REVIEW:  \n",
       "0                                                     \n",
       "1  It is no wonder that the film has such a high ...  \n",
       "2  I'm trying to save you money; this is the last...  \n",
       "3  This movie is not your ordinary Hollywood flic...  \n",
       "4  In its Oscar year, Shawshank Redemption (writt...  "
      ]
     },
     "execution_count": 22,
     "metadata": {},
     "output_type": "execute_result"
    }
   ],
   "source": [
    "\n",
    "divs = driver.find_elements(By.CSS_SELECTOR, '.lister-item-content')\n",
    "\n",
    "con_list = []\n",
    "for div in divs:\n",
    "    title = div.find_element(By.CSS_SELECTOR, '.title').text\n",
    "    rate = div.find_elements(By.CSS_SELECTOR, '.rating-other-user-rating > span')\n",
    "    rating = np.nan if len(rate) ==0 else float(rate[0].text.strip())\n",
    "    \n",
    "    text = div.find_element(By.CSS_SELECTOR, '.text.show-more__control').text\n",
    "    con_list.append({'제목': title, '평점': rating, 'REVIEW:': text })\n",
    "\n",
    "df = pd.DataFrame(con_list)\n",
    "df.head()"
   ]
  },
  {
   "cell_type": "code",
   "execution_count": 13,
   "metadata": {},
   "outputs": [
    {
     "data": {
      "text/plain": [
       "(9.659090909090908, 7.0, 10.0)"
      ]
     },
     "execution_count": 13,
     "metadata": {},
     "output_type": "execute_result"
    }
   ],
   "source": [
    "df.평점.mean(), df.평점.min(), df.평점.max()"
   ]
  },
  {
   "attachments": {},
   "cell_type": "markdown",
   "metadata": {},
   "source": [
    "- Word Cloud 만들기"
   ]
  },
  {
   "cell_type": "code",
   "execution_count": 14,
   "metadata": {},
   "outputs": [
    {
     "ename": "AttributeError",
     "evalue": "'DataFrame' object has no attribute 'REVIEW'",
     "output_type": "error",
     "traceback": [
      "\u001b[1;31m---------------------------------------------------------------------------\u001b[0m",
      "\u001b[1;31mAttributeError\u001b[0m                            Traceback (most recent call last)",
      "Cell \u001b[1;32mIn[14], line 3\u001b[0m\n\u001b[0;32m      1\u001b[0m reviews \u001b[39m=\u001b[39m \u001b[39m'\u001b[39m\u001b[39m'\u001b[39m\n\u001b[0;32m      2\u001b[0m \u001b[39mfor\u001b[39;00m i \u001b[39min\u001b[39;00m df\u001b[39m.\u001b[39mindex:\n\u001b[1;32m----> 3\u001b[0m     reviews \u001b[39m+\u001b[39m\u001b[39m=\u001b[39m df\u001b[39m.\u001b[39m제목[i] \u001b[39m+\u001b[39m \u001b[39m'\u001b[39m\u001b[39m\\n\u001b[39;00m\u001b[39m'\u001b[39m \u001b[39m+\u001b[39m df\u001b[39m.\u001b[39;49mREVIEW[i] \u001b[39m+\u001b[39m \u001b[39m'\u001b[39m\u001b[39m\\n\u001b[39;00m\u001b[39m'\u001b[39m\n",
      "File \u001b[1;32mc:\\Users\\YONSAI\\anaconda3\\lib\\site-packages\\pandas\\core\\generic.py:5989\u001b[0m, in \u001b[0;36mNDFrame.__getattr__\u001b[1;34m(self, name)\u001b[0m\n\u001b[0;32m   5982\u001b[0m \u001b[39mif\u001b[39;00m (\n\u001b[0;32m   5983\u001b[0m     name \u001b[39mnot\u001b[39;00m \u001b[39min\u001b[39;00m \u001b[39mself\u001b[39m\u001b[39m.\u001b[39m_internal_names_set\n\u001b[0;32m   5984\u001b[0m     \u001b[39mand\u001b[39;00m name \u001b[39mnot\u001b[39;00m \u001b[39min\u001b[39;00m \u001b[39mself\u001b[39m\u001b[39m.\u001b[39m_metadata\n\u001b[0;32m   5985\u001b[0m     \u001b[39mand\u001b[39;00m name \u001b[39mnot\u001b[39;00m \u001b[39min\u001b[39;00m \u001b[39mself\u001b[39m\u001b[39m.\u001b[39m_accessors\n\u001b[0;32m   5986\u001b[0m     \u001b[39mand\u001b[39;00m \u001b[39mself\u001b[39m\u001b[39m.\u001b[39m_info_axis\u001b[39m.\u001b[39m_can_hold_identifiers_and_holds_name(name)\n\u001b[0;32m   5987\u001b[0m ):\n\u001b[0;32m   5988\u001b[0m     \u001b[39mreturn\u001b[39;00m \u001b[39mself\u001b[39m[name]\n\u001b[1;32m-> 5989\u001b[0m \u001b[39mreturn\u001b[39;00m \u001b[39mobject\u001b[39;49m\u001b[39m.\u001b[39;49m\u001b[39m__getattribute__\u001b[39;49m(\u001b[39mself\u001b[39;49m, name)\n",
      "\u001b[1;31mAttributeError\u001b[0m: 'DataFrame' object has no attribute 'REVIEW'"
     ]
    }
   ],
   "source": [
    "reviews = ''\n",
    "for i in df.index:\n",
    "    reviews += df.제목[i] + '\\n' + df.REVIEW[i] + '\\n'"
   ]
  },
  {
   "cell_type": "code",
   "execution_count": null,
   "metadata": {},
   "outputs": [],
   "source": [
    "def grey_color(word, font_size, position, orientation, random_state, **kwargs):\n",
    "    return f'hsl(0, 0%, {np.random.randint(60, 101)}%)'\n"
   ]
  },
  {
   "cell_type": "code",
   "execution_count": null,
   "metadata": {},
   "outputs": [],
   "source": [
    "sw = STOPWORDS\n",
    "# sw.add('movie')\n",
    "# sw.add('one')\n",
    "# sw.add('story')\n",
    "# sw.add('film')\n",
    "\n",
    "mask = np.array(Image.open('data/show.png'))\n",
    "wc = WordCloud(\n",
    "        mask=mask, max_words=1000, stopwords=sw,\n",
    "        margin=10, random_state=2023\n",
    "    ).generate(text)\n",
    "\n",
    "default_colors = wc.to_array\n",
    "\n",
    "plt.figure(figsize=(10, 10))\n",
    "plt.imshow(wc.recolor(color_func=grey_color, random_state=2023),\n",
    "           interpolation='bilinear')\n",
    "plt.axis('off')\n",
    "plt.show()"
   ]
  }
 ],
 "metadata": {
  "kernelspec": {
   "display_name": "base",
   "language": "python",
   "name": "python3"
  },
  "language_info": {
   "codemirror_mode": {
    "name": "ipython",
    "version": 3
   },
   "file_extension": ".py",
   "mimetype": "text/x-python",
   "name": "python",
   "nbconvert_exporter": "python",
   "pygments_lexer": "ipython3",
   "version": "3.10.10"
  },
  "orig_nbformat": 4
 },
 "nbformat": 4,
 "nbformat_minor": 2
}
