{
 "cells": [
  {
   "attachments": {},
   "cell_type": "markdown",
   "metadata": {},
   "source": [
    "### 한빛출판사 새로나온책"
   ]
  },
  {
   "cell_type": "code",
   "execution_count": 83,
   "metadata": {},
   "outputs": [],
   "source": [
    "import requests\n",
    "from urllib.parse import quote\n",
    "import pandas as pd\n",
    "from bs4 import BeautifulSoup\n",
    "from tqdm import tqdm\n",
    "from datetime import datetime "
   ]
  },
  {
   "cell_type": "code",
   "execution_count": 84,
   "metadata": {},
   "outputs": [],
   "source": [
    "# https://www.hanbit.co.kr/store/books/new_book_list.html?page=1&brand=&cate1=&cate2=&searchKey=&keyWord=\n",
    "base_url = 'https://www.hanbit.co.kr/academy/books/new_book_list.html?page='\n",
    "sub_url = 'https://www.hanbit.co.kr/academy/books/book_view.html?p_code='\n",
    "other_url = '&cate_cd=&srt=&searchKey=&keyWord='\n",
    "header = {'User-Agent': 'Mozilla/5.0 (Windows NT 10.0; Win64; x64) AppleWebKit/537.36 (KHTML, like Gecko) Chrome/112.0.0.0 Safari/537.36'}\n",
    "addr_head = 'https://www.hanbit.co.kr' "
   ]
  },
  {
   "cell_type": "code",
   "execution_count": 85,
   "metadata": {},
   "outputs": [],
   "source": [
    "url = f'{base_url}1{other_url}'\n",
    "result = requests.get(url, headers=header)\n",
    "soup = BeautifulSoup(result.text, 'html.parser')\n"
   ]
  },
  {
   "cell_type": "code",
   "execution_count": 86,
   "metadata": {},
   "outputs": [
    {
     "data": {
      "text/plain": [
       "20"
      ]
     },
     "execution_count": 86,
     "metadata": {},
     "output_type": "execute_result"
    }
   ],
   "source": [
    "lis = soup.select('.sub_book_list_area > li')\n",
    "len(lis)"
   ]
  },
  {
   "cell_type": "code",
   "execution_count": 87,
   "metadata": {},
   "outputs": [],
   "source": [
    "blist = lis[0]\n",
    "price = int(blist.select_one('.price').get_text().strip('원').replace(',', ''))\n",
    "title = blist.select_one('.book_tit > a').get_text().strip()\n",
    "author = blist.select_one('.book_writer').get_text().strip()\n",
    "img = addr_head + blist.select_one('.view_box_block > img')['src']\n"
   ]
  },
  {
   "cell_type": "code",
   "execution_count": 88,
   "metadata": {},
   "outputs": [
    {
     "name": "stderr",
     "output_type": "stream",
     "text": [
      "100%|██████████| 23/23 [00:18<00:00,  1.28it/s]\n"
     ]
    },
    {
     "data": {
      "text/html": [
       "<div>\n",
       "<style scoped>\n",
       "    .dataframe tbody tr th:only-of-type {\n",
       "        vertical-align: middle;\n",
       "    }\n",
       "\n",
       "    .dataframe tbody tr th {\n",
       "        vertical-align: top;\n",
       "    }\n",
       "\n",
       "    .dataframe thead th {\n",
       "        text-align: right;\n",
       "    }\n",
       "</style>\n",
       "<table border=\"1\" class=\"dataframe\">\n",
       "  <thead>\n",
       "    <tr style=\"text-align: right;\">\n",
       "      <th></th>\n",
       "      <th>title</th>\n",
       "      <th>author</th>\n",
       "      <th>price</th>\n",
       "      <th>img</th>\n",
       "    </tr>\n",
       "  </thead>\n",
       "  <tbody>\n",
       "    <tr>\n",
       "      <th>0</th>\n",
       "      <td>처음 배우는 매트랩</td>\n",
       "      <td>방성완</td>\n",
       "      <td>30000</td>\n",
       "      <td>https://www.hanbit.co.kr/data/books/B719243717...</td>\n",
       "    </tr>\n",
       "    <tr>\n",
       "      <th>1</th>\n",
       "      <td>SAS와 메타분석을 활용한 한번에 적용하는 의학보건통계</td>\n",
       "      <td>히든그레이스 데이터분석팀</td>\n",
       "      <td>34000</td>\n",
       "      <td>https://www.hanbit.co.kr/data/books/B911113579...</td>\n",
       "    </tr>\n",
       "    <tr>\n",
       "      <th>2</th>\n",
       "      <td>정보교과교육론(3판)</td>\n",
       "      <td>최현종 , 전용주</td>\n",
       "      <td>30000</td>\n",
       "      <td>https://www.hanbit.co.kr/data/books/B698322643...</td>\n",
       "    </tr>\n",
       "    <tr>\n",
       "      <th>3</th>\n",
       "      <td>IT CookBook, 기초전자실험 with PSpice(3판)</td>\n",
       "      <td>홍순관</td>\n",
       "      <td>22000</td>\n",
       "      <td>https://www.hanbit.co.kr/data/books/B543265656...</td>\n",
       "    </tr>\n",
       "    <tr>\n",
       "      <th>4</th>\n",
       "      <td>경제수학 강의(3판)</td>\n",
       "      <td>김성현</td>\n",
       "      <td>23000</td>\n",
       "      <td>https://www.hanbit.co.kr/data/books/B346928828...</td>\n",
       "    </tr>\n",
       "  </tbody>\n",
       "</table>\n",
       "</div>"
      ],
      "text/plain": [
       "                                 title         author  price   \n",
       "0                           처음 배우는 매트랩            방성완  30000  \\\n",
       "1       SAS와 메타분석을 활용한 한번에 적용하는 의학보건통계  히든그레이스 데이터분석팀  34000   \n",
       "2                          정보교과교육론(3판)      최현종 , 전용주  30000   \n",
       "3  IT CookBook, 기초전자실험 with PSpice(3판)            홍순관  22000   \n",
       "4                          경제수학 강의(3판)            김성현  23000   \n",
       "\n",
       "                                                 img  \n",
       "0  https://www.hanbit.co.kr/data/books/B719243717...  \n",
       "1  https://www.hanbit.co.kr/data/books/B911113579...  \n",
       "2  https://www.hanbit.co.kr/data/books/B698322643...  \n",
       "3  https://www.hanbit.co.kr/data/books/B543265656...  \n",
       "4  https://www.hanbit.co.kr/data/books/B346928828...  "
      ]
     },
     "execution_count": 88,
     "metadata": {},
     "output_type": "execute_result"
    }
   ],
   "source": [
    "lines = []\n",
    "for page in tqdm(range(1, 24)):\n",
    "    url = f'{base_url}{page}{other_url}'\n",
    "    result = requests.get(url, headers=header)\n",
    "    soup = BeautifulSoup(result.text, 'html.parser')\n",
    "\n",
    "    lis = soup.select('.sub_book_list_area > li')\n",
    "    for li in lis:\n",
    "        price = int(li.select_one('.price').get_text().strip('원').replace(',', ''))\n",
    "        title = li.select_one('.book_tit > a').get_text().strip()\n",
    "        author = li.select_one('.book_writer').get_text().strip()\n",
    "        img = addr_head + li.select_one('.view_box_block > img')['src']\n",
    "        lines.append({'title': title, 'author': author, 'price': price, 'img': img})\n",
    "\n",
    "df = pd.DataFrame(lines)\n",
    "df.head()\n",
    "\n"
   ]
  },
  {
   "cell_type": "code",
   "execution_count": 89,
   "metadata": {},
   "outputs": [],
   "source": [
    "now = datetime.now()\n",
    "cur_day = now.strftime('%Y%m%d')\n",
    "\n",
    "df.to_csv(f'data/{cur_day}_한빛아카데미새책.csv', index=False)"
   ]
  },
  {
   "attachments": {},
   "cell_type": "markdown",
   "metadata": {},
   "source": [
    "- sub page에서 가져오기"
   ]
  },
  {
   "cell_type": "code",
   "execution_count": 118,
   "metadata": {},
   "outputs": [
    {
     "name": "stderr",
     "output_type": "stream",
     "text": [
      "  0%|          | 0/1 [00:00<?, ?it/s]"
     ]
    },
    {
     "name": "stdout",
     "output_type": "stream",
     "text": [
      "[<span class=\"pbl\">정가 : </span>, <span class=\"pbr\"><del>30,000원</del></span>, <span class=\"pbl\"><strong>판매가 : </strong></span>, <span class=\"pbr\"><strong>30,000</strong>원<span>(0% off)</span></span>, <span class=\"pbl\">마일리지 : </span>, <span class=\"pbr\">900점 (3%)</span>]\n",
      "[<span class=\"pbl\">정가 : </span>, <span class=\"pbr\"><del>34,000원</del></span>, <span class=\"pbl\"><strong>판매가 : </strong></span>, <span class=\"pbr\"><strong>34,000</strong>원<span>(0% off)</span></span>, <span class=\"pbl\">마일리지 : </span>, <span class=\"pbr\">1,020점 (3%)</span>]\n",
      "[<span class=\"pbl\">정가 : </span>, <span class=\"pbr\"><del>30,000원</del></span>, <span class=\"pbl\"><strong>판매가 : </strong></span>, <span class=\"pbr\"><strong>30,000</strong>원<span>(0% off)</span></span>, <span class=\"pbl\">마일리지 : </span>, <span class=\"pbr\">900점 (3%)</span>]\n",
      "[<span class=\"pbl\">정가 : </span>, <span class=\"pbr\"><del>22,000원</del></span>, <span class=\"pbl\"><strong>판매가 : </strong></span>, <span class=\"pbr\"><strong>22,000</strong>원<span>(0% off)</span></span>, <span class=\"pbl\">마일리지 : </span>, <span class=\"pbr\">660점 (3%)</span>]\n",
      "[<span class=\"pbl\">정가 : </span>, <span class=\"pbr\"><del>23,000원</del></span>, <span class=\"pbl\"><strong>판매가 : </strong></span>, <span class=\"pbr\"><strong>23,000</strong>원<span>(0% off)</span></span>, <span class=\"pbl\">마일리지 : </span>, <span class=\"pbr\">690점 (3%)</span>]\n",
      "[<span class=\"pbl\">정가 : </span>, <span class=\"pbr\"><del>28,000원</del></span>, <span class=\"pbl\"><strong>판매가 : </strong></span>, <span class=\"pbr\"><strong>28,000</strong>원<span>(0% off)</span></span>, <span class=\"pbl\">마일리지 : </span>, <span class=\"pbr\">840점 (3%)</span>]\n",
      "[<span class=\"pbl\">정가 : </span>, <span class=\"pbr\"><del>32,000원</del></span>, <span class=\"pbl\"><strong>판매가 : </strong></span>, <span class=\"pbr\"><strong>32,000</strong>원<span>(0% off)</span></span>, <span class=\"pbl\">마일리지 : </span>, <span class=\"pbr\">960점 (3%)</span>]\n",
      "[<span class=\"pbl\">정가 : </span>, <span class=\"pbr\"><del>24,000원</del></span>, <span class=\"pbl\"><strong>판매가 : </strong></span>, <span class=\"pbr\"><strong>24,000</strong>원<span>(0% off)</span></span>, <span class=\"pbl\">마일리지 : </span>, <span class=\"pbr\">720점 (3%)</span>]\n",
      "[<span class=\"pbl\">정가 : </span>, <span class=\"pbr\"><del>28,000원</del></span>, <span class=\"pbl\"><strong>판매가 : </strong></span>, <span class=\"pbr\"><strong>28,000</strong>원<span>(0% off)</span></span>, <span class=\"pbl\">마일리지 : </span>, <span class=\"pbr\">840점 (3%)</span>]\n",
      "[<span class=\"pbl\">정가 : </span>, <span class=\"pbr\"><del>34,000원</del></span>, <span class=\"pbl\"><strong>판매가 : </strong></span>, <span class=\"pbr\"><strong>34,000</strong>원<span>(0% off)</span></span>, <span class=\"pbl\">마일리지 : </span>, <span class=\"pbr\">1,020점 (3%)</span>]\n",
      "[<span class=\"pbl\">정가 : </span>, <span class=\"pbr\"><del>34,000원</del></span>, <span class=\"pbl\"><strong>판매가 : </strong></span>, <span class=\"pbr\"><strong>34,000</strong>원<span>(0% off)</span></span>, <span class=\"pbl\">마일리지 : </span>, <span class=\"pbr\">1,020점 (3%)</span>]\n",
      "[<span class=\"pbl\">정가 : </span>, <span class=\"pbr\"><del>30,000원</del></span>, <span class=\"pbl\"><strong>판매가 : </strong></span>, <span class=\"pbr\"><strong>30,000</strong>원<span>(0% off)</span></span>, <span class=\"pbl\">마일리지 : </span>, <span class=\"pbr\">900점 (3%)</span>]\n",
      "[<span class=\"pbl\">정가 : </span>, <span class=\"pbr\"><del>39,000원</del></span>, <span class=\"pbl\"><strong>판매가 : </strong></span>, <span class=\"pbr\"><strong>39,000</strong>원<span>(0% off)</span></span>, <span class=\"pbl\">마일리지 : </span>, <span class=\"pbr\">1,170점 (3%)</span>]\n",
      "[<span class=\"pbl\">정가 : </span>, <span class=\"pbr\"><del>35,000원</del></span>, <span class=\"pbl\"><strong>판매가 : </strong></span>, <span class=\"pbr\"><strong>35,000</strong>원<span>(0% off)</span></span>, <span class=\"pbl\">마일리지 : </span>, <span class=\"pbr\">1,050점 (3%)</span>]\n",
      "[<span class=\"pbl\">정가 : </span>, <span class=\"pbr\"><del>32,000원</del></span>, <span class=\"pbl\"><strong>판매가 : </strong></span>, <span class=\"pbr\"><strong>32,000</strong>원<span>(0% off)</span></span>, <span class=\"pbl\">마일리지 : </span>, <span class=\"pbr\">960점 (3%)</span>]\n",
      "[<span class=\"pbl\">정가 : </span>, <span class=\"pbr\"><del>32,000원</del></span>, <span class=\"pbl\"><strong>판매가 : </strong></span>, <span class=\"pbr\"><strong>32,000</strong>원<span>(0% off)</span></span>, <span class=\"pbl\">마일리지 : </span>, <span class=\"pbr\">960점 (3%)</span>]\n"
     ]
    }
   ],
   "source": [
    "lines = []\n",
    "for page in tqdm(range(1, 2)):\n",
    "    url = f'{base_url}{page}{other_url}'\n",
    "    result = requests.get(url, headers=header)\n",
    "    soup = BeautifulSoup(result.text, 'html.parser')\n",
    "\n",
    "    lis = soup.select('.sub_book_list_area > li')\n",
    "    for li in lis:\n",
    "        price = int(li.select_one('.price').get_text().strip('원').replace(',', ''))\n",
    "        # title = li.select_one('.book_tit > a').get_text().strip()\n",
    "        # author = li.select_one('.book_writer').get_text().strip()\n",
    "        # img = addr_head + li.select_one('.view_box_block > img')['src']\n",
    "        sub_url = addr_head + li.select_one('.pop_quick_menu > a')['href']\n",
    "        sub_res = requests.get(sub_url, headers=header)\n",
    "        sub_soup = BeautifulSoup(sub_res.text, 'html.parser')\n",
    "        title = sub_soup.select_one('.store_product_info_box > h3').get_text().strip()\n",
    "        li_list = sub_soup.select('.info_list > li')\n",
    "        author = li_list[0].find('span').get_text().replace(' , ', ', ')\n",
    "        \n",
    "        if len(li_list) == 5:\n",
    "            translator = '-'\n",
    "        else:\n",
    "            translator = li_list[1].find('span').get_text().replace(' , ', ', ')\n",
    "        \n",
    "\n",
    "        # 출간일\n",
    "        rel_date = li_list[-4].find('span').get_text().strip()\n",
    "        # 페이지\n",
    "        book_page = li_list[-3].find('span').get_text().strip()[:-2]\n",
    "        # 가격정보\n",
    "        price = sub_soup.select('.payment_box.curr > p > span')\n",
    "        print(price)\n",
    "\n",
    "        # lines.append({'title': title, 'author': author, 'price': price, 'img': img})\n"
   ]
  },
  {
   "cell_type": "code",
   "execution_count": null,
   "metadata": {},
   "outputs": [],
   "source": []
  }
 ],
 "metadata": {
  "kernelspec": {
   "display_name": "base",
   "language": "python",
   "name": "python3"
  },
  "language_info": {
   "codemirror_mode": {
    "name": "ipython",
    "version": 3
   },
   "file_extension": ".py",
   "mimetype": "text/x-python",
   "name": "python",
   "nbconvert_exporter": "python",
   "pygments_lexer": "ipython3",
   "version": "3.10.10"
  },
  "orig_nbformat": 4
 },
 "nbformat": 4,
 "nbformat_minor": 2
}
