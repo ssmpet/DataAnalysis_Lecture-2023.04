{
 "cells": [
  {
   "attachments": {},
   "cell_type": "markdown",
   "metadata": {},
   "source": [
    "### 인터파크 - 베스트셀러"
   ]
  },
  {
   "cell_type": "code",
   "execution_count": 3,
   "metadata": {},
   "outputs": [],
   "source": [
    "import requests\n",
    "import pandas as pd\n",
    "from bs4 import BeautifulSoup\n",
    "from tqdm import tqdm\n",
    "from datetime import datetime"
   ]
  },
  {
   "cell_type": "code",
   "execution_count": 10,
   "metadata": {},
   "outputs": [],
   "source": [
    "url = \"http://book.interpark.com/display/collectlist.do?_method=BestsellerHourNew201605&bestTp=1&dispNo=028\"\n",
    "header = {'User-Agent': 'Mozilla/5.0 (Windows NT 10.0; Win64; x64) AppleWebKit/537.36 (KHTML, like Gecko) Chrome/112.0.0.0 Safari/537.36'}"
   ]
  },
  {
   "attachments": {},
   "cell_type": "markdown",
   "metadata": {},
   "source": [
    "- html 가져오기"
   ]
  },
  {
   "cell_type": "code",
   "execution_count": 17,
   "metadata": {},
   "outputs": [],
   "source": [
    "result = requests.get(url, headers=header)\n",
    "soup = BeautifulSoup(result.text, 'html.parser')"
   ]
  },
  {
   "attachments": {},
   "cell_type": "markdown",
   "metadata": {},
   "source": [
    "- 리스트 가져오기"
   ]
  },
  {
   "cell_type": "code",
   "execution_count": 18,
   "metadata": {},
   "outputs": [
    {
     "data": {
      "text/plain": [
       "15"
      ]
     },
     "execution_count": 18,
     "metadata": {},
     "output_type": "execute_result"
    }
   ],
   "source": [
    "lis = soup.select('.rankBestContentList > ol > li')\n",
    "len(lis)"
   ]
  },
  {
   "cell_type": "code",
   "execution_count": 19,
   "metadata": {},
   "outputs": [
    {
     "data": {
      "text/plain": [
       "<li>\n",
       "<!-- listItem | singleType or setType :: start -->\n",
       "<div class=\"listItem singleType\">\n",
       "<div class=\"cover\">\n",
       "<div class=\"coverImage\">\n",
       "<label>\n",
       "<a href=\"/product/BookDisplay.do?_method=detail&amp;sc.shopNo=0000400000&amp;sc.prdNo=356522531&amp;sc.saNo=003003001&amp;bid1=Best_zone&amp;bid2=LiveRanking&amp;bid3=PRD&amp;bid4=001\" target=\"_blank\">\n",
       "<span class=\"checkBox\">\n",
       "<input name=\"_KEY\" type=\"checkbox\" value=\"356522531\"/>\n",
       "</span>\n",
       "<img alt=\"세이노의 가르침\" src=\"http://bimage.interpark.com/goods_image/2/5/3/1/356522531s.jpg\"/>\n",
       "<i class=\"decoFront\"></i>\n",
       "</a>\n",
       "</label>\n",
       "</div>\n",
       "<div class=\"coverOption\">\n",
       "<ul>\n",
       "<li class=\"cart\">\n",
       "<a class=\"cartGo\" href=\"#\" value=\"356522531\"><span>CART</span></a>\n",
       "</li>\n",
       "<li class=\"buy\">\n",
       "<a href=\"javascript:directOrd('356522531');\"><span>BUY</span></a>\n",
       "</li>\n",
       "</ul>\n",
       "</div>\n",
       "<div class=\"rankNumber digit2\">\n",
       "<span class=\"rankBtn_ctrl rkNum_B01\"></span>\n",
       "</div>\n",
       "</div>\n",
       "<div class=\"itemIcon\">\n",
       "<span class=\"bestSeller\">베스트셀러</span>\n",
       "</div>\n",
       "<a href=\"/product/BookDisplay.do?_method=detail&amp;sc.shopNo=0000400000&amp;sc.prdNo=356522531&amp;sc.saNo=003003001&amp;bid1=Best_zone&amp;bid2=LiveRanking&amp;bid3=PRD&amp;bid4=001\" target=\"_blank\">\n",
       "<div class=\"itemName\"><strong>세이노의 가르침 </strong></div>\n",
       "<div class=\"itemMeta\">\n",
       "<span class=\"author\">세이노</span>\n",
       "<span class=\"company\">데이원</span>\n",
       "</div>\n",
       "<div class=\"priceWrap\">\n",
       "<span class=\"price\">\n",
       "<em>6,480</em>\n",
       "<span class=\"currency\">원</span>\n",
       "</span>\n",
       "<span class=\"benefits\">\n",
       "<span>(</span>\n",
       "<span class=\"discount\">\n",
       "<em>10%</em>\n",
       "<span class=\"unit\">할인</span>\n",
       "</span>\n",
       "<span class=\"save\">\n",
       "<em>5%</em>\n",
       "<span class=\"unit\">적립</span>\n",
       "</span>\n",
       "<span>)</span>\n",
       "</span>\n",
       "</div>\n",
       "</a>\n",
       "<div class=\"reviewStat\">\n",
       "<span class=\"title\">평점</span>\n",
       "<span class=\"starRateWrap\">\n",
       "<span class=\"starRate\" style=\"width:99%\">9.9</span>\n",
       "</span>\n",
       "<em class=\"rateNumber\">9.9</em>\n",
       "</div>\n",
       "<div class=\"saleIndex\">\n",
       "<span class=\"title\">판매지수</span>\n",
       "<em class=\"indexNumber\">235,492</em>\n",
       "</div>\n",
       "<div class=\"relatedEvent\">\n",
       "<ul>\n",
       "<li>\n",
       "<a href=\"http://book.interpark.com/book/genbookeventaction.do?_method=EventPlan&amp;sc.evtNo=242643\" target=\"_blank\">[기획] 최초 한국 공연 &lt;식스 ...</a>\n",
       "</li>\n",
       "<li>\n",
       "<a href=\"http://book.interpark.com/book/genbookeventaction.do?_method=EventPlan&amp;sc.evtNo=242639\" target=\"_blank\">[기획] 카카오페이와 도서상품권 ...</a>\n",
       "</li>\n",
       "</ul>\n",
       "</div>\n",
       "</div>\n",
       "<!-- singleType or setType :: end -->\n",
       "</li>"
      ]
     },
     "execution_count": 19,
     "metadata": {},
     "output_type": "execute_result"
    }
   ],
   "source": [
    "li = lis[0]\n",
    "li"
   ]
  },
  {
   "cell_type": "code",
   "execution_count": 30,
   "metadata": {},
   "outputs": [
    {
     "name": "stdout",
     "output_type": "stream",
     "text": [
      "1\n"
     ]
    }
   ],
   "source": [
    "# 랭크 가져오기\n",
    "# 랭크값이 1개\n",
    "li = lis[0]\n",
    "ranks = li.select_one('.rankNumber > span')['class'][1][-1]\n",
    "print(ranks)\n",
    "# for rank in ranks:\n",
    "#     print(rank)"
   ]
  },
  {
   "cell_type": "code",
   "execution_count": 41,
   "metadata": {},
   "outputs": [
    {
     "name": "stdout",
     "output_type": "stream",
     "text": [
      "13"
     ]
    }
   ],
   "source": [
    "# 랭크 값이2\n",
    "li = lis[12]\n",
    "ranks = li.select('.rankNumber > span')\n",
    "for rank in ranks:\n",
    "    print(rank['class'][1][-1], end='')"
   ]
  },
  {
   "cell_type": "code",
   "execution_count": 45,
   "metadata": {},
   "outputs": [
    {
     "name": "stdout",
     "output_type": "stream",
     "text": [
      "13\n"
     ]
    }
   ],
   "source": [
    "# 랭크 값이2\n",
    "li = lis[12]\n",
    "ranks = li.select('.rankBtn_ctrl')\n",
    "rank_data = ''\n",
    "for rank in ranks:\n",
    "    rank_data += rank['class'][-1][-1]\n",
    "    \n",
    "print(int(rank_data))"
   ]
  },
  {
   "cell_type": "code",
   "execution_count": 46,
   "metadata": {},
   "outputs": [],
   "source": [
    "# 랭크 함수\n",
    "def get_rank(ranks):\n",
    "    \n",
    "    if len(ranks) == 1:\n",
    "        return int(rank['class'][-1][-1])\n",
    "    else:\n",
    "        return int(rank['class'][0][-1] + rank['class'][-1][-1])\n"
   ]
  },
  {
   "cell_type": "code",
   "execution_count": 47,
   "metadata": {},
   "outputs": [
    {
     "data": {
      "text/plain": [
       "'사랑해 사랑해 사랑해(출간 15주년 기념판)'"
      ]
     },
     "execution_count": 47,
     "metadata": {},
     "output_type": "execute_result"
    }
   ],
   "source": [
    "# 제목\n",
    "title = li.select_one('.itemName').get_text().strip()\n",
    "title"
   ]
  },
  {
   "cell_type": "code",
   "execution_count": 49,
   "metadata": {},
   "outputs": [
    {
     "data": {
      "text/plain": [
       "'버나뎃 로제티 슈스탁/신형건 역/캐롤라인 제인 처치 그림'"
      ]
     },
     "execution_count": 49,
     "metadata": {},
     "output_type": "execute_result"
    }
   ],
   "source": [
    "# 저자\n",
    "author = li.select_one('.author').get_text().strip()\n",
    "author"
   ]
  },
  {
   "cell_type": "code",
   "execution_count": 50,
   "metadata": {},
   "outputs": [
    {
     "data": {
      "text/plain": [
       "'보물창고'"
      ]
     },
     "execution_count": 50,
     "metadata": {},
     "output_type": "execute_result"
    }
   ],
   "source": [
    "# 출판사\n",
    "company = li.select_one('.company').get_text().strip()\n",
    "company"
   ]
  },
  {
   "cell_type": "code",
   "execution_count": 53,
   "metadata": {},
   "outputs": [
    {
     "data": {
      "text/plain": [
       "10620"
      ]
     },
     "execution_count": 53,
     "metadata": {},
     "output_type": "execute_result"
    }
   ],
   "source": [
    "# 가격 \n",
    "price = int(li.select_one('.price > em').get_text().strip().replace(',', ''))\n",
    "price"
   ]
  },
  {
   "attachments": {},
   "cell_type": "markdown",
   "metadata": {},
   "source": [
    "- 각각의 정보들 가져오기"
   ]
  },
  {
   "cell_type": "code",
   "execution_count": 60,
   "metadata": {},
   "outputs": [
    {
     "name": "stderr",
     "output_type": "stream",
     "text": [
      "100%|██████████| 15/15 [00:00<00:00, 441.43it/s]\n"
     ]
    },
    {
     "data": {
      "text/html": [
       "<div>\n",
       "<style scoped>\n",
       "    .dataframe tbody tr th:only-of-type {\n",
       "        vertical-align: middle;\n",
       "    }\n",
       "\n",
       "    .dataframe tbody tr th {\n",
       "        vertical-align: top;\n",
       "    }\n",
       "\n",
       "    .dataframe thead th {\n",
       "        text-align: right;\n",
       "    }\n",
       "</style>\n",
       "<table border=\"1\" class=\"dataframe\">\n",
       "  <thead>\n",
       "    <tr style=\"text-align: right;\">\n",
       "      <th></th>\n",
       "      <th>제목</th>\n",
       "      <th>저자</th>\n",
       "      <th>랭크</th>\n",
       "      <th>출판사</th>\n",
       "      <th>판매가</th>\n",
       "    </tr>\n",
       "  </thead>\n",
       "  <tbody>\n",
       "    <tr>\n",
       "      <th>0</th>\n",
       "      <td>세이노의 가르침</td>\n",
       "      <td>세이노</td>\n",
       "      <td>1</td>\n",
       "      <td>데이원</td>\n",
       "      <td>6,480</td>\n",
       "    </tr>\n",
       "    <tr>\n",
       "      <th>1</th>\n",
       "      <td>이지성의 1만 킬로미터</td>\n",
       "      <td>이지성</td>\n",
       "      <td>2</td>\n",
       "      <td>차이정원</td>\n",
       "      <td>16,200</td>\n",
       "    </tr>\n",
       "    <tr>\n",
       "      <th>2</th>\n",
       "      <td>건강과 다이어트를 동시에 잡는 7대 3의 법칙 채소·과일식</td>\n",
       "      <td>조승우</td>\n",
       "      <td>3</td>\n",
       "      <td>바이북스</td>\n",
       "      <td>17,100</td>\n",
       "    </tr>\n",
       "    <tr>\n",
       "      <th>3</th>\n",
       "      <td>흔한남매 13</td>\n",
       "      <td>흔한남매, 백난도/유난희 그림/흔한컴퍼니 감수</td>\n",
       "      <td>4</td>\n",
       "      <td>미래엔아이세움</td>\n",
       "      <td>13,050</td>\n",
       "    </tr>\n",
       "    <tr>\n",
       "      <th>4</th>\n",
       "      <td>고래</td>\n",
       "      <td>천명관</td>\n",
       "      <td>4</td>\n",
       "      <td>문학동네</td>\n",
       "      <td>13,500</td>\n",
       "    </tr>\n",
       "    <tr>\n",
       "      <th>5</th>\n",
       "      <td>오십의 기술</td>\n",
       "      <td>이호선</td>\n",
       "      <td>6</td>\n",
       "      <td>카시오페아</td>\n",
       "      <td>16,200</td>\n",
       "    </tr>\n",
       "    <tr>\n",
       "      <th>6</th>\n",
       "      <td>감정에 휘둘리는 아이 감정을 잘 다루는 아이</td>\n",
       "      <td>손승현</td>\n",
       "      <td>7</td>\n",
       "      <td>빅피시</td>\n",
       "      <td>15,120</td>\n",
       "    </tr>\n",
       "    <tr>\n",
       "      <th>7</th>\n",
       "      <td>몰입 합본판</td>\n",
       "      <td></td>\n",
       "      <td>7</td>\n",
       "      <td>알에이치코리아</td>\n",
       "      <td>28,800</td>\n",
       "    </tr>\n",
       "    <tr>\n",
       "      <th>8</th>\n",
       "      <td>요즘 어른을 위한 최소한의 맞춤법</td>\n",
       "      <td>이주윤</td>\n",
       "      <td>7</td>\n",
       "      <td>빅피시</td>\n",
       "      <td>15,120</td>\n",
       "    </tr>\n",
       "    <tr>\n",
       "      <th>9</th>\n",
       "      <td>설민석의 한국사 대모험 24</td>\n",
       "      <td>설민석, 스토리박스/정현희 그림/강석화 감수</td>\n",
       "      <td>7</td>\n",
       "      <td>단꿈아이</td>\n",
       "      <td>11,700</td>\n",
       "    </tr>\n",
       "    <tr>\n",
       "      <th>10</th>\n",
       "      <td>내면소통</td>\n",
       "      <td>김주환</td>\n",
       "      <td>7</td>\n",
       "      <td>인플루엔셜</td>\n",
       "      <td>29,700</td>\n",
       "    </tr>\n",
       "    <tr>\n",
       "      <th>11</th>\n",
       "      <td>이미 늦었다고 생각하는 당신을 위한 김미경의 마흔 수업</td>\n",
       "      <td>김미경</td>\n",
       "      <td>7</td>\n",
       "      <td>어웨이크북스</td>\n",
       "      <td>16,200</td>\n",
       "    </tr>\n",
       "    <tr>\n",
       "      <th>12</th>\n",
       "      <td>사랑해 사랑해 사랑해(출간 15주년 기념판)</td>\n",
       "      <td>버나뎃 로제티 슈스탁/신형건 역/캐롤라인 제인 처치 그림</td>\n",
       "      <td>13</td>\n",
       "      <td>보물창고</td>\n",
       "      <td>10,620</td>\n",
       "    </tr>\n",
       "    <tr>\n",
       "      <th>13</th>\n",
       "      <td>꽃을 보듯 너를 본다</td>\n",
       "      <td></td>\n",
       "      <td>13</td>\n",
       "      <td>지혜</td>\n",
       "      <td>9,900</td>\n",
       "    </tr>\n",
       "    <tr>\n",
       "      <th>14</th>\n",
       "      <td>돈의 속성(200쇄 리커버에디션)</td>\n",
       "      <td>김승호</td>\n",
       "      <td>13</td>\n",
       "      <td>스노우폭스북스</td>\n",
       "      <td>16,020</td>\n",
       "    </tr>\n",
       "  </tbody>\n",
       "</table>\n",
       "</div>"
      ],
      "text/plain": [
       "                                  제목                               저자  랭크   \n",
       "0                           세이노의 가르침                              세이노   1  \\\n",
       "1                       이지성의 1만 킬로미터                              이지성   2   \n",
       "2   건강과 다이어트를 동시에 잡는 7대 3의 법칙 채소·과일식                              조승우   3   \n",
       "3                            흔한남매 13        흔한남매, 백난도/유난희 그림/흔한컴퍼니 감수   4   \n",
       "4                                 고래                              천명관   4   \n",
       "5                             오십의 기술                              이호선   6   \n",
       "6           감정에 휘둘리는 아이 감정을 잘 다루는 아이                              손승현   7   \n",
       "7                             몰입 합본판                                    7   \n",
       "8                 요즘 어른을 위한 최소한의 맞춤법                              이주윤   7   \n",
       "9                    설민석의 한국사 대모험 24         설민석, 스토리박스/정현희 그림/강석화 감수   7   \n",
       "10                              내면소통                              김주환   7   \n",
       "11    이미 늦었다고 생각하는 당신을 위한 김미경의 마흔 수업                              김미경   7   \n",
       "12          사랑해 사랑해 사랑해(출간 15주년 기념판)  버나뎃 로제티 슈스탁/신형건 역/캐롤라인 제인 처치 그림  13   \n",
       "13                       꽃을 보듯 너를 본다                                   13   \n",
       "14                돈의 속성(200쇄 리커버에디션)                              김승호  13   \n",
       "\n",
       "        출판사     판매가  \n",
       "0       데이원   6,480  \n",
       "1      차이정원  16,200  \n",
       "2      바이북스  17,100  \n",
       "3   미래엔아이세움  13,050  \n",
       "4      문학동네  13,500  \n",
       "5     카시오페아  16,200  \n",
       "6       빅피시  15,120  \n",
       "7   알에이치코리아  28,800  \n",
       "8       빅피시  15,120  \n",
       "9      단꿈아이  11,700  \n",
       "10    인플루엔셜  29,700  \n",
       "11   어웨이크북스  16,200  \n",
       "12     보물창고  10,620  \n",
       "13       지혜   9,900  \n",
       "14  스노우폭스북스  16,020  "
      ]
     },
     "execution_count": 60,
     "metadata": {},
     "output_type": "execute_result"
    }
   ],
   "source": [
    "lines = []\n",
    "for li in tqdm(lis):\n",
    "    \n",
    "    rank_data = li.select('.rankBtn_ctrl')\n",
    "    if len(rank_data) == 1:\n",
    "        rank = int(rank_data[0]['class'][-1][-1])\n",
    "    else:\n",
    "        rank = int(rank_data[0]['class'][-1][-1] + rank_data[-1]['class'][-1][-1])\n",
    "\n",
    "    title = li.select_one('.itemName').get_text().strip()\n",
    "    author = li.select_one('.author').get_text().strip()\n",
    "    company = li.select_one('.company').get_text().strip()\n",
    "    price = li.select_one('.price > em').get_text().strip()\n",
    "    lines.append({'제목':title, '저자': author, '랭크': rank, '출판사': company, '판매가': price})\n",
    "\n",
    "df = pd.DataFrame(lines)      \n",
    "df\n"
   ]
  },
  {
   "cell_type": "code",
   "execution_count": null,
   "metadata": {},
   "outputs": [],
   "source": [
    "# 현재날짜로 저장\n",
    "now = datetime.now()\n",
    "cur_day = now.strftime('%Y%m%d')\n",
    "\n",
    "df.to_csv(f'data/{cur_day}_인터파크베스트.csv', index=False)"
   ]
  }
 ],
 "metadata": {
  "kernelspec": {
   "display_name": "base",
   "language": "python",
   "name": "python3"
  },
  "language_info": {
   "codemirror_mode": {
    "name": "ipython",
    "version": 3
   },
   "file_extension": ".py",
   "mimetype": "text/x-python",
   "name": "python",
   "nbconvert_exporter": "python",
   "pygments_lexer": "ipython3",
   "version": "3.10.10"
  },
  "orig_nbformat": 4
 },
 "nbformat": 4,
 "nbformat_minor": 2
}
