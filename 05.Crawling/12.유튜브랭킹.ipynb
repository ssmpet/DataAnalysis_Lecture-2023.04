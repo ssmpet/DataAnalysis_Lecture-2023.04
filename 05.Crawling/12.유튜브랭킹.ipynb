{
 "cells": [
  {
   "attachments": {},
   "cell_type": "markdown",
   "metadata": {},
   "source": [
    "- 유튜브랭킹"
   ]
  },
  {
   "cell_type": "code",
   "execution_count": 116,
   "metadata": {},
   "outputs": [],
   "source": [
    "import requests\n",
    "import pandas as pd\n",
    "from bs4 import BeautifulSoup\n",
    "from tqdm import tqdm\n",
    "from datetime import datetime\n",
    "from urllib.parse import quote\n",
    "from selenium import webdriver\n",
    "import warnings\n",
    "warnings.filterwarnings('ignore')\n",
    "\n",
    "from selenium.webdriver.common.keys import Keys\n",
    "from selenium.webdriver.common.by import By\n",
    "import time\n",
    "from datetime import datetime, timedelta"
   ]
  },
  {
   "cell_type": "code",
   "execution_count": 117,
   "metadata": {},
   "outputs": [],
   "source": [
    "url = 'https://youtube-rank.com/board/bbs/board.php?bo_table=youtube&page='\n",
    "driver = webdriver.Chrome('C:/Users/YONSAI/Downloads/chromedriver_win32/chromedriver.exe')\n"
   ]
  },
  {
   "cell_type": "code",
   "execution_count": 118,
   "metadata": {},
   "outputs": [],
   "source": [
    "result = requests.get(url+str(1))\n",
    "soup = BeautifulSoup(result.text, 'html.parser')\n",
    "lis = soup.select('form > table > tbody> tr')"
   ]
  },
  {
   "cell_type": "code",
   "execution_count": 119,
   "metadata": {},
   "outputs": [
    {
     "data": {
      "text/plain": [
       "<td class=\"rank\">\n",
       "                        1                    </td>"
      ]
     },
     "execution_count": 119,
     "metadata": {},
     "output_type": "execute_result"
    }
   ],
   "source": [
    "len(lis)\n",
    "rank = lis[0].select_one('.rank')\n",
    "rank"
   ]
  },
  {
   "cell_type": "code",
   "execution_count": 120,
   "metadata": {},
   "outputs": [],
   "source": [
    "# 자동으로 해줌\n",
    "driver.get(url+str(2))\n",
    "body = driver.find_element(By.TAG_NAME, 'body')\n",
    "for _ in range(20):\n",
    "    body.send_keys(Keys.PAGE_DOWN)\n",
    "    time.sleep(1)"
   ]
  },
  {
   "cell_type": "code",
   "execution_count": 121,
   "metadata": {},
   "outputs": [],
   "source": [
    "soup = BeautifulSoup(driver.page_source)"
   ]
  },
  {
   "cell_type": "code",
   "execution_count": 122,
   "metadata": {},
   "outputs": [],
   "source": [
    "driver.close()"
   ]
  },
  {
   "cell_type": "code",
   "execution_count": 123,
   "metadata": {},
   "outputs": [
    {
     "data": {
      "text/plain": [
       "100"
      ]
     },
     "execution_count": 123,
     "metadata": {},
     "output_type": "execute_result"
    }
   ],
   "source": [
    "lis = soup.select('.aos-init')\n",
    "len(lis)"
   ]
  },
  {
   "cell_type": "code",
   "execution_count": 124,
   "metadata": {},
   "outputs": [],
   "source": [
    "li = lis[0]"
   ]
  },
  {
   "cell_type": "code",
   "execution_count": 125,
   "metadata": {},
   "outputs": [
    {
     "data": {
      "text/plain": [
       "'102'"
      ]
     },
     "execution_count": 125,
     "metadata": {},
     "output_type": "execute_result"
    }
   ],
   "source": [
    "# rank\n",
    "rank = li.select_one('.rank').get_text().strip()\n",
    "rank"
   ]
  },
  {
   "cell_type": "code",
   "execution_count": 126,
   "metadata": {},
   "outputs": [
    {
     "data": {
      "text/plain": [
       "'[TV/방송]'"
      ]
     },
     "execution_count": 126,
     "metadata": {},
     "output_type": "execute_result"
    }
   ],
   "source": [
    "# category\n",
    "category = li.select_one('.category').get_text().strip()\n",
    "category"
   ]
  },
  {
   "cell_type": "code",
   "execution_count": 127,
   "metadata": {},
   "outputs": [
    {
     "data": {
      "text/plain": [
       "'JTBC Drama'"
      ]
     },
     "execution_count": 127,
     "metadata": {},
     "output_type": "execute_result"
    }
   ],
   "source": [
    "# channel 명\n",
    "channel = li.select_one('h1 > a').get_text().strip()\n",
    "channel"
   ]
  },
  {
   "cell_type": "code",
   "execution_count": 128,
   "metadata": {},
   "outputs": [
    {
     "data": {
      "text/plain": [
       "'4730000'"
      ]
     },
     "execution_count": 128,
     "metadata": {},
     "output_type": "execute_result"
    }
   ],
   "source": [
    "# 구독자\n",
    "subscriber = li.select_one('.subscriber_cnt').get_text().strip()\n",
    "subscriber = subscriber.replace('만', '0000')\n",
    "subscriber"
   ]
  },
  {
   "cell_type": "code",
   "execution_count": 129,
   "metadata": {},
   "outputs": [
    {
     "data": {
      "text/plain": [
       "'5238230000'"
      ]
     },
     "execution_count": 129,
     "metadata": {},
     "output_type": "execute_result"
    }
   ],
   "source": [
    "# view 순\n",
    "view = li.select_one('.view_cnt').get_text().strip()\n",
    "view = view.replace('억', '').replace('만','0000')\n",
    "view"
   ]
  },
  {
   "cell_type": "code",
   "execution_count": 130,
   "metadata": {},
   "outputs": [
    {
     "data": {
      "text/plain": [
       "'27,755'"
      ]
     },
     "execution_count": 130,
     "metadata": {},
     "output_type": "execute_result"
    }
   ],
   "source": [
    "# video 순\n",
    "video = li.select_one('.video_cnt').get_text().strip()\n",
    "video = video.replace('개', '')\n",
    "video\n"
   ]
  },
  {
   "cell_type": "code",
   "execution_count": 131,
   "metadata": {},
   "outputs": [],
   "source": [
    "# 숫자로 바꿔주는 함수\n",
    "import re\n",
    "\n",
    "def convert_num(s):\n",
    "    s = re.sub('[,억개 ]', '', s).replace('만', '0000')\n",
    "    return int(s)"
   ]
  },
  {
   "cell_type": "code",
   "execution_count": 132,
   "metadata": {},
   "outputs": [
    {
     "data": {
      "text/html": [
       "<div>\n",
       "<style scoped>\n",
       "    .dataframe tbody tr th:only-of-type {\n",
       "        vertical-align: middle;\n",
       "    }\n",
       "\n",
       "    .dataframe tbody tr th {\n",
       "        vertical-align: top;\n",
       "    }\n",
       "\n",
       "    .dataframe thead th {\n",
       "        text-align: right;\n",
       "    }\n",
       "</style>\n",
       "<table border=\"1\" class=\"dataframe\">\n",
       "  <thead>\n",
       "    <tr style=\"text-align: right;\">\n",
       "      <th></th>\n",
       "      <th>순위</th>\n",
       "      <th>카테고리</th>\n",
       "      <th>채널</th>\n",
       "      <th>구독자수</th>\n",
       "      <th>조회수</th>\n",
       "      <th>비디오</th>\n",
       "    </tr>\n",
       "  </thead>\n",
       "  <tbody>\n",
       "    <tr>\n",
       "      <th>0</th>\n",
       "      <td>102</td>\n",
       "      <td>TV/방송</td>\n",
       "      <td>JTBC Drama</td>\n",
       "      <td>4730000</td>\n",
       "      <td>5238230000</td>\n",
       "      <td>27755</td>\n",
       "    </tr>\n",
       "    <tr>\n",
       "      <th>1</th>\n",
       "      <td>101</td>\n",
       "      <td>음식/요리/레시피</td>\n",
       "      <td>까니짱 [ G-NI : 蟹ちゃん]</td>\n",
       "      <td>4730000</td>\n",
       "      <td>1395430000</td>\n",
       "      <td>763</td>\n",
       "    </tr>\n",
       "    <tr>\n",
       "      <th>2</th>\n",
       "      <td>103</td>\n",
       "      <td>게임</td>\n",
       "      <td>EA SPORTS FIFA</td>\n",
       "      <td>4570000</td>\n",
       "      <td>842240000</td>\n",
       "      <td>803</td>\n",
       "    </tr>\n",
       "    <tr>\n",
       "      <th>3</th>\n",
       "      <td>105</td>\n",
       "      <td>음악/댄스/가수</td>\n",
       "      <td>STUDIO CHOOM [스튜디오 춤]</td>\n",
       "      <td>4470000</td>\n",
       "      <td>2433290000</td>\n",
       "      <td>1460</td>\n",
       "    </tr>\n",
       "    <tr>\n",
       "      <th>4</th>\n",
       "      <td>104</td>\n",
       "      <td>TV/방송</td>\n",
       "      <td>채널 NCT DAILY</td>\n",
       "      <td>4470000</td>\n",
       "      <td>849730000</td>\n",
       "      <td>467</td>\n",
       "    </tr>\n",
       "  </tbody>\n",
       "</table>\n",
       "</div>"
      ],
      "text/plain": [
       "    순위       카테고리                     채널     구독자수         조회수    비디오\n",
       "0  102      TV/방송             JTBC Drama  4730000  5238230000  27755\n",
       "1  101  음식/요리/레시피     까니짱 [ G-NI : 蟹ちゃん]  4730000  1395430000    763\n",
       "2  103         게임         EA SPORTS FIFA  4570000   842240000    803\n",
       "3  105   음악/댄스/가수  STUDIO CHOOM [스튜디오 춤]  4470000  2433290000   1460\n",
       "4  104      TV/방송           채널 NCT DAILY  4470000   849730000    467"
      ]
     },
     "execution_count": 132,
     "metadata": {},
     "output_type": "execute_result"
    }
   ],
   "source": [
    "# import re\n",
    "# re.sub('[개,]', '', )\n",
    "lines = []\n",
    "for li in lis:\n",
    "    rank = int(li.select_one('.rank').get_text().strip())\n",
    "    category = li.select_one('.category').get_text().strip().strip('[]')\n",
    "    channel = li.select_one('h1 > a').get_text().strip()\n",
    "    \n",
    "    subscriber = convert_num(li.select_one('.subscriber_cnt').get_text())\n",
    "    view = convert_num(li.select_one('.view_cnt').get_text())\n",
    "    video = convert_num(li.select_one('.video_cnt').get_text())\n",
    "\n",
    "    lines.append({'순위': rank, '카테고리': category, '채널': channel, '구독자수': subscriber, '조회수': view, '비디오': video})\n",
    "\n",
    "df = pd.DataFrame(lines)  \n",
    "df.head()   "
   ]
  },
  {
   "cell_type": "code",
   "execution_count": 133,
   "metadata": {},
   "outputs": [
    {
     "data": {
      "text/html": [
       "<div>\n",
       "<style scoped>\n",
       "    .dataframe tbody tr th:only-of-type {\n",
       "        vertical-align: middle;\n",
       "    }\n",
       "\n",
       "    .dataframe tbody tr th {\n",
       "        vertical-align: top;\n",
       "    }\n",
       "\n",
       "    .dataframe thead th {\n",
       "        text-align: right;\n",
       "    }\n",
       "</style>\n",
       "<table border=\"1\" class=\"dataframe\">\n",
       "  <thead>\n",
       "    <tr style=\"text-align: right;\">\n",
       "      <th></th>\n",
       "      <th>순위</th>\n",
       "      <th>카테고리</th>\n",
       "      <th>채널</th>\n",
       "      <th>구독자수</th>\n",
       "      <th>조회수</th>\n",
       "      <th>비디오</th>\n",
       "    </tr>\n",
       "  </thead>\n",
       "  <tbody>\n",
       "    <tr>\n",
       "      <th>95</th>\n",
       "      <td>196</td>\n",
       "      <td>음식/요리/레시피</td>\n",
       "      <td>한세 HANSE</td>\n",
       "      <td>2700000</td>\n",
       "      <td>446510000</td>\n",
       "      <td>675</td>\n",
       "    </tr>\n",
       "    <tr>\n",
       "      <th>96</th>\n",
       "      <td>197</td>\n",
       "      <td>해외</td>\n",
       "      <td>The Wiggles</td>\n",
       "      <td>2670000</td>\n",
       "      <td>3615310000</td>\n",
       "      <td>798</td>\n",
       "    </tr>\n",
       "    <tr>\n",
       "      <th>97</th>\n",
       "      <td>198</td>\n",
       "      <td>교육/강의</td>\n",
       "      <td>슈카월드</td>\n",
       "      <td>2660000</td>\n",
       "      <td>682060000</td>\n",
       "      <td>1370</td>\n",
       "    </tr>\n",
       "    <tr>\n",
       "      <th>98</th>\n",
       "      <td>199</td>\n",
       "      <td>취미/라이프</td>\n",
       "      <td>ASMR PPOMO</td>\n",
       "      <td>2640000</td>\n",
       "      <td>792780000</td>\n",
       "      <td>590</td>\n",
       "    </tr>\n",
       "    <tr>\n",
       "      <th>99</th>\n",
       "      <td>200</td>\n",
       "      <td>BJ/인물/연예인</td>\n",
       "      <td>진용진</td>\n",
       "      <td>2630000</td>\n",
       "      <td>930860000</td>\n",
       "      <td>538</td>\n",
       "    </tr>\n",
       "  </tbody>\n",
       "</table>\n",
       "</div>"
      ],
      "text/plain": [
       "     순위       카테고리           채널     구독자수         조회수   비디오\n",
       "95  196  음식/요리/레시피     한세 HANSE  2700000   446510000   675\n",
       "96  197         해외  The Wiggles  2670000  3615310000   798\n",
       "97  198      교육/강의         슈카월드  2660000   682060000  1370\n",
       "98  199     취미/라이프   ASMR PPOMO  2640000   792780000   590\n",
       "99  200  BJ/인물/연예인          진용진  2630000   930860000   538"
      ]
     },
     "execution_count": 133,
     "metadata": {},
     "output_type": "execute_result"
    }
   ],
   "source": [
    "df.tail()"
   ]
  },
  {
   "attachments": {},
   "cell_type": "markdown",
   "metadata": {},
   "source": [
    "- selenuim 쓰면서 가져오기"
   ]
  },
  {
   "cell_type": "code",
   "execution_count": 137,
   "metadata": {},
   "outputs": [],
   "source": [
    "curl = 'https://youtube-rank.com/board/bbs/board.php?bo_table=youtube&page='\n",
    "driver = webdriver.Chrome('C:/Users/YONSAI/Downloads/chromedriver_win32/chromedriver.exe')\n",
    "lines = []\n",
    "\n",
    "for i in range(1, 11):\n",
    "    \n",
    "    driver.get(curl + str(i))\n",
    "    time.sleep(2)   # 가져오는데 시간이 필요하다\n",
    "\n",
    "    # # 자동으로 해줌\n",
    "    # body = driver.find_element(By.TAG_NAME, 'body')\n",
    "    # for _ in range(15):\n",
    "    #     body.send_keys(Keys.PAGE_DOWN)\n",
    "    #     time.sleep(1)\n",
    "\n",
    "    soup = BeautifulSoup(driver.page_source)\n",
    "    lis = soup.select('.aos-init')\n",
    "\n",
    "    for li in lis:\n",
    "        rank = int(li.select_one('.rank').get_text().strip())\n",
    "        category = li.select_one('.category').get_text().strip()[1:-1]\n",
    "        channel = li.select_one('h1 > a').get_text().strip()\n",
    "\n",
    "        subscriber = convert_num(li.select_one('.subscriber_cnt').get_text())\n",
    "        view = convert_num(li.select_one('.view_cnt').get_text())\n",
    "        video = convert_num(li.select_one('.video_cnt').get_text())\n",
    "\n",
    "        lines.append({'랭크': rank, '카테고리': category, '채널': channel, '구독자수': subscriber, '조회수': view, '비디오': video})\n",
    "\n",
    "driver.close()"
   ]
  },
  {
   "cell_type": "code",
   "execution_count": 138,
   "metadata": {},
   "outputs": [
    {
     "data": {
      "text/html": [
       "<div>\n",
       "<style scoped>\n",
       "    .dataframe tbody tr th:only-of-type {\n",
       "        vertical-align: middle;\n",
       "    }\n",
       "\n",
       "    .dataframe tbody tr th {\n",
       "        vertical-align: top;\n",
       "    }\n",
       "\n",
       "    .dataframe thead th {\n",
       "        text-align: right;\n",
       "    }\n",
       "</style>\n",
       "<table border=\"1\" class=\"dataframe\">\n",
       "  <thead>\n",
       "    <tr style=\"text-align: right;\">\n",
       "      <th></th>\n",
       "      <th>랭크</th>\n",
       "      <th>카테고리</th>\n",
       "      <th>채널</th>\n",
       "      <th>구독자수</th>\n",
       "      <th>조회수</th>\n",
       "      <th>비디오</th>\n",
       "    </tr>\n",
       "  </thead>\n",
       "  <tbody>\n",
       "    <tr>\n",
       "      <th>0</th>\n",
       "      <td>1</td>\n",
       "      <td>음악/댄스/가수</td>\n",
       "      <td>BLACKPINK</td>\n",
       "      <td>87300000</td>\n",
       "      <td>30533500000</td>\n",
       "      <td>507</td>\n",
       "    </tr>\n",
       "    <tr>\n",
       "      <th>1</th>\n",
       "      <td>2</td>\n",
       "      <td>음악/댄스/가수</td>\n",
       "      <td>BANGTANTV</td>\n",
       "      <td>74500000</td>\n",
       "      <td>20143000000</td>\n",
       "      <td>2188</td>\n",
       "    </tr>\n",
       "    <tr>\n",
       "      <th>2</th>\n",
       "      <td>3</td>\n",
       "      <td>음악/댄스/가수</td>\n",
       "      <td>HYBE LABELS</td>\n",
       "      <td>70300000</td>\n",
       "      <td>27323160000</td>\n",
       "      <td>1158</td>\n",
       "    </tr>\n",
       "    <tr>\n",
       "      <th>3</th>\n",
       "      <td>4</td>\n",
       "      <td>음악/댄스/가수</td>\n",
       "      <td>SMTOWN</td>\n",
       "      <td>31600000</td>\n",
       "      <td>26794810000</td>\n",
       "      <td>4110</td>\n",
       "    </tr>\n",
       "    <tr>\n",
       "      <th>4</th>\n",
       "      <td>5</td>\n",
       "      <td>음악/댄스/가수</td>\n",
       "      <td>JYP Entertainment</td>\n",
       "      <td>26800000</td>\n",
       "      <td>19275070000</td>\n",
       "      <td>1668</td>\n",
       "    </tr>\n",
       "  </tbody>\n",
       "</table>\n",
       "</div>"
      ],
      "text/plain": [
       "   랭크      카테고리                 채널      구독자수          조회수   비디오\n",
       "0   1  음악/댄스/가수          BLACKPINK  87300000  30533500000   507\n",
       "1   2  음악/댄스/가수          BANGTANTV  74500000  20143000000  2188\n",
       "2   3  음악/댄스/가수        HYBE LABELS  70300000  27323160000  1158\n",
       "3   4  음악/댄스/가수             SMTOWN  31600000  26794810000  4110\n",
       "4   5  음악/댄스/가수  JYP Entertainment  26800000  19275070000  1668"
      ]
     },
     "execution_count": 138,
     "metadata": {},
     "output_type": "execute_result"
    }
   ],
   "source": [
    "df = pd.DataFrame(lines)  \n",
    "df.head()  "
   ]
  },
  {
   "cell_type": "code",
   "execution_count": 139,
   "metadata": {},
   "outputs": [],
   "source": [
    "now = datetime.now()\n",
    "now = now.strftime('%Y%m%d')\n",
    "df.to_csv(f'data/{now}_유튜브랭킹.csv', index=False)"
   ]
  }
 ],
 "metadata": {
  "kernelspec": {
   "display_name": "base",
   "language": "python",
   "name": "python3"
  },
  "language_info": {
   "codemirror_mode": {
    "name": "ipython",
    "version": 3
   },
   "file_extension": ".py",
   "mimetype": "text/x-python",
   "name": "python",
   "nbconvert_exporter": "python",
   "pygments_lexer": "ipython3",
   "version": "3.10.10"
  },
  "orig_nbformat": 4
 },
 "nbformat": 4,
 "nbformat_minor": 2
}
