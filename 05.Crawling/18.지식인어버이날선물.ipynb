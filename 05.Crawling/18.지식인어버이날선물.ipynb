{
 "cells": [
  {
   "cell_type": "code",
   "execution_count": 45,
   "metadata": {},
   "outputs": [],
   "source": [
    "import time\n",
    "import pandas as pd\n",
    "import requests\n",
    "\n",
    "from urllib.parse import quote\n",
    "from selenium import webdriver\n",
    "from selenium.webdriver.common.by import By\n",
    "from selenium.webdriver.common.keys import Keys\n",
    "from bs4 import BeautifulSoup\n",
    "import warnings\n",
    "warnings.filterwarnings('ignore')"
   ]
  },
  {
   "attachments": {},
   "cell_type": "markdown",
   "metadata": {},
   "source": [
    "- 내 위치에 있는 파일 가져올때"
   ]
  },
  {
   "cell_type": "code",
   "execution_count": 44,
   "metadata": {},
   "outputs": [],
   "source": [
    "import os\n",
    "import subprocess \n",
    "\n",
    "notepad = os.environ['WINDIR']+'\\\\system32\\\\notepad.exe'\n",
    "driver_name =  os.environ['HOMEDRIVE'] + os.environ['HOMEPATH'] + '\\\\downloads\\\\chromedriver.exe'\n"
   ]
  },
  {
   "attachments": {},
   "cell_type": "markdown",
   "metadata": {},
   "source": [
    "- 네이버 지식iN : 어버이날 선물로"
   ]
  },
  {
   "cell_type": "code",
   "execution_count": 59,
   "metadata": {},
   "outputs": [],
   "source": [
    "sword = '어버이날 선물'\n",
    "\n",
    "# nurl = 'https://kin.naver.com/search/list.naver?query=' + sword\n",
    "naver = 'https://www.naver.com/'\n",
    "driver = webdriver.Chrome(driver_name)"
   ]
  },
  {
   "cell_type": "code",
   "execution_count": 60,
   "metadata": {},
   "outputs": [],
   "source": [
    "# 네이버로 가기\n",
    "driver.get(naver)\n",
    "time.sleep(2)"
   ]
  },
  {
   "cell_type": "code",
   "execution_count": 61,
   "metadata": {},
   "outputs": [],
   "source": [
    "# 지식iN 클릭\n",
    "driver.find_element(By.XPATH, '//*[@id=\"NM_FAVORITE\"]/div[1]/ul[1]/li[4]/a').click()"
   ]
  },
  {
   "cell_type": "code",
   "execution_count": 62,
   "metadata": {},
   "outputs": [],
   "source": [
    "#popup 클릭\n",
    "try:\n",
    "    driver.find_element(By.XPATH, '//*[@id=\"eventPopupLayer2023SeasonFive\"]/div[1]/div[1]/a').click()   \n",
    "except:\n",
    "    pass"
   ]
  },
  {
   "cell_type": "code",
   "execution_count": 66,
   "metadata": {},
   "outputs": [],
   "source": [
    "# 검색어 넣기\n",
    "driver.find_element(By.NAME, 'query').send_keys(\"어버이날 선물\")"
   ]
  },
  {
   "cell_type": "code",
   "execution_count": 67,
   "metadata": {},
   "outputs": [],
   "source": [
    "# 검색 버튼 클릭\n",
    "driver.find_element(By.CLASS_NAME, 'search_btn').click()"
   ]
  },
  {
   "attachments": {},
   "cell_type": "markdown",
   "metadata": {},
   "source": [
    "- 전체 개수 구하기"
   ]
  },
  {
   "cell_type": "code",
   "execution_count": 68,
   "metadata": {},
   "outputs": [
    {
     "data": {
      "text/plain": [
       "83856"
      ]
     },
     "execution_count": 68,
     "metadata": {},
     "output_type": "execute_result"
    }
   ],
   "source": [
    "int(driver.find_element(By.CLASS_NAME, 'number').text.strip('()').split('/')[-1].replace(',',''))"
   ]
  },
  {
   "cell_type": "code",
   "execution_count": 69,
   "metadata": {},
   "outputs": [
    {
     "data": {
      "text/plain": [
       "10"
      ]
     },
     "execution_count": 69,
     "metadata": {},
     "output_type": "execute_result"
    }
   ],
   "source": [
    "urls = driver.find_elements(By.XPATH, '//*[@id=\"s_content\"]/div[3]/ul/li')\n",
    "len(urls)"
   ]
  },
  {
   "cell_type": "code",
   "execution_count": 70,
   "metadata": {},
   "outputs": [
    {
     "data": {
      "text/plain": [
       "'어버이날 선물 뭐가 좋을까요 2023.04.11.\\n이번에 어버이날 선물 겸 부모님 생신 선물 하려고해요~ 요즘 친정엄마는 어깨가 아프시다시고, 아빠는 무릎때문에 병원 다니신다해요..ㅜㅜ 매번 현금으로만 드렸는데 이번엔...\\n#어버이날선물\\nQ&A > 자동차 수리,정비 | 답변수 2  추천수 17 | 답변 카놀라(qowh****)'"
      ]
     },
     "execution_count": 70,
     "metadata": {},
     "output_type": "execute_result"
    }
   ],
   "source": [
    "urls[0].text"
   ]
  },
  {
   "cell_type": "code",
   "execution_count": 71,
   "metadata": {},
   "outputs": [],
   "source": [
    "url_list = []\n",
    "for url in urls:\n",
    "    href = url.find_element(By.TAG_NAME, 'a')\n",
    "    url_list.append(href.get_attribute('href'))    "
   ]
  },
  {
   "attachments": {},
   "cell_type": "markdown",
   "metadata": {},
   "source": [
    "- 2page로 이동"
   ]
  },
  {
   "cell_type": "code",
   "execution_count": 72,
   "metadata": {},
   "outputs": [],
   "source": [
    "driver.find_element(By.XPATH, '//*[@id=\"s_content\"]/div[3]/div[2]/a[1]').click()\n",
    "time.sleep(2)"
   ]
  },
  {
   "cell_type": "code",
   "execution_count": 73,
   "metadata": {},
   "outputs": [
    {
     "data": {
      "text/plain": [
       "10"
      ]
     },
     "execution_count": 73,
     "metadata": {},
     "output_type": "execute_result"
    }
   ],
   "source": [
    "urls = driver.find_elements(By.XPATH, '//*[@id=\"s_content\"]/div[3]/ul/li')\n",
    "len(urls)"
   ]
  },
  {
   "cell_type": "code",
   "execution_count": 74,
   "metadata": {},
   "outputs": [],
   "source": [
    "for url in urls:\n",
    "    href = url.find_element(By.TAG_NAME, 'a')\n",
    "    url_list.append(href.get_attribute('href'))   "
   ]
  },
  {
   "cell_type": "code",
   "execution_count": 75,
   "metadata": {},
   "outputs": [
    {
     "data": {
      "text/plain": [
       "20"
      ]
     },
     "execution_count": 75,
     "metadata": {},
     "output_type": "execute_result"
    }
   ],
   "source": [
    "len(url_list)"
   ]
  },
  {
   "cell_type": "code",
   "execution_count": 76,
   "metadata": {},
   "outputs": [],
   "source": [
    "driver.close()"
   ]
  },
  {
   "attachments": {},
   "cell_type": "markdown",
   "metadata": {},
   "source": [
    "- 반복해서 가져와 보기"
   ]
  },
  {
   "cell_type": "code",
   "execution_count": 77,
   "metadata": {},
   "outputs": [],
   "source": [
    "def get_total_page(cnt):\n",
    "    if cnt > 100:\n",
    "        return 10\n",
    "    else:\n",
    "        return int(cnt / 10)\n"
   ]
  },
  {
   "cell_type": "code",
   "execution_count": 78,
   "metadata": {},
   "outputs": [
    {
     "name": "stdout",
     "output_type": "stream",
     "text": [
      "10\n"
     ]
    },
    {
     "data": {
      "text/html": [
       "<div>\n",
       "<style scoped>\n",
       "    .dataframe tbody tr th:only-of-type {\n",
       "        vertical-align: middle;\n",
       "    }\n",
       "\n",
       "    .dataframe tbody tr th {\n",
       "        vertical-align: top;\n",
       "    }\n",
       "\n",
       "    .dataframe thead th {\n",
       "        text-align: right;\n",
       "    }\n",
       "</style>\n",
       "<table border=\"1\" class=\"dataframe\">\n",
       "  <thead>\n",
       "    <tr style=\"text-align: right;\">\n",
       "      <th></th>\n",
       "      <th>제목</th>\n",
       "      <th>URL</th>\n",
       "      <th>답변수</th>\n",
       "    </tr>\n",
       "  </thead>\n",
       "  <tbody>\n",
       "    <tr>\n",
       "      <th>0</th>\n",
       "      <td>어버이날 선물 뭐가 좋을까요</td>\n",
       "      <td>https://kin.naver.com/qna/detail.naver?d1id=8&amp;...</td>\n",
       "      <td>2</td>\n",
       "    </tr>\n",
       "    <tr>\n",
       "      <th>1</th>\n",
       "      <td>어버이날 선물 추천 부탁해요~</td>\n",
       "      <td>https://kin.naver.com/qna/detail.naver?d1id=3&amp;...</td>\n",
       "      <td>2</td>\n",
       "    </tr>\n",
       "    <tr>\n",
       "      <th>2</th>\n",
       "      <td>어버이날 골프 관련 선물</td>\n",
       "      <td>https://kin.naver.com/qna/detail.naver?d1id=10...</td>\n",
       "      <td>7</td>\n",
       "    </tr>\n",
       "    <tr>\n",
       "      <th>3</th>\n",
       "      <td>어버이날에 꼭 선물을 드려야 되나요?</td>\n",
       "      <td>https://kin.naver.com/qna/detail.naver?d1id=8&amp;...</td>\n",
       "      <td>6</td>\n",
       "    </tr>\n",
       "    <tr>\n",
       "      <th>4</th>\n",
       "      <td>40대 아버지 어버이날 선물</td>\n",
       "      <td>https://kin.naver.com/qna/detail.naver?d1id=8&amp;...</td>\n",
       "      <td>20</td>\n",
       "    </tr>\n",
       "  </tbody>\n",
       "</table>\n",
       "</div>"
      ],
      "text/plain": [
       "                     제목                                                URL  \\\n",
       "0       어버이날 선물 뭐가 좋을까요  https://kin.naver.com/qna/detail.naver?d1id=8&...   \n",
       "1      어버이날 선물 추천 부탁해요~  https://kin.naver.com/qna/detail.naver?d1id=3&...   \n",
       "2         어버이날 골프 관련 선물  https://kin.naver.com/qna/detail.naver?d1id=10...   \n",
       "3  어버이날에 꼭 선물을 드려야 되나요?  https://kin.naver.com/qna/detail.naver?d1id=8&...   \n",
       "4       40대 아버지 어버이날 선물  https://kin.naver.com/qna/detail.naver?d1id=8&...   \n",
       "\n",
       "   답변수  \n",
       "0    2  \n",
       "1    2  \n",
       "2    7  \n",
       "3    6  \n",
       "4   20  "
      ]
     },
     "execution_count": 78,
     "metadata": {},
     "output_type": "execute_result"
    }
   ],
   "source": [
    "\n",
    "driver = webdriver.Chrome(driver_name)\n",
    "driver.get(naver)\n",
    "time.sleep(2)\n",
    "driver.find_element(By.XPATH, '//*[@id=\"NM_FAVORITE\"]/div[1]/ul[1]/li[4]/a').click()\n",
    "try:\n",
    "    driver.find_element(By.XPATH, '//*[@id=\"eventPopupLayer2023SeasonFive\"]/div[1]/div[1]/a').click()   \n",
    "except:\n",
    "    pass\n",
    "\n",
    "driver.find_element(By.NAME, 'query').send_keys(\"어버이날 선물\")\n",
    "driver.find_element(By.CLASS_NAME, 'search_btn').click()\n",
    "\n",
    "\n",
    "urls = driver.find_elements(By.XPATH, '//*[@id=\"s_content\"]/div[3]/ul/li')\n",
    "\n",
    "# 전체 지식in 조회 수\n",
    "cnt = int(driver.find_element(By.CLASS_NAME, 'number').text.strip('()').split('/')[-1].replace(',',''))\n",
    "total_page = get_total_page(cnt)\n",
    "print(total_page)\n",
    "\n",
    "url_list = []\n",
    "npage = 1\n",
    "while True:    \n",
    "    for url in urls:\n",
    "\n",
    "        href = url.find_element(By.TAG_NAME, 'dl')\n",
    "        # 답변수\n",
    "        hit = int(href.find_element(By.CLASS_NAME, 'hit').text.split()[-1].strip())\n",
    "\n",
    "        href = href.find_element(By.TAG_NAME, 'a')\n",
    "        # 제목\n",
    "        title = href.text\n",
    "        # 답변 URL\n",
    "        uurl = href.get_attribute('href')\n",
    "        \n",
    "        url_list.append({'제목':title, 'URL': uurl, '답변수':hit})\n",
    "\n",
    "    if npage >= total_page:\n",
    "        break\n",
    "\n",
    "    driver.find_element(By.XPATH, f'//*[@id=\"s_content\"]/div[3]/div[2]/a[{npage}]').click()\n",
    "    time.sleep(2)\n",
    "\n",
    "    urls = driver.find_elements(By.XPATH, '//*[@id=\"s_content\"]/div[3]/ul/li')\n",
    "    npage += 1\n",
    "\n",
    "driver.close()\n",
    "\n",
    "df = pd.DataFrame(url_list)\n",
    "df.head()\n"
   ]
  },
  {
   "cell_type": "code",
   "execution_count": 79,
   "metadata": {},
   "outputs": [
    {
     "name": "stdout",
     "output_type": "stream",
     "text": [
      "100\n"
     ]
    }
   ],
   "source": [
    "print(len(url_list))"
   ]
  },
  {
   "attachments": {},
   "cell_type": "markdown",
   "metadata": {},
   "source": [
    "- sub 답변들 가져오기"
   ]
  },
  {
   "cell_type": "code",
   "execution_count": 122,
   "metadata": {},
   "outputs": [],
   "source": [
    "driver = webdriver.Chrome(driver_name)\n",
    "        \n",
    "with open('data/어버이날선물.txt', 'w', encoding='utf-8') as f:\n",
    "\n",
    "    for index in df.index:\n",
    "        \n",
    "        driver.get(df.URL[index])\n",
    "        time.sleep(2)\n",
    "        # print((df.답변수[index]//5))\n",
    "\n",
    "        for i in range((df.답변수[index]//5)):\n",
    "            \n",
    "            try: \n",
    "                driver.find_element(By.ID, 'nextPageButton').click()\n",
    "                time.sleep(2)\n",
    "            except:\n",
    "                continue\n",
    "\n",
    "        soup = BeautifulSoup(driver.page_source, 'html.parser')\n",
    "        answer_list = soup.select('.answer-content__item._contentWrap._answer')\n",
    "\n",
    "        for answer in answer_list:\n",
    "            texts = answer.select('.se-module.se-module-text > p')\n",
    "            \n",
    "            for text in texts:\n",
    "                f.write(text.get_text() + '\\n')\n",
    "    \n",
    "    \n",
    "driver.close()"
   ]
  },
  {
   "cell_type": "code",
   "execution_count": 118,
   "metadata": {},
   "outputs": [],
   "source": [
    "\n",
    "    "
   ]
  }
 ],
 "metadata": {
  "kernelspec": {
   "display_name": "base",
   "language": "python",
   "name": "python3"
  },
  "language_info": {
   "codemirror_mode": {
    "name": "ipython",
    "version": 3
   },
   "file_extension": ".py",
   "mimetype": "text/x-python",
   "name": "python",
   "nbconvert_exporter": "python",
   "pygments_lexer": "ipython3",
   "version": "3.9.13"
  },
  "orig_nbformat": 4
 },
 "nbformat": 4,
 "nbformat_minor": 2
}
