{
 "cells": [
  {
   "cell_type": "code",
   "execution_count": 41,
   "metadata": {},
   "outputs": [],
   "source": [
    "import time\n",
    "import pandas as pd\n",
    "import requests\n",
    "\n",
    "from urllib.parse import quote\n",
    "from selenium import webdriver\n",
    "from selenium.webdriver.common.by import By\n",
    "from selenium.webdriver.common.keys import Keys\n",
    "from bs4 import BeautifulSoup\n",
    "import warnings\n",
    "warnings.filterwarnings('ignore')"
   ]
  },
  {
   "attachments": {},
   "cell_type": "markdown",
   "metadata": {},
   "source": [
    "- 네이버 지식iN : 어버이날 선물로"
   ]
  },
  {
   "cell_type": "code",
   "execution_count": 20,
   "metadata": {},
   "outputs": [],
   "source": [
    "sword = quote('어버이날 선물')\n",
    "nurl = 'https://kin.naver.com/search/list.naver?query=' + sword\n",
    "driver = webdriver.Chrome('C:/Users/YONSAI/Downloads/chromedriver.exe')"
   ]
  },
  {
   "cell_type": "code",
   "execution_count": 21,
   "metadata": {},
   "outputs": [],
   "source": [
    "driver.get(nurl)\n",
    "time.sleep(2)"
   ]
  },
  {
   "attachments": {},
   "cell_type": "markdown",
   "metadata": {},
   "source": [
    "- 전체 개수 구하기"
   ]
  },
  {
   "cell_type": "code",
   "execution_count": 31,
   "metadata": {},
   "outputs": [
    {
     "data": {
      "text/plain": [
       "83825"
      ]
     },
     "execution_count": 31,
     "metadata": {},
     "output_type": "execute_result"
    }
   ],
   "source": [
    "int(driver.find_element(By.CLASS_NAME, 'number').text.strip('()').split('/')[-1].replace(',',''))"
   ]
  },
  {
   "cell_type": "code",
   "execution_count": null,
   "metadata": {},
   "outputs": [],
   "source": []
  },
  {
   "cell_type": "code",
   "execution_count": 12,
   "metadata": {},
   "outputs": [
    {
     "data": {
      "text/plain": [
       "10"
      ]
     },
     "execution_count": 12,
     "metadata": {},
     "output_type": "execute_result"
    }
   ],
   "source": [
    "urls = driver.find_elements(By.XPATH, '//*[@id=\"s_content\"]/div[3]/ul/li')\n",
    "len(urls)"
   ]
  },
  {
   "cell_type": "code",
   "execution_count": 13,
   "metadata": {},
   "outputs": [
    {
     "data": {
      "text/plain": [
       "'40대 50대 어버이날선물 추천 해주세요 2023.04.25.\\n곧 어버이날이여서 미리 준비할려구용~ 어버이날선물추천 해주세요!!! 부모님 두분다 만족하실 수 있는 선물로 부탁드려용 오빠랑 합쳐서 50만원정도 있습니당 50대...\\nQ&A > 가족행사, 이벤트 | 답변수 1  추천수 0 | 답변 종로금빵(whdf****)'"
      ]
     },
     "execution_count": 13,
     "metadata": {},
     "output_type": "execute_result"
    }
   ],
   "source": [
    "urls[0].text"
   ]
  },
  {
   "cell_type": "code",
   "execution_count": 14,
   "metadata": {},
   "outputs": [],
   "source": [
    "url_list = []\n",
    "for url in urls:\n",
    "    href = url.find_element(By.TAG_NAME, 'a')\n",
    "    url_list.append(href.get_attribute('href'))    "
   ]
  },
  {
   "attachments": {},
   "cell_type": "markdown",
   "metadata": {},
   "source": [
    "- 2page로 이동"
   ]
  },
  {
   "cell_type": "code",
   "execution_count": 15,
   "metadata": {},
   "outputs": [],
   "source": [
    "driver.find_element(By.XPATH, '//*[@id=\"s_content\"]/div[3]/div[2]/a[1]').click()\n",
    "time.sleep(2)"
   ]
  },
  {
   "cell_type": "code",
   "execution_count": 16,
   "metadata": {},
   "outputs": [
    {
     "data": {
      "text/plain": [
       "10"
      ]
     },
     "execution_count": 16,
     "metadata": {},
     "output_type": "execute_result"
    }
   ],
   "source": [
    "urls = driver.find_elements(By.XPATH, '//*[@id=\"s_content\"]/div[3]/ul/li')\n",
    "len(urls)"
   ]
  },
  {
   "cell_type": "code",
   "execution_count": 17,
   "metadata": {},
   "outputs": [],
   "source": [
    "for url in urls:\n",
    "    href = url.find_element(By.TAG_NAME, 'a')\n",
    "    url_list.append(href.get_attribute('href'))   "
   ]
  },
  {
   "cell_type": "code",
   "execution_count": 18,
   "metadata": {},
   "outputs": [
    {
     "data": {
      "text/plain": [
       "20"
      ]
     },
     "execution_count": 18,
     "metadata": {},
     "output_type": "execute_result"
    }
   ],
   "source": [
    "len(url_list)"
   ]
  },
  {
   "cell_type": "code",
   "execution_count": 32,
   "metadata": {},
   "outputs": [],
   "source": [
    "driver.close()"
   ]
  },
  {
   "attachments": {},
   "cell_type": "markdown",
   "metadata": {},
   "source": [
    "- 반복해서 가져와 보기"
   ]
  },
  {
   "cell_type": "code",
   "execution_count": 37,
   "metadata": {},
   "outputs": [],
   "source": [
    "def get_total_page(cnt):\n",
    "    if cnt > 100:\n",
    "        return 10\n",
    "    else:\n",
    "        return int(cnt / 10)\n"
   ]
  },
  {
   "cell_type": "code",
   "execution_count": 57,
   "metadata": {},
   "outputs": [
    {
     "name": "stdout",
     "output_type": "stream",
     "text": [
      "10\n"
     ]
    },
    {
     "data": {
      "text/html": [
       "<div>\n",
       "<style scoped>\n",
       "    .dataframe tbody tr th:only-of-type {\n",
       "        vertical-align: middle;\n",
       "    }\n",
       "\n",
       "    .dataframe tbody tr th {\n",
       "        vertical-align: top;\n",
       "    }\n",
       "\n",
       "    .dataframe thead th {\n",
       "        text-align: right;\n",
       "    }\n",
       "</style>\n",
       "<table border=\"1\" class=\"dataframe\">\n",
       "  <thead>\n",
       "    <tr style=\"text-align: right;\">\n",
       "      <th></th>\n",
       "      <th>제목</th>\n",
       "      <th>URL</th>\n",
       "      <th>답변수</th>\n",
       "    </tr>\n",
       "  </thead>\n",
       "  <tbody>\n",
       "    <tr>\n",
       "      <th>0</th>\n",
       "      <td>40대 50대 어버이날선물 추천 해주세요</td>\n",
       "      <td>https://kin.naver.com/qna/detail.naver?d1id=8&amp;...</td>\n",
       "      <td>1</td>\n",
       "    </tr>\n",
       "    <tr>\n",
       "      <th>1</th>\n",
       "      <td>어버이날 선물 뭐가 좋을까요</td>\n",
       "      <td>https://kin.naver.com/qna/detail.naver?d1id=8&amp;...</td>\n",
       "      <td>2</td>\n",
       "    </tr>\n",
       "    <tr>\n",
       "      <th>2</th>\n",
       "      <td>어버이날 선물 추천 부탁해요~</td>\n",
       "      <td>https://kin.naver.com/qna/detail.naver?d1id=3&amp;...</td>\n",
       "      <td>2</td>\n",
       "    </tr>\n",
       "    <tr>\n",
       "      <th>3</th>\n",
       "      <td>어버이날 골프 관련 선물</td>\n",
       "      <td>https://kin.naver.com/qna/detail.naver?d1id=10...</td>\n",
       "      <td>7</td>\n",
       "    </tr>\n",
       "    <tr>\n",
       "      <th>4</th>\n",
       "      <td>40대 아버지 어버이날 선물</td>\n",
       "      <td>https://kin.naver.com/qna/detail.naver?d1id=8&amp;...</td>\n",
       "      <td>19</td>\n",
       "    </tr>\n",
       "  </tbody>\n",
       "</table>\n",
       "</div>"
      ],
      "text/plain": [
       "                       제목                                                URL   \n",
       "0  40대 50대 어버이날선물 추천 해주세요  https://kin.naver.com/qna/detail.naver?d1id=8&...  \\\n",
       "1         어버이날 선물 뭐가 좋을까요  https://kin.naver.com/qna/detail.naver?d1id=8&...   \n",
       "2        어버이날 선물 추천 부탁해요~  https://kin.naver.com/qna/detail.naver?d1id=3&...   \n",
       "3           어버이날 골프 관련 선물  https://kin.naver.com/qna/detail.naver?d1id=10...   \n",
       "4         40대 아버지 어버이날 선물  https://kin.naver.com/qna/detail.naver?d1id=8&...   \n",
       "\n",
       "   답변수  \n",
       "0    1  \n",
       "1    2  \n",
       "2    2  \n",
       "3    7  \n",
       "4   19  "
      ]
     },
     "execution_count": 57,
     "metadata": {},
     "output_type": "execute_result"
    }
   ],
   "source": [
    "\n",
    "driver = webdriver.Chrome('C:/Users/YONSAI/Downloads/chromedriver.exe')\n",
    "driver.get(nurl)\n",
    "time.sleep(2)\n",
    "\n",
    "urls = driver.find_elements(By.XPATH, '//*[@id=\"s_content\"]/div[3]/ul/li')\n",
    "\n",
    "# 전체 지식in 조회 수\n",
    "cnt = int(driver.find_element(By.CLASS_NAME, 'number').text.strip('()').split('/')[-1].replace(',',''))\n",
    "total_page = get_total_page(cnt)\n",
    "print(total_page)\n",
    "\n",
    "url_list = []\n",
    "npage = 1\n",
    "while True:    \n",
    "    for url in urls:\n",
    "\n",
    "        href = url.find_element(By.TAG_NAME, 'dl')\n",
    "        hit = int(href.find_element(By.CLASS_NAME, 'hit').text.split()[-1].strip())\n",
    "       \n",
    "        \n",
    "        href = href.find_element(By.TAG_NAME, 'a')\n",
    "        title = href.text\n",
    "        uurl = href.get_attribute('href')\n",
    "        \n",
    "        url_list.append({'제목':title, 'URL': uurl, '답변수':hit})\n",
    "\n",
    "    if npage >= total_page:\n",
    "        break\n",
    "\n",
    "    driver.find_element(By.XPATH, f'//*[@id=\"s_content\"]/div[3]/div[2]/a[{npage}]').click()\n",
    "    time.sleep(2)\n",
    "\n",
    "    urls = driver.find_elements(By.XPATH, '//*[@id=\"s_content\"]/div[3]/ul/li')\n",
    "    npage += 1\n",
    "\n",
    "driver.close()\n",
    "\n",
    "df = pd.DataFrame(url_list)\n",
    "df.head()\n"
   ]
  },
  {
   "cell_type": "code",
   "execution_count": 39,
   "metadata": {},
   "outputs": [
    {
     "name": "stdout",
     "output_type": "stream",
     "text": [
      "100\n"
     ]
    }
   ],
   "source": [
    "print(len(url_list))"
   ]
  },
  {
   "attachments": {},
   "cell_type": "markdown",
   "metadata": {},
   "source": [
    "- sub 답변들 가져오기"
   ]
  },
  {
   "cell_type": "code",
   "execution_count": 40,
   "metadata": {},
   "outputs": [
    {
     "ename": "NameError",
     "evalue": "name 'requests' is not defined",
     "output_type": "error",
     "traceback": [
      "\u001b[1;31m---------------------------------------------------------------------------\u001b[0m",
      "\u001b[1;31mNameError\u001b[0m                                 Traceback (most recent call last)",
      "Cell \u001b[1;32mIn[40], line 2\u001b[0m\n\u001b[0;32m      1\u001b[0m \u001b[39mfor\u001b[39;00m url \u001b[39min\u001b[39;00m url_list[:\u001b[39m1\u001b[39m]:\n\u001b[1;32m----> 2\u001b[0m     res \u001b[39m=\u001b[39m requests\u001b[39m.\u001b[39mget(url)\n\u001b[0;32m      3\u001b[0m     soup \u001b[39m=\u001b[39m BeautifulSoup(res\u001b[39m.\u001b[39mtext, \u001b[39m'\u001b[39m\u001b[39mhtml.parser\u001b[39m\u001b[39m'\u001b[39m)\n\u001b[0;32m      4\u001b[0m     \u001b[39mprint\u001b[39m(soup\u001b[39m.\u001b[39mselect_one(\u001b[39m'\u001b[39m\u001b[39m.title\u001b[39m\u001b[39m'\u001b[39m))\n",
      "\u001b[1;31mNameError\u001b[0m: name 'requests' is not defined"
     ]
    }
   ],
   "source": [
    "for url in url_list[4]:\n",
    "    driver = webdriver.Chrome('C:/Users/YONSAI/Downloads/chromedriver.exe')\n",
    "    driver.get(nurl)\n",
    "    time.sleep(2)\n"
   ]
  }
 ],
 "metadata": {
  "kernelspec": {
   "display_name": "base",
   "language": "python",
   "name": "python3"
  },
  "language_info": {
   "codemirror_mode": {
    "name": "ipython",
    "version": 3
   },
   "file_extension": ".py",
   "mimetype": "text/x-python",
   "name": "python",
   "nbconvert_exporter": "python",
   "pygments_lexer": "ipython3",
   "version": "3.10.10"
  },
  "orig_nbformat": 4
 },
 "nbformat": 4,
 "nbformat_minor": 2
}
