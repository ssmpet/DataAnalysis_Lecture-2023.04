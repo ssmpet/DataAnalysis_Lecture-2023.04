{
 "cells": [
  {
   "cell_type": "code",
   "execution_count": 109,
   "metadata": {},
   "outputs": [],
   "source": [
    "import time\n",
    "import pandas as pd\n",
    "import requests\n",
    "\n",
    "from urllib.parse import quote\n",
    "from selenium import webdriver\n",
    "from selenium.webdriver.common.by import By\n",
    "from selenium.webdriver.common.keys import Keys\n",
    "from bs4 import BeautifulSoup\n",
    "import warnings\n",
    "warnings.filterwarnings('ignore')"
   ]
  },
  {
   "attachments": {},
   "cell_type": "markdown",
   "metadata": {},
   "source": [
    "- 내 위치에 있는 파일 가져올때"
   ]
  },
  {
   "cell_type": "code",
   "execution_count": 110,
   "metadata": {},
   "outputs": [],
   "source": [
    "import os\n",
    "import subprocess \n",
    "\n",
    "notepad = os.environ['WINDIR']+'\\\\system32\\\\notepad.exe'\n",
    "driver_name =  os.environ['HOMEDRIVE'] + os.environ['HOMEPATH'] + '\\\\downloads\\\\chromedriver.exe'\n"
   ]
  },
  {
   "attachments": {},
   "cell_type": "markdown",
   "metadata": {},
   "source": [
    "- 네이버 지식iN : 어버이날 선물로"
   ]
  },
  {
   "cell_type": "code",
   "execution_count": 111,
   "metadata": {},
   "outputs": [],
   "source": [
    "sword = '어버이날 선물'\n",
    "\n",
    "# nurl = 'https://kin.naver.com/search/list.naver?query=' + sword\n",
    "naver = 'https://www.naver.com/'\n",
    "driver = webdriver.Chrome(driver_name)"
   ]
  },
  {
   "cell_type": "code",
   "execution_count": 112,
   "metadata": {},
   "outputs": [],
   "source": [
    "# 네이버로 가기\n",
    "driver.get(naver)\n",
    "time.sleep(2)"
   ]
  },
  {
   "cell_type": "code",
   "execution_count": 113,
   "metadata": {},
   "outputs": [],
   "source": [
    "# 지식iN 클릭\n",
    "driver.find_element(By.XPATH, '//*[@id=\"NM_FAVORITE\"]/div[1]/ul[1]/li[4]/a').click()"
   ]
  },
  {
   "cell_type": "code",
   "execution_count": 114,
   "metadata": {},
   "outputs": [],
   "source": [
    "#popup 클릭\n",
    "try:\n",
    "    driver.find_element(By.XPATH, '//*[@id=\"eventPopupLayer2023SeasonFive\"]/div[1]/div[1]/a').click()   \n",
    "except:\n",
    "    pass"
   ]
  },
  {
   "cell_type": "code",
   "execution_count": 115,
   "metadata": {},
   "outputs": [],
   "source": [
    "# 검색어 넣기\n",
    "driver.find_element(By.NAME, 'query').send_keys(\"어버이날 선물\")"
   ]
  },
  {
   "cell_type": "code",
   "execution_count": 116,
   "metadata": {},
   "outputs": [],
   "source": [
    "# 검색 버튼 클릭\n",
    "driver.find_element(By.CLASS_NAME, 'search_btn').click()"
   ]
  },
  {
   "attachments": {},
   "cell_type": "markdown",
   "metadata": {},
   "source": [
    "- 전체 개수 구하기"
   ]
  },
  {
   "cell_type": "code",
   "execution_count": 117,
   "metadata": {},
   "outputs": [
    {
     "data": {
      "text/plain": [
       "83927"
      ]
     },
     "execution_count": 117,
     "metadata": {},
     "output_type": "execute_result"
    }
   ],
   "source": [
    "int(driver.find_element(By.CLASS_NAME, 'number').text.strip('()').split('/')[-1].replace(',',''))"
   ]
  },
  {
   "cell_type": "code",
   "execution_count": 118,
   "metadata": {},
   "outputs": [
    {
     "data": {
      "text/plain": [
       "10"
      ]
     },
     "execution_count": 118,
     "metadata": {},
     "output_type": "execute_result"
    }
   ],
   "source": [
    "urls = driver.find_elements(By.XPATH, '//*[@id=\"s_content\"]/div[3]/ul/li')\n",
    "len(urls)"
   ]
  },
  {
   "cell_type": "code",
   "execution_count": 119,
   "metadata": {},
   "outputs": [
    {
     "data": {
      "text/plain": [
       "'어버이날 선물 뭐가 좋을까요 2023.04.11.\\n이번에 어버이날 선물 겸 부모님 생신 선물 하려고해요~ 요즘 친정엄마는 어깨가 아프시다시고, 아빠는 무릎때문에 병원 다니신다해요..ㅜㅜ 매번 현금으로만 드렸는데 이번엔...\\n#어버이날선물\\nQ&A > 자동차 수리,정비 | 답변수 2  추천수 17 | 답변 카놀라(qowh****)'"
      ]
     },
     "execution_count": 119,
     "metadata": {},
     "output_type": "execute_result"
    }
   ],
   "source": [
    "urls[0].text"
   ]
  },
  {
   "cell_type": "code",
   "execution_count": 120,
   "metadata": {},
   "outputs": [],
   "source": [
    "url_list = []\n",
    "for url in urls:\n",
    "    href = url.find_element(By.TAG_NAME, 'a')\n",
    "    url_list.append(href.get_attribute('href'))    "
   ]
  },
  {
   "attachments": {},
   "cell_type": "markdown",
   "metadata": {},
   "source": [
    "- 2page로 이동"
   ]
  },
  {
   "cell_type": "code",
   "execution_count": 121,
   "metadata": {},
   "outputs": [],
   "source": [
    "driver.find_element(By.XPATH, '//*[@id=\"s_content\"]/div[3]/div[2]/a[1]').click()\n",
    "time.sleep(2)"
   ]
  },
  {
   "cell_type": "code",
   "execution_count": 122,
   "metadata": {},
   "outputs": [
    {
     "data": {
      "text/plain": [
       "10"
      ]
     },
     "execution_count": 122,
     "metadata": {},
     "output_type": "execute_result"
    }
   ],
   "source": [
    "urls = driver.find_elements(By.XPATH, '//*[@id=\"s_content\"]/div[3]/ul/li')\n",
    "len(urls)"
   ]
  },
  {
   "cell_type": "code",
   "execution_count": 123,
   "metadata": {},
   "outputs": [],
   "source": [
    "for url in urls:\n",
    "    href = url.find_element(By.TAG_NAME, 'a')\n",
    "    url_list.append(href.get_attribute('href'))   "
   ]
  },
  {
   "cell_type": "code",
   "execution_count": 124,
   "metadata": {},
   "outputs": [
    {
     "data": {
      "text/plain": [
       "20"
      ]
     },
     "execution_count": 124,
     "metadata": {},
     "output_type": "execute_result"
    }
   ],
   "source": [
    "len(url_list)"
   ]
  },
  {
   "cell_type": "code",
   "execution_count": 125,
   "metadata": {},
   "outputs": [],
   "source": [
    "driver.close()"
   ]
  },
  {
   "attachments": {},
   "cell_type": "markdown",
   "metadata": {},
   "source": [
    "- 반복해서 가져와 보기"
   ]
  },
  {
   "cell_type": "code",
   "execution_count": 126,
   "metadata": {},
   "outputs": [],
   "source": [
    "def get_total_page(cnt):\n",
    "    if cnt > 100:\n",
    "        return 10\n",
    "    else:\n",
    "        return int(cnt // 10) \n"
   ]
  },
  {
   "cell_type": "code",
   "execution_count": 127,
   "metadata": {},
   "outputs": [],
   "source": [
    "\n",
    "driver = webdriver.Chrome(driver_name)\n",
    "driver.get(naver)\n",
    "time.sleep(2)\n",
    "driver.find_element(By.XPATH, '//*[@id=\"NM_FAVORITE\"]/div[1]/ul[1]/li[4]/a').click()\n",
    "time.sleep(2)\n",
    "try:\n",
    "    driver.find_element(By.XPATH, '//*[@id=\"eventPopupLayer2023SeasonFive\"]/div[1]/div[1]/a').click()   \n",
    "    time.sleep(2)\n",
    "except:\n",
    "    pass\n",
    "\n",
    "driver.find_element(By.NAME, 'query').send_keys(\"어버이날 선물\")\n",
    "driver.find_element(By.CLASS_NAME, 'search_btn').click()\n",
    "time.sleep(2)"
   ]
  },
  {
   "attachments": {},
   "cell_type": "markdown",
   "metadata": {},
   "source": [
    "##### webdriver.Chrome 쓰는 규칙\n",
    "- 클래스 By.CLASS_NAME\n",
    "    - 클래스 이름만 쓴다. \n",
    "    - 클래스 이름이 하나일 경우 '.'은 붙이지 않는다.\n",
    "    - 클래스 이름이 여러개 일 경우 앞에는 '.'을 붙이지 않고 중간에만 붙인다.\n",
    "    - ex) urls = driver.find_elements(By.CLASS_NAME, '_searchListTitleAnchor')  \n",
    "- By.CSS_SELECTOR \n",
    "    - 평소 아는 css selector 규칙대로 한다.\n",
    "    - .classname\n",
    "    - TagName > .classname\n",
    "    - ex) urls = driver.find_elements(By.CSS_SELECTOR, 'dt > ._searchListTitleAnchor')"
   ]
  },
  {
   "cell_type": "code",
   "execution_count": 128,
   "metadata": {},
   "outputs": [],
   "source": [
    "# urls = driver.find_elements(By.CSS_SELECTOR, '.tag_area')\n",
    "# for index_url in urls:\n",
    "#     print(index_url.text)"
   ]
  },
  {
   "cell_type": "code",
   "execution_count": 129,
   "metadata": {},
   "outputs": [
    {
     "name": "stdout",
     "output_type": "stream",
     "text": [
      "10\n",
      "10\n"
     ]
    }
   ],
   "source": [
    "\n",
    "# urls = driver.find_elements(By.XPATH, '//*[@id=\"s_content\"]/div[3]/ul/li')\n",
    "urls = driver.find_elements(By.CLASS_NAME, '_searchListTitleAnchor')\n",
    "print(len(urls))\n",
    "\n",
    "# 전체 지식in 조회 수\n",
    "cnt = int(driver.find_element(By.CLASS_NAME, 'number').text.strip('()').split('/')[-1].replace(',',''))\n",
    "total_page = get_total_page(cnt)\n",
    "print(total_page)\n",
    "\n",
    "# test 1Page\n",
    "# total_page = 0\n",
    "\n",
    "url_list = []\n",
    "npage = 1\n",
    "while True:\n",
    "\n",
    "    for url in urls:\n",
    "        url_list.append(url.find_element(By.XPATH, '//*[@id=\"s_content\"]/div[3]/ul/li[9]/dl/dt/a').get_attribute('href'))\n",
    "\n",
    "        \n",
    "        # href = url.find_element(By.TAG_NAME, 'dl')\n",
    "        # # 답변수\n",
    "        # hit = int(href.find_element(By.CLASS_NAME, 'hit').text.split()[-1].strip())\n",
    "\n",
    "        # href = href.find_element(By.TAG_NAME, 'a')\n",
    "        # # 제목\n",
    "        # title = href.text\n",
    "        # # 답변 URL\n",
    "        # uurl = href.get_attribute('href')\n",
    "        \n",
    "        # url_list.append({'제목':title, 'URL': uurl, '답변수':hit})\n",
    "\n",
    "    if npage >= total_page:\n",
    "        break\n",
    "\n",
    "    driver.find_element(By.XPATH, f'//*[@id=\"s_content\"]/div[3]/div[2]/a[{npage}]').click()\n",
    "    time.sleep(2)\n",
    "\n",
    "    urls = driver.find_elements(By.XPATH, '//*[@id=\"s_content\"]/div[3]/ul/li')\n",
    "    npage += 1\n",
    "\n",
    "# driver.close()\n",
    "\n",
    "# df = pd.DataFrame(url_list)\n",
    "# df.head()\n"
   ]
  },
  {
   "cell_type": "code",
   "execution_count": 130,
   "metadata": {},
   "outputs": [
    {
     "name": "stdout",
     "output_type": "stream",
     "text": [
      "100\n"
     ]
    }
   ],
   "source": [
    "print(len(url_list))"
   ]
  },
  {
   "attachments": {},
   "cell_type": "markdown",
   "metadata": {},
   "source": [
    "- sub 답변들 가져오기"
   ]
  },
  {
   "cell_type": "code",
   "execution_count": 131,
   "metadata": {},
   "outputs": [],
   "source": [
    "# driver = webdriver.Chrome(driver_name)\n",
    "        \n",
    "with open('data/어버이날선물.txt', 'w', encoding='utf-8') as f:\n",
    "\n",
    "    for index in url_list:\n",
    "        \n",
    "        driver.get(index)\n",
    "        time.sleep(2)\n",
    "        \n",
    "        # 답변수 \n",
    "        #print('답변수')\n",
    "        hit = int(driver.find_element(By.CLASS_NAME, '_answerCount.num').text.strip()) - 1\n",
    "\n",
    "        for i in range((hit//5)):\n",
    "\n",
    "            try: \n",
    "                driver.find_element(By.ID, 'nextPageButton').click()\n",
    "                time.sleep(2)\n",
    "            except:\n",
    "                continue\n",
    "\n",
    "        soup = BeautifulSoup(driver.page_source, 'html.parser')\n",
    "\n",
    "        # 답변 목록\n",
    "        answer_list = soup.select('.answer-content__item._contentWrap._answer')\n",
    "\n",
    "        # 글씨만 추출\n",
    "        for answer in answer_list:\n",
    "            texts = answer.select('.se-module.se-module-text > p')\n",
    "            \n",
    "            # 글씨만 파일로 저장\n",
    "            # p태그별로 \n",
    "            for text in texts:\n",
    "                f.write(text.get_text() + '\\n')\n",
    "    \n",
    "    \n",
    "driver.close()"
   ]
  },
  {
   "cell_type": "code",
   "execution_count": null,
   "metadata": {},
   "outputs": [],
   "source": [
    "\n",
    "    "
   ]
  }
 ],
 "metadata": {
  "kernelspec": {
   "display_name": "base",
   "language": "python",
   "name": "python3"
  },
  "language_info": {
   "codemirror_mode": {
    "name": "ipython",
    "version": 3
   },
   "file_extension": ".py",
   "mimetype": "text/x-python",
   "name": "python",
   "nbconvert_exporter": "python",
   "pygments_lexer": "ipython3",
   "version": "3.10.10"
  },
  "orig_nbformat": 4
 },
 "nbformat": 4,
 "nbformat_minor": 2
}
