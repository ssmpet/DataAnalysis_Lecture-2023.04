{
 "cells": [
  {
   "attachments": {},
   "cell_type": "markdown",
   "metadata": {},
   "source": [
    "- 내 파일 위치 가져오기"
   ]
  },
  {
   "cell_type": "code",
   "execution_count": null,
   "metadata": {},
   "outputs": [],
   "source": [
    "import os\n",
    "import subprocess \n",
    "\n",
    "notepad = os.environ['WINDIR']+'\\\\system32\\\\notepad.exe'\n",
    "driver_name =  os.environ['HOMEDRIVE'] + os.environ['HOMEPATH'] + '\\\\downloads\\\\chromedriver.exe'"
   ]
  },
  {
   "cell_type": "code",
   "execution_count": null,
   "metadata": {},
   "outputs": [],
   "source": [
    "# subprocess.Popen([notepad, 'data/test.txt']) # 간달히 확인할 때"
   ]
  }
 ],
 "metadata": {
  "language_info": {
   "name": "python"
  },
  "orig_nbformat": 4
 },
 "nbformat": 4,
 "nbformat_minor": 2
}
