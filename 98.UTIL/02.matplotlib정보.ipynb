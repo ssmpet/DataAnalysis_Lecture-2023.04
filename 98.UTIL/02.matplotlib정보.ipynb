{
 "cells": [
  {
   "attachments": {},
   "cell_type": "markdown",
   "metadata": {},
   "source": [
    "### matplotlib INFO"
   ]
  },
  {
   "attachments": {},
   "cell_type": "markdown",
   "metadata": {},
   "source": [
    "##### https://matplotlib.org/stable/index.html"
   ]
  },
  {
   "attachments": {},
   "cell_type": "markdown",
   "metadata": {},
   "source": [
    "- 색깔\n",
    "    - http://matplotlib.org/examples/color/named_colors.html"
   ]
  },
  {
   "attachments": {},
   "cell_type": "markdown",
   "metadata": {},
   "source": [
    "blue\t: b\n",
    "\n",
    "green\t: g\n",
    "\n",
    "red\t    : r\n",
    "\n",
    "cyan\t: c\n",
    "\n",
    "magenta\t: m\n",
    "\n",
    "yellow\t: y\n",
    "\n",
    "black\t: k\n",
    "\n",
    "white\t: w"
   ]
  },
  {
   "attachments": {},
   "cell_type": "markdown",
   "metadata": {},
   "source": [
    "- 마커\n",
    "    - 데이터 위치를 나타내는 기호를 마커(marker)라고 한다. 마커의 종류는 다음과 같다."
   ]
  },
  {
   "attachments": {},
   "cell_type": "markdown",
   "metadata": {},
   "source": [
    ".   : point marker\n",
    "\n",
    ",   : pixel marker\n",
    "\n",
    "o   : circle marker\n",
    "\n",
    "v   : triangle_down marker\n",
    "\n",
    "^   : triangle_up marker\n",
    "\n",
    "<   : triangle_left marker\n",
    "\n",
    "\\>   : triangle_right marker\n",
    "\n",
    "1   : tri_down marker\n",
    "\n",
    "2   : tri_up marker\n",
    "\n",
    "3   : tri_left marker\n",
    "\n",
    "4   : tri_right marker\n",
    "\n",
    "s   : square marker\n",
    "\n",
    "p   : pentagon marker\n",
    "\n",
    "\\*   : star marker\n",
    "\n",
    "h   : hexagon1 marker\n",
    "\n",
    "H   : hexagon2 marker\n",
    "\n",
    "\\+   : plus marker\n",
    "\n",
    "x   : x marker\n",
    "\n",
    "D   : diamond marker\n",
    "\n",
    "d   : thin_diamond marker"
   ]
  },
  {
   "attachments": {},
   "cell_type": "markdown",
   "metadata": {},
   "source": [
    "- 선 스타일"
   ]
  },
  {
   "attachments": {},
   "cell_type": "markdown",
   "metadata": {},
   "source": [
    "\\-  -> solid line style\n",
    "\n",
    "\\-- -> dashed line style\n",
    "\n",
    "\\-. -> dash-dot line style\n",
    "\n",
    "\\:  -> dotted line style"
   ]
  },
  {
   "attachments": {},
   "cell_type": "markdown",
   "metadata": {},
   "source": [
    "- 기타 스타일"
   ]
  },
  {
   "attachments": {},
   "cell_type": "markdown",
   "metadata": {},
   "source": [
    "color   : c :  선 색깔\n",
    "\n",
    "linewidth :  lw : 선 굵기\n",
    "\n",
    "linestyle :  ls : 선 스타일\n",
    "\n",
    "marker     : 마커 종류\n",
    "\n",
    "markersize : ms : 마커 크기\n",
    "\n",
    "markeredgecolor  :   mec : 마커 선 색깔\n",
    "\n",
    "markeredgewidth  :   mew : 마커 선 굵기\n",
    "\n",
    "markerfacecolor  :   mfc : 마커 내부 색깔"
   ]
  },
  {
   "attachments": {},
   "cell_type": "markdown",
   "metadata": {},
   "source": [
    "- 범례"
   ]
  },
  {
   "attachments": {},
   "cell_type": "markdown",
   "metadata": {},
   "source": [
    "best    : 0\n",
    "\n",
    "upper right : 1\n",
    "\n",
    "upper left : 2\n",
    "\n",
    "lower left : 3\n",
    "\n",
    "lower right : 4\n",
    "\n",
    "right : 5\n",
    "\n",
    "center left : 6\n",
    "\n",
    "center right : 7\n",
    "\n",
    "lower center : 8\n",
    "\n",
    "upper center : 9\n",
    "\n",
    "center : 10"
   ]
  }
 ],
 "metadata": {
  "language_info": {
   "name": "python"
  },
  "orig_nbformat": 4
 },
 "nbformat": 4,
 "nbformat_minor": 2
}
