{
 "cells": [
  {
   "attachments": {},
   "cell_type": "markdown",
   "metadata": {},
   "source": [
    "rocket, mako, flare,  crest\n",
    "\n",
    "magma, viridis, rocket_r\n",
    "\n",
    "cubehelix, seagreen\n",
    "\n",
    "dark:salmon_r\n",
    "\n",
    "Blues, vlag, icefire, Spectral, coolwarm"
   ]
  }
 ],
 "metadata": {
  "language_info": {
   "name": "python"
  },
  "orig_nbformat": 4
 },
 "nbformat": 4,
 "nbformat_minor": 2
}
