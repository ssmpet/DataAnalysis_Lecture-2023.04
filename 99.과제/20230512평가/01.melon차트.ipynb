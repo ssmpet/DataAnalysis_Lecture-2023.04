{
 "cells": [
  {
   "cell_type": "code",
   "execution_count": 27,
   "metadata": {},
   "outputs": [],
   "source": [
    "import requests\n",
    "from bs4 import BeautifulSoup\n",
    "from datetime import datetime\n",
    "import numpy as np\n",
    "import pandas as pd\n",
    "from selenium import webdriver\n",
    "\n",
    "import warnings\n",
    "warnings.filterwarnings('ignore')\n",
    "\n",
    "from selenium.webdriver.common.keys import Keys\n",
    "from selenium.webdriver.common.by import By\n",
    "import time\n"
   ]
  },
  {
   "cell_type": "code",
   "execution_count": 26,
   "metadata": {},
   "outputs": [
    {
     "data": {
      "text/html": [
       "<div>\n",
       "<style scoped>\n",
       "    .dataframe tbody tr th:only-of-type {\n",
       "        vertical-align: middle;\n",
       "    }\n",
       "\n",
       "    .dataframe tbody tr th {\n",
       "        vertical-align: top;\n",
       "    }\n",
       "\n",
       "    .dataframe thead th {\n",
       "        text-align: right;\n",
       "    }\n",
       "</style>\n",
       "<table border=\"1\" class=\"dataframe\">\n",
       "  <thead>\n",
       "    <tr style=\"text-align: right;\">\n",
       "      <th></th>\n",
       "      <th>순위</th>\n",
       "      <th>곡명</th>\n",
       "      <th>아티스트</th>\n",
       "      <th>앨범</th>\n",
       "      <th>이미지</th>\n",
       "    </tr>\n",
       "  </thead>\n",
       "  <tbody>\n",
       "    <tr>\n",
       "      <th>0</th>\n",
       "      <td>1</td>\n",
       "      <td>I AM</td>\n",
       "      <td>IVE (아이브)</td>\n",
       "      <td>I've IVE</td>\n",
       "      <td>https://cdnimg.melon.co.kr/cm2/album/images/11...</td>\n",
       "    </tr>\n",
       "    <tr>\n",
       "      <th>1</th>\n",
       "      <td>2</td>\n",
       "      <td>UNFORGIVEN (feat. Nile Rodgers)</td>\n",
       "      <td>LE SSERAFIM (르세라핌)</td>\n",
       "      <td>UNFORGIVEN</td>\n",
       "      <td>https://cdnimg.melon.co.kr/cm2/album/images/11...</td>\n",
       "    </tr>\n",
       "    <tr>\n",
       "      <th>2</th>\n",
       "      <td>3</td>\n",
       "      <td>Kitsch</td>\n",
       "      <td>IVE (아이브)</td>\n",
       "      <td>I've IVE</td>\n",
       "      <td>https://cdnimg.melon.co.kr/cm2/album/images/11...</td>\n",
       "    </tr>\n",
       "    <tr>\n",
       "      <th>3</th>\n",
       "      <td>4</td>\n",
       "      <td>손오공</td>\n",
       "      <td>세븐틴 (SEVENTEEN)</td>\n",
       "      <td>SEVENTEEN 10th Mini Album ‘FML'</td>\n",
       "      <td>https://cdnimg.melon.co.kr/cm2/album/images/11...</td>\n",
       "    </tr>\n",
       "    <tr>\n",
       "      <th>4</th>\n",
       "      <td>5</td>\n",
       "      <td>Spicy</td>\n",
       "      <td>aespa</td>\n",
       "      <td>MY WORLD - The 3rd Mini Album</td>\n",
       "      <td>https://cdnimg.melon.co.kr/cm2/album/images/11...</td>\n",
       "    </tr>\n",
       "  </tbody>\n",
       "</table>\n",
       "</div>"
      ],
      "text/plain": [
       "  순위                               곡명                아티스트   \n",
       "0  1                             I AM           IVE (아이브)  \\\n",
       "1  2  UNFORGIVEN (feat. Nile Rodgers)  LE SSERAFIM (르세라핌)   \n",
       "2  3                           Kitsch           IVE (아이브)   \n",
       "3  4                              손오공     세븐틴 (SEVENTEEN)   \n",
       "4  5                            Spicy               aespa   \n",
       "\n",
       "                                앨범   \n",
       "0                         I've IVE  \\\n",
       "1                       UNFORGIVEN   \n",
       "2                         I've IVE   \n",
       "3  SEVENTEEN 10th Mini Album ‘FML'   \n",
       "4    MY WORLD - The 3rd Mini Album   \n",
       "\n",
       "                                                 이미지  \n",
       "0  https://cdnimg.melon.co.kr/cm2/album/images/11...  \n",
       "1  https://cdnimg.melon.co.kr/cm2/album/images/11...  \n",
       "2  https://cdnimg.melon.co.kr/cm2/album/images/11...  \n",
       "3  https://cdnimg.melon.co.kr/cm2/album/images/11...  \n",
       "4  https://cdnimg.melon.co.kr/cm2/album/images/11...  "
      ]
     },
     "execution_count": 26,
     "metadata": {},
     "output_type": "execute_result"
    }
   ],
   "source": [
    "url = 'https://www.melon.com/chart/index.htm'\n",
    "header = {'User-Agent': 'Mozilla/5.0 (Windows NT 10.0; Win64; x64) AppleWebKit/537.36 (KHTML, like Gecko) Chrome/112.0.0.0 Safari/537.36'}\n",
    "\n",
    "result = requests.get(url, headers=header)\n",
    "\n",
    "if result.status_code != 200:\n",
    "    print('result.status_code = ', result.status_code)\n",
    "\n",
    "soup = BeautifulSoup(result.text, 'html.parser')\n",
    "trs = soup.select(' tbody > tr')\n",
    "\n",
    "lines = []\n",
    "for tr in trs:\n",
    "    rank = tr.select_one('.rank').get_text().strip()\n",
    "    img = tr.select_one('img')['src']\n",
    "    title = tr.select_one('.rank01 > span > a').get_text()\n",
    "    artist = tr.select_one('.rank02 > a').get_text()\n",
    "    album = tr.select_one('.rank03 > a').get_text()\n",
    "    lines.append({'순위': rank, '곡명': title, '아티스트': artist, '앨범': album, '이미지': img})\n",
    "\n",
    "df = pd.DataFrame(lines)     \n",
    "df.head()"
   ]
  },
  {
   "cell_type": "code",
   "execution_count": 25,
   "metadata": {},
   "outputs": [
    {
     "data": {
      "text/html": [
       "<div>\n",
       "<style scoped>\n",
       "    .dataframe tbody tr th:only-of-type {\n",
       "        vertical-align: middle;\n",
       "    }\n",
       "\n",
       "    .dataframe tbody tr th {\n",
       "        vertical-align: top;\n",
       "    }\n",
       "\n",
       "    .dataframe thead th {\n",
       "        text-align: right;\n",
       "    }\n",
       "</style>\n",
       "<table border=\"1\" class=\"dataframe\">\n",
       "  <thead>\n",
       "    <tr style=\"text-align: right;\">\n",
       "      <th></th>\n",
       "      <th>순위</th>\n",
       "      <th>곡명</th>\n",
       "      <th>아티스트</th>\n",
       "      <th>앨범</th>\n",
       "      <th>이미지</th>\n",
       "    </tr>\n",
       "  </thead>\n",
       "  <tbody>\n",
       "    <tr>\n",
       "      <th>0</th>\n",
       "      <td>1</td>\n",
       "      <td>I AM</td>\n",
       "      <td>IVE (아이브)</td>\n",
       "      <td>I've IVE</td>\n",
       "      <td>https://cdnimg.melon.co.kr/cm2/album/images/11...</td>\n",
       "    </tr>\n",
       "    <tr>\n",
       "      <th>1</th>\n",
       "      <td>2</td>\n",
       "      <td>UNFORGIVEN (feat. Nile Rodgers)</td>\n",
       "      <td>LE SSERAFIM (르세라핌)</td>\n",
       "      <td>UNFORGIVEN</td>\n",
       "      <td>https://cdnimg.melon.co.kr/cm2/album/images/11...</td>\n",
       "    </tr>\n",
       "    <tr>\n",
       "      <th>2</th>\n",
       "      <td>3</td>\n",
       "      <td>Kitsch</td>\n",
       "      <td>IVE (아이브)</td>\n",
       "      <td>I've IVE</td>\n",
       "      <td>https://cdnimg.melon.co.kr/cm2/album/images/11...</td>\n",
       "    </tr>\n",
       "    <tr>\n",
       "      <th>3</th>\n",
       "      <td>4</td>\n",
       "      <td>손오공</td>\n",
       "      <td>세븐틴 (SEVENTEEN)</td>\n",
       "      <td>SEVENTEEN 10th Mini Album ‘FML'</td>\n",
       "      <td>https://cdnimg.melon.co.kr/cm2/album/images/11...</td>\n",
       "    </tr>\n",
       "    <tr>\n",
       "      <th>4</th>\n",
       "      <td>5</td>\n",
       "      <td>Spicy</td>\n",
       "      <td>aespa</td>\n",
       "      <td>MY WORLD - The 3rd Mini Album</td>\n",
       "      <td>https://cdnimg.melon.co.kr/cm2/album/images/11...</td>\n",
       "    </tr>\n",
       "  </tbody>\n",
       "</table>\n",
       "</div>"
      ],
      "text/plain": [
       "   순위                               곡명                아티스트   \n",
       "0   1                             I AM           IVE (아이브)  \\\n",
       "1   2  UNFORGIVEN (feat. Nile Rodgers)  LE SSERAFIM (르세라핌)   \n",
       "2   3                           Kitsch           IVE (아이브)   \n",
       "3   4                              손오공     세븐틴 (SEVENTEEN)   \n",
       "4   5                            Spicy               aespa   \n",
       "\n",
       "                                앨범   \n",
       "0                         I've IVE  \\\n",
       "1                       UNFORGIVEN   \n",
       "2                         I've IVE   \n",
       "3  SEVENTEEN 10th Mini Album ‘FML'   \n",
       "4    MY WORLD - The 3rd Mini Album   \n",
       "\n",
       "                                                 이미지  \n",
       "0  https://cdnimg.melon.co.kr/cm2/album/images/11...  \n",
       "1  https://cdnimg.melon.co.kr/cm2/album/images/11...  \n",
       "2  https://cdnimg.melon.co.kr/cm2/album/images/11...  \n",
       "3  https://cdnimg.melon.co.kr/cm2/album/images/11...  \n",
       "4  https://cdnimg.melon.co.kr/cm2/album/images/11...  "
      ]
     },
     "execution_count": 25,
     "metadata": {},
     "output_type": "execute_result"
    }
   ],
   "source": [
    "now = datetime.now()\n",
    "\n",
    "df.to_csv(f\"static/data/멜론_{now.strftime('%Y')[2:]}{now.strftime('%m%d%H')}.csv\", index=False)\n",
    "\n"
   ]
  },
  {
   "cell_type": "code",
   "execution_count": 87,
   "metadata": {},
   "outputs": [],
   "source": [
    "import re\n",
    "def convert_num(s):\n",
    "    return int(re.sub('[,억개 ]', '', s).replace('만', '0000'))"
   ]
  },
  {
   "cell_type": "code",
   "execution_count": 92,
   "metadata": {},
   "outputs": [
    {
     "name": "stdout",
     "output_type": "stream",
     "text": [
      "100\n",
      "BLACKPINK\n",
      "BANGTANTV\n",
      "HYBE LABELS\n",
      "SMTOWN\n",
      "JYP Entertainment\n",
      "Boram Tube Vlog [보람튜브 브이로그]\n",
      "1MILLION Dance Studio\n",
      "1theK (원더케이)\n",
      "Alan Becker\n",
      "Mnet K-POP\n"
     ]
    },
    {
     "data": {
      "text/html": [
       "<div>\n",
       "<style scoped>\n",
       "    .dataframe tbody tr th:only-of-type {\n",
       "        vertical-align: middle;\n",
       "    }\n",
       "\n",
       "    .dataframe tbody tr th {\n",
       "        vertical-align: top;\n",
       "    }\n",
       "\n",
       "    .dataframe thead th {\n",
       "        text-align: right;\n",
       "    }\n",
       "</style>\n",
       "<table border=\"1\" class=\"dataframe\">\n",
       "  <thead>\n",
       "    <tr style=\"text-align: right;\">\n",
       "      <th></th>\n",
       "      <th>순위</th>\n",
       "      <th>카테고리</th>\n",
       "      <th>채널</th>\n",
       "      <th>구독자수</th>\n",
       "      <th>조회수</th>\n",
       "      <th>비디오</th>\n",
       "    </tr>\n",
       "  </thead>\n",
       "  <tbody>\n",
       "    <tr>\n",
       "      <th>0</th>\n",
       "      <td>1</td>\n",
       "      <td>음악/댄스/가수</td>\n",
       "      <td>BLACKPINK</td>\n",
       "      <td>88000000</td>\n",
       "      <td>30959130000</td>\n",
       "      <td>514</td>\n",
       "    </tr>\n",
       "    <tr>\n",
       "      <th>1</th>\n",
       "      <td>2</td>\n",
       "      <td>음악/댄스/가수</td>\n",
       "      <td>BANGTANTV</td>\n",
       "      <td>74600000</td>\n",
       "      <td>20279390000</td>\n",
       "      <td>2195</td>\n",
       "    </tr>\n",
       "    <tr>\n",
       "      <th>2</th>\n",
       "      <td>3</td>\n",
       "      <td>음악/댄스/가수</td>\n",
       "      <td>HYBE LABELS</td>\n",
       "      <td>70600000</td>\n",
       "      <td>27690310000</td>\n",
       "      <td>1185</td>\n",
       "    </tr>\n",
       "    <tr>\n",
       "      <th>3</th>\n",
       "      <td>4</td>\n",
       "      <td>음악/댄스/가수</td>\n",
       "      <td>SMTOWN</td>\n",
       "      <td>31700000</td>\n",
       "      <td>26928580000</td>\n",
       "      <td>4121</td>\n",
       "    </tr>\n",
       "    <tr>\n",
       "      <th>4</th>\n",
       "      <td>5</td>\n",
       "      <td>음악/댄스/가수</td>\n",
       "      <td>JYP Entertainment</td>\n",
       "      <td>26900000</td>\n",
       "      <td>19395230000</td>\n",
       "      <td>1678</td>\n",
       "    </tr>\n",
       "  </tbody>\n",
       "</table>\n",
       "</div>"
      ],
      "text/plain": [
       "   순위      카테고리                 채널      구독자수          조회수   비디오\n",
       "0   1  음악/댄스/가수          BLACKPINK  88000000  30959130000   514\n",
       "1   2  음악/댄스/가수          BANGTANTV  74600000  20279390000  2195\n",
       "2   3  음악/댄스/가수        HYBE LABELS  70600000  27690310000  1185\n",
       "3   4  음악/댄스/가수             SMTOWN  31700000  26928580000  4121\n",
       "4   5  음악/댄스/가수  JYP Entertainment  26900000  19395230000  1678"
      ]
     },
     "execution_count": 92,
     "metadata": {},
     "output_type": "execute_result"
    }
   ],
   "source": [
    "# webdrive로\n",
    "\n",
    "base_url = 'https://youtube-rank.com/board/bbs/board.php?bo_table=youtube&page='\n",
    "driver = webdriver.Chrome('C:/Users/YONSAI/Downloads/chromedriver_win32/chromedriver.exe')\n",
    "\n",
    "lines = []\n",
    "for i in range(1, 101):\n",
    "    driver.get(base_url + str(i))\n",
    "    time.sleep(3)\n",
    "\n",
    "    soup = BeautifulSoup(driver.page_source, 'html.parser')\n",
    "    trs = soup.select('.aos-init')\n",
    "\n",
    "    for tr in trs:\n",
    "        rank = int(tr.select_one('.rank').get_text().strip())\n",
    "        category = tr.select_one('.category').get_text().strip()[1:-1]\n",
    "        channel = tr.select_one(' h1 > a').get_text().strip()\n",
    "\n",
    "        subscriber = convert_num(tr.select_one('.subscriber_cnt').get_text())\n",
    "        view = convert_num(tr.select_one('.view_cnt').get_text())\n",
    "        video = convert_num(tr.select_one('.video_cnt').get_text())\n",
    "\n",
    "        lines.append({'순위':rank, '카테고리':category, '채널': channel, '구독자수': subscriber, '조회수': view, '비디오': video})\n",
    "\n",
    "\n",
    "df = pd.DataFrame(lines)\n",
    "\n",
    "driver.close()\n",
    "\n",
    "df.head()"
   ]
  },
  {
   "cell_type": "code",
   "execution_count": 90,
   "metadata": {},
   "outputs": [
    {
     "name": "stdout",
     "output_type": "stream",
     "text": [
      "0\n"
     ]
    },
    {
     "ename": "WebDriverException",
     "evalue": "Message: disconnected: not connected to DevTools\n  (failed to check if window was closed: disconnected: not connected to DevTools)\n  (Session info: chrome=112.0.5615.140)\nStacktrace:\nBacktrace:\n\tGetHandleVerifier [0x0099DCE3+50899]\n\t(No symbol) [0x0092E111]\n\t(No symbol) [0x00835588]\n\t(No symbol) [0x008270CB]\n\t(No symbol) [0x0082778A]\n\t(No symbol) [0x00827728]\n\t(No symbol) [0x0081C37A]\n\t(No symbol) [0x0081CBD7]\n\t(No symbol) [0x00883C48]\n\t(No symbol) [0x0087B8C3]\n\t(No symbol) [0x00857708]\n\t(No symbol) [0x0085886D]\n\tGetHandleVerifier [0x00C03EAE+2566302]\n\tGetHandleVerifier [0x00C392B1+2784417]\n\tGetHandleVerifier [0x00C3327C+2759788]\n\tGetHandleVerifier [0x00A35740+672048]\n\t(No symbol) [0x00938872]\n\t(No symbol) [0x009341C8]\n\t(No symbol) [0x009342AB]\n\t(No symbol) [0x009271B7]\n\tBaseThreadInitThunk [0x775E00C9+25]\n\tRtlGetAppContainerNamedObjectPath [0x77CC7B4E+286]\n\tRtlGetAppContainerNamedObjectPath [0x77CC7B1E+238]\n",
     "output_type": "error",
     "traceback": [
      "\u001b[1;31m---------------------------------------------------------------------------\u001b[0m",
      "\u001b[1;31mWebDriverException\u001b[0m                        Traceback (most recent call last)",
      "Cell \u001b[1;32mIn[90], line 32\u001b[0m\n\u001b[0;32m     27\u001b[0m         lines\u001b[39m.\u001b[39mappend({\u001b[39m'\u001b[39m\u001b[39m순위\u001b[39m\u001b[39m'\u001b[39m:rank, \u001b[39m'\u001b[39m\u001b[39m카테고리\u001b[39m\u001b[39m'\u001b[39m:category, \u001b[39m'\u001b[39m\u001b[39m채널\u001b[39m\u001b[39m'\u001b[39m: channel, \u001b[39m'\u001b[39m\u001b[39m구독자수\u001b[39m\u001b[39m'\u001b[39m: subscriber, \u001b[39m'\u001b[39m\u001b[39m조회수\u001b[39m\u001b[39m'\u001b[39m: view, \u001b[39m'\u001b[39m\u001b[39m비디오\u001b[39m\u001b[39m'\u001b[39m: video})\n\u001b[0;32m     30\u001b[0m df \u001b[39m=\u001b[39m pd\u001b[39m.\u001b[39mDataFrame(lines)\n\u001b[1;32m---> 32\u001b[0m driver\u001b[39m.\u001b[39;49mclose()\n\u001b[0;32m     34\u001b[0m df\u001b[39m.\u001b[39mhead()\n",
      "File \u001b[1;32mc:\\Users\\YONSAI\\anaconda3\\lib\\site-packages\\selenium\\webdriver\\remote\\webdriver.py:551\u001b[0m, in \u001b[0;36mWebDriver.close\u001b[1;34m(self)\u001b[0m\n\u001b[0;32m    543\u001b[0m \u001b[39mdef\u001b[39;00m \u001b[39mclose\u001b[39m(\u001b[39mself\u001b[39m) \u001b[39m-\u001b[39m\u001b[39m>\u001b[39m \u001b[39mNone\u001b[39;00m:\n\u001b[0;32m    544\u001b[0m \u001b[39m    \u001b[39m\u001b[39m\"\"\"Closes the current window.\u001b[39;00m\n\u001b[0;32m    545\u001b[0m \n\u001b[0;32m    546\u001b[0m \u001b[39m    :Usage:\u001b[39;00m\n\u001b[1;32m   (...)\u001b[0m\n\u001b[0;32m    549\u001b[0m \u001b[39m            driver.close()\u001b[39;00m\n\u001b[0;32m    550\u001b[0m \u001b[39m    \"\"\"\u001b[39;00m\n\u001b[1;32m--> 551\u001b[0m     \u001b[39mself\u001b[39;49m\u001b[39m.\u001b[39;49mexecute(Command\u001b[39m.\u001b[39;49mCLOSE)\n",
      "File \u001b[1;32mc:\\Users\\YONSAI\\anaconda3\\lib\\site-packages\\selenium\\webdriver\\remote\\webdriver.py:440\u001b[0m, in \u001b[0;36mWebDriver.execute\u001b[1;34m(self, driver_command, params)\u001b[0m\n\u001b[0;32m    438\u001b[0m response \u001b[39m=\u001b[39m \u001b[39mself\u001b[39m\u001b[39m.\u001b[39mcommand_executor\u001b[39m.\u001b[39mexecute(driver_command, params)\n\u001b[0;32m    439\u001b[0m \u001b[39mif\u001b[39;00m response:\n\u001b[1;32m--> 440\u001b[0m     \u001b[39mself\u001b[39;49m\u001b[39m.\u001b[39;49merror_handler\u001b[39m.\u001b[39;49mcheck_response(response)\n\u001b[0;32m    441\u001b[0m     response[\u001b[39m\"\u001b[39m\u001b[39mvalue\u001b[39m\u001b[39m\"\u001b[39m] \u001b[39m=\u001b[39m \u001b[39mself\u001b[39m\u001b[39m.\u001b[39m_unwrap_value(response\u001b[39m.\u001b[39mget(\u001b[39m\"\u001b[39m\u001b[39mvalue\u001b[39m\u001b[39m\"\u001b[39m, \u001b[39mNone\u001b[39;00m))\n\u001b[0;32m    442\u001b[0m     \u001b[39mreturn\u001b[39;00m response\n",
      "File \u001b[1;32mc:\\Users\\YONSAI\\anaconda3\\lib\\site-packages\\selenium\\webdriver\\remote\\errorhandler.py:245\u001b[0m, in \u001b[0;36mErrorHandler.check_response\u001b[1;34m(self, response)\u001b[0m\n\u001b[0;32m    243\u001b[0m         alert_text \u001b[39m=\u001b[39m value[\u001b[39m\"\u001b[39m\u001b[39malert\u001b[39m\u001b[39m\"\u001b[39m]\u001b[39m.\u001b[39mget(\u001b[39m\"\u001b[39m\u001b[39mtext\u001b[39m\u001b[39m\"\u001b[39m)\n\u001b[0;32m    244\u001b[0m     \u001b[39mraise\u001b[39;00m exception_class(message, screen, stacktrace, alert_text)  \u001b[39m# type: ignore[call-arg]  # mypy is not smart enough here\u001b[39;00m\n\u001b[1;32m--> 245\u001b[0m \u001b[39mraise\u001b[39;00m exception_class(message, screen, stacktrace)\n",
      "\u001b[1;31mWebDriverException\u001b[0m: Message: disconnected: not connected to DevTools\n  (failed to check if window was closed: disconnected: not connected to DevTools)\n  (Session info: chrome=112.0.5615.140)\nStacktrace:\nBacktrace:\n\tGetHandleVerifier [0x0099DCE3+50899]\n\t(No symbol) [0x0092E111]\n\t(No symbol) [0x00835588]\n\t(No symbol) [0x008270CB]\n\t(No symbol) [0x0082778A]\n\t(No symbol) [0x00827728]\n\t(No symbol) [0x0081C37A]\n\t(No symbol) [0x0081CBD7]\n\t(No symbol) [0x00883C48]\n\t(No symbol) [0x0087B8C3]\n\t(No symbol) [0x00857708]\n\t(No symbol) [0x0085886D]\n\tGetHandleVerifier [0x00C03EAE+2566302]\n\tGetHandleVerifier [0x00C392B1+2784417]\n\tGetHandleVerifier [0x00C3327C+2759788]\n\tGetHandleVerifier [0x00A35740+672048]\n\t(No symbol) [0x00938872]\n\t(No symbol) [0x009341C8]\n\t(No symbol) [0x009342AB]\n\t(No symbol) [0x009271B7]\n\tBaseThreadInitThunk [0x775E00C9+25]\n\tRtlGetAppContainerNamedObjectPath [0x77CC7B4E+286]\n\tRtlGetAppContainerNamedObjectPath [0x77CC7B1E+238]\n"
     ]
    }
   ],
   "source": [
    "\n",
    "base_url = 'https://youtube-rank.com/board/bbs/board.php?bo_table=youtube&page='\n",
    "# driver = webdriver.Chrome('C:/Users/YONSAI/Downloads/chromedriver_win32/chromedriver.exe')\n",
    "\n",
    "\n",
    "lines = []\n",
    "for i in range(1, 2):\n",
    "    # driver.get(base_url + str(i))\n",
    "    # time.sleep(3)\n",
    "    result = requests.get(base_url + str(i), headers=header)\n",
    "\n",
    "\n",
    "    soup = BeautifulSoup(result.text, 'html.parser')\n",
    "    trs = soup.select('.aos-init')\n",
    "    print(len(trs))\n",
    "    for tr in trs[:10]:\n",
    "        rank = int(tr.select_one('.rank').get_text().strip())\n",
    "        category = tr.select_one('.category').get_text().strip()[1:-1]\n",
    "        channel = ''\n",
    "        # channel = tr.select('.subject > h1')\n",
    "        # channel = tr.select('.subject > h1').get_text().strip() ## 읽혀지지 않는다. \n",
    "        # print(type(channel[0].get_attribute_list()))\n",
    "\n",
    "        subscriber = convert_num(tr.select_one('.subscriber_cnt').get_text())\n",
    "        view = convert_num(tr.select_one('.view_cnt').get_text())\n",
    "        video = convert_num(tr.select_one('.video_cnt').get_text())\n",
    "\n",
    "        lines.append({'순위':rank, '카테고리':category, '채널': channel, '구독자수': subscriber, '조회수': view, '비디오': video})\n",
    "\n",
    "\n",
    "df = pd.DataFrame(lines)\n",
    "\n",
    "driver.close()\n",
    "\n",
    "df.head()"
   ]
  },
  {
   "cell_type": "code",
   "execution_count": 49,
   "metadata": {},
   "outputs": [
    {
     "data": {
      "text/plain": [
       "100"
      ]
     },
     "execution_count": 49,
     "metadata": {},
     "output_type": "execute_result"
    }
   ],
   "source": [
    "trs = driver.find_elements(By.CLASS_NAME, 'aos-init')\n",
    "len(trs)"
   ]
  },
  {
   "cell_type": "code",
   "execution_count": 59,
   "metadata": {},
   "outputs": [
    {
     "data": {
      "text/plain": [
       "1"
      ]
     },
     "execution_count": 59,
     "metadata": {},
     "output_type": "execute_result"
    }
   ],
   "source": [
    "tr = trs[0]\n",
    "int(tr.find_element(By.CLASS_NAME, 'rank').text.strip())"
   ]
  },
  {
   "cell_type": "code",
   "execution_count": 51,
   "metadata": {},
   "outputs": [
    {
     "data": {
      "text/plain": [
       "'[음악/댄스/가수]'"
      ]
     },
     "execution_count": 51,
     "metadata": {},
     "output_type": "execute_result"
    }
   ],
   "source": [
    "tr.find_element(By.CLASS_NAME, 'category').text.strip()"
   ]
  },
  {
   "cell_type": "code",
   "execution_count": 52,
   "metadata": {},
   "outputs": [
    {
     "data": {
      "text/plain": [
       "'BLACKPINK'"
      ]
     },
     "execution_count": 52,
     "metadata": {},
     "output_type": "execute_result"
    }
   ],
   "source": [
    "tr.find_element(By.CSS_SELECTOR, 'td > h1 > a').text.strip()"
   ]
  },
  {
   "cell_type": "code",
   "execution_count": 53,
   "metadata": {},
   "outputs": [
    {
     "data": {
      "text/plain": [
       "'8800만'"
      ]
     },
     "execution_count": 53,
     "metadata": {},
     "output_type": "execute_result"
    }
   ],
   "source": [
    "tr.find_element(By.CLASS_NAME, 'subscriber_cnt').text.strip()"
   ]
  },
  {
   "cell_type": "code",
   "execution_count": 54,
   "metadata": {},
   "outputs": [
    {
     "data": {
      "text/plain": [
       "'309억5913만'"
      ]
     },
     "execution_count": 54,
     "metadata": {},
     "output_type": "execute_result"
    }
   ],
   "source": [
    "tr.find_element(By.CLASS_NAME, 'view_cnt').text.strip()"
   ]
  },
  {
   "cell_type": "code",
   "execution_count": 55,
   "metadata": {},
   "outputs": [
    {
     "data": {
      "text/plain": [
       "'514개'"
      ]
     },
     "execution_count": 55,
     "metadata": {},
     "output_type": "execute_result"
    }
   ],
   "source": [
    "\n",
    "tr.find_element(By.CLASS_NAME, 'video_cnt').text.strip()"
   ]
  },
  {
   "cell_type": "code",
   "execution_count": 82,
   "metadata": {},
   "outputs": [
    {
     "name": "stdout",
     "output_type": "stream",
     "text": [
      "100\n",
      "1\n",
      "2\n",
      "\n",
      "\n",
      "\n",
      "\n",
      "\n",
      "\n",
      "\n",
      "\n"
     ]
    },
    {
     "data": {
      "text/html": [
       "<div>\n",
       "<style scoped>\n",
       "    .dataframe tbody tr th:only-of-type {\n",
       "        vertical-align: middle;\n",
       "    }\n",
       "\n",
       "    .dataframe tbody tr th {\n",
       "        vertical-align: top;\n",
       "    }\n",
       "\n",
       "    .dataframe thead th {\n",
       "        text-align: right;\n",
       "    }\n",
       "</style>\n",
       "<table border=\"1\" class=\"dataframe\">\n",
       "  <thead>\n",
       "    <tr style=\"text-align: right;\">\n",
       "      <th></th>\n",
       "    </tr>\n",
       "  </thead>\n",
       "  <tbody>\n",
       "  </tbody>\n",
       "</table>\n",
       "</div>"
      ],
      "text/plain": [
       "Empty DataFrame\n",
       "Columns: []\n",
       "Index: []"
      ]
     },
     "execution_count": 82,
     "metadata": {},
     "output_type": "execute_result"
    }
   ],
   "source": [
    "base_url = 'https://youtube-rank.com/board/bbs/board.php?bo_table=youtube&page='\n",
    "driver = webdriver.Chrome('C:/Users/YONSAI/Downloads/chromedriver_win32/chromedriver.exe')\n",
    "\n",
    "lines = []\n",
    "for i in range(1, 2):\n",
    "    driver.get(base_url + str(i))\n",
    "    time.sleep(3)\n",
    "\n",
    "    trs = driver.find_elements(By.CLASS_NAME, 'aos-init')\n",
    "    print(len(trs))\n",
    "    \n",
    "    for tr in trs[:10]:\n",
    "        \n",
    "        rank = tr.find_element(By.CLASS_NAME, 'rank').text.strip()\n",
    "        print(rank)\n",
    "       \n",
    "        # category = tr.find_element(By.CSS_SELECTOR, '.category').text.strip()[1:-1]\n",
    "        # channel = tr.find_element(By.CSS_SELECTOR, 'td > h1 > a').text.strip()\n",
    "\n",
    "        # subscriber = convert_num(tr.find_element(By.CSS_SELECTOR, '.subscriber_cnt').text.strip())\n",
    "        # view = convert_num(tr.find_element(By.CSS_SELECTOR, '.view_cnt').text.strip())\n",
    "        # video = convert_num(tr.find_element(By.CSS_SELECTOR, '.video_cnt').text.strip())\n",
    "\n",
    "        # # print(rank, subscriber, view,  video)\n",
    "\n",
    "        # lines.append({'순위':rank, '카테고리':category, '채널': channel, '구독자수': subscriber, '조회수': view, '비디오': video})\n",
    "\n",
    "\n",
    "df = pd.DataFrame(lines)\n",
    "\n",
    "driver.close()\n",
    "\n",
    "df.head()\n"
   ]
  },
  {
   "cell_type": "code",
   "execution_count": 68,
   "metadata": {},
   "outputs": [
    {
     "data": {
      "text/plain": [
       "1"
      ]
     },
     "execution_count": 68,
     "metadata": {},
     "output_type": "execute_result"
    }
   ],
   "source": []
  },
  {
   "cell_type": "code",
   "execution_count": null,
   "metadata": {},
   "outputs": [],
   "source": []
  }
 ],
 "metadata": {
  "kernelspec": {
   "display_name": "base",
   "language": "python",
   "name": "python3"
  },
  "language_info": {
   "codemirror_mode": {
    "name": "ipython",
    "version": 3
   },
   "file_extension": ".py",
   "mimetype": "text/x-python",
   "name": "python",
   "nbconvert_exporter": "python",
   "pygments_lexer": "ipython3",
   "version": "3.10.10"
  },
  "orig_nbformat": 4
 },
 "nbformat": 4,
 "nbformat_minor": 2
}
