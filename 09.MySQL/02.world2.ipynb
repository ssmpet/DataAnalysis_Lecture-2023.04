{
 "cells": [
  {
   "attachments": {},
   "cell_type": "markdown",
   "metadata": {},
   "source": [
    "### World DAO를 이용한 DB Access"
   ]
  },
  {
   "cell_type": "code",
   "execution_count": 1,
   "metadata": {},
   "outputs": [],
   "source": [
    "import world_dao as wd\n",
    "import pandas as pd"
   ]
  },
  {
   "attachments": {},
   "cell_type": "markdown",
   "metadata": {},
   "source": [
    "- R: Retrieve/Read"
   ]
  },
  {
   "cell_type": "code",
   "execution_count": 2,
   "metadata": {},
   "outputs": [
    {
     "data": {
      "text/html": [
       "<div>\n",
       "<style scoped>\n",
       "    .dataframe tbody tr th:only-of-type {\n",
       "        vertical-align: middle;\n",
       "    }\n",
       "\n",
       "    .dataframe tbody tr th {\n",
       "        vertical-align: top;\n",
       "    }\n",
       "\n",
       "    .dataframe thead th {\n",
       "        text-align: right;\n",
       "    }\n",
       "</style>\n",
       "<table border=\"1\" class=\"dataframe\">\n",
       "  <thead>\n",
       "    <tr style=\"text-align: right;\">\n",
       "      <th></th>\n",
       "      <th>name</th>\n",
       "      <th>country_code</th>\n",
       "      <th>district</th>\n",
       "      <th>population</th>\n",
       "    </tr>\n",
       "    <tr>\n",
       "      <th>id</th>\n",
       "      <th></th>\n",
       "      <th></th>\n",
       "      <th></th>\n",
       "      <th></th>\n",
       "    </tr>\n",
       "  </thead>\n",
       "  <tbody>\n",
       "    <tr>\n",
       "      <th>2331</th>\n",
       "      <td>Seoul</td>\n",
       "      <td>KOR</td>\n",
       "      <td>Seoul</td>\n",
       "      <td>10000000</td>\n",
       "    </tr>\n",
       "    <tr>\n",
       "      <th>2332</th>\n",
       "      <td>Pusan</td>\n",
       "      <td>KOR</td>\n",
       "      <td>Pusan</td>\n",
       "      <td>3804522</td>\n",
       "    </tr>\n",
       "    <tr>\n",
       "      <th>2333</th>\n",
       "      <td>Inchon</td>\n",
       "      <td>KOR</td>\n",
       "      <td>Inchon</td>\n",
       "      <td>2559424</td>\n",
       "    </tr>\n",
       "    <tr>\n",
       "      <th>2334</th>\n",
       "      <td>Taegu</td>\n",
       "      <td>KOR</td>\n",
       "      <td>Taegu</td>\n",
       "      <td>2548568</td>\n",
       "    </tr>\n",
       "    <tr>\n",
       "      <th>2335</th>\n",
       "      <td>Taejon</td>\n",
       "      <td>KOR</td>\n",
       "      <td>Taejon</td>\n",
       "      <td>1425835</td>\n",
       "    </tr>\n",
       "    <tr>\n",
       "      <th>2336</th>\n",
       "      <td>Kwangju</td>\n",
       "      <td>KOR</td>\n",
       "      <td>Kwangju</td>\n",
       "      <td>1368341</td>\n",
       "    </tr>\n",
       "    <tr>\n",
       "      <th>2340</th>\n",
       "      <td>Suwon</td>\n",
       "      <td>KOR</td>\n",
       "      <td>Kyonggi</td>\n",
       "      <td>1200000</td>\n",
       "    </tr>\n",
       "    <tr>\n",
       "      <th>2337</th>\n",
       "      <td>Ulsan</td>\n",
       "      <td>KOR</td>\n",
       "      <td>Kyongsangnam</td>\n",
       "      <td>1084891</td>\n",
       "    </tr>\n",
       "    <tr>\n",
       "      <th>2338</th>\n",
       "      <td>Songnam</td>\n",
       "      <td>KOR</td>\n",
       "      <td>Kyonggi</td>\n",
       "      <td>869094</td>\n",
       "    </tr>\n",
       "    <tr>\n",
       "      <th>2339</th>\n",
       "      <td>Puchon</td>\n",
       "      <td>KOR</td>\n",
       "      <td>Kyonggi</td>\n",
       "      <td>779412</td>\n",
       "    </tr>\n",
       "  </tbody>\n",
       "</table>\n",
       "</div>"
      ],
      "text/plain": [
       "         name country_code      district  population\n",
       "id                                                  \n",
       "2331    Seoul          KOR         Seoul    10000000\n",
       "2332    Pusan          KOR         Pusan     3804522\n",
       "2333   Inchon          KOR        Inchon     2559424\n",
       "2334    Taegu          KOR         Taegu     2548568\n",
       "2335   Taejon          KOR        Taejon     1425835\n",
       "2336  Kwangju          KOR       Kwangju     1368341\n",
       "2340    Suwon          KOR       Kyonggi     1200000\n",
       "2337    Ulsan          KOR  Kyongsangnam     1084891\n",
       "2338  Songnam          KOR       Kyonggi      869094\n",
       "2339   Puchon          KOR       Kyonggi      779412"
      ]
     },
     "execution_count": 2,
     "metadata": {},
     "output_type": "execute_result"
    }
   ],
   "source": [
    "rows = wd.get_citylist_by_country('KOR', 10)\n",
    "df = pd.DataFrame(rows, columns=['id', 'name', 'country_code', 'district', 'population'])\n",
    "df.set_index('id', inplace=True)\n",
    "df"
   ]
  },
  {
   "cell_type": "code",
   "execution_count": 3,
   "metadata": {},
   "outputs": [
    {
     "data": {
      "text/plain": [
       "(2340, 'Suwon', 'KOR', 'Kyonggi', 1200000)"
      ]
     },
     "execution_count": 3,
     "metadata": {},
     "output_type": "execute_result"
    }
   ],
   "source": [
    "row = wd.get_city_by_name('Suwon')\n",
    "row"
   ]
  },
  {
   "attachments": {},
   "cell_type": "markdown",
   "metadata": {},
   "source": [
    "- C: Create"
   ]
  },
  {
   "cell_type": "code",
   "execution_count": 16,
   "metadata": {},
   "outputs": [],
   "source": [
    "params = ('노드JS', 'KOR', 'Kyonggi', 6000000)\n",
    "wd.insert_city(params)"
   ]
  },
  {
   "attachments": {},
   "cell_type": "markdown",
   "metadata": {},
   "source": [
    "- U: Update"
   ]
  },
  {
   "cell_type": "code",
   "execution_count": 21,
   "metadata": {},
   "outputs": [
    {
     "name": "stdout",
     "output_type": "stream",
     "text": [
      "(5015, '노드JS', 'KOR', '740000', 740000)\n"
     ]
    }
   ],
   "source": [
    "row = wd.get_city_by_name('노드JS')\n",
    "print(row)\n",
    "parmas = [row[1], row[2], row[3], row[4], row[0]]\n",
    "parmas[3] = 730000\n",
    "wd.update_city(parmas)"
   ]
  },
  {
   "attachments": {},
   "cell_type": "markdown",
   "metadata": {},
   "source": [
    "- D: Delete"
   ]
  },
  {
   "cell_type": "code",
   "execution_count": 23,
   "metadata": {},
   "outputs": [],
   "source": [
    "row = wd.get_city_by_name('노드JS')\n",
    "wd.delete_city(row[0])"
   ]
  }
 ],
 "metadata": {
  "kernelspec": {
   "display_name": "base",
   "language": "python",
   "name": "python3"
  },
  "language_info": {
   "codemirror_mode": {
    "name": "ipython",
    "version": 3
   },
   "file_extension": ".py",
   "mimetype": "text/x-python",
   "name": "python",
   "nbconvert_exporter": "python",
   "pygments_lexer": "ipython3",
   "version": "3.10.10"
  },
  "orig_nbformat": 4
 },
 "nbformat": 4,
 "nbformat_minor": 2
}
