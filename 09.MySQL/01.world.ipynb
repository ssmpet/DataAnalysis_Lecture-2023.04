{
 "cells": [
  {
   "attachments": {},
   "cell_type": "markdown",
   "metadata": {},
   "source": [
    "### MySQL 접속용 샘플 프로그램"
   ]
  },
  {
   "attachments": {},
   "cell_type": "markdown",
   "metadata": {},
   "source": [
    "##### 1. 접속 정보가 들어 있는 파일 읽기"
   ]
  },
  {
   "cell_type": "code",
   "execution_count": 24,
   "metadata": {},
   "outputs": [
    {
     "data": {
      "text/plain": [
       "{'host': 'localhost',\n",
       " 'user': 'ysuser',\n",
       " 'password': 'yspass',\n",
       " 'database': 'world',\n",
       " 'port': 3306}"
      ]
     },
     "execution_count": 24,
     "metadata": {},
     "output_type": "execute_result"
    }
   ],
   "source": [
    "import json\n",
    "\n",
    "with open('./mysql.json') as f:\n",
    "    config_str = f.read()\n",
    "\n",
    "config = json.loads(config_str)\n",
    "config"
   ]
  },
  {
   "attachments": {},
   "cell_type": "markdown",
   "metadata": {},
   "source": [
    "##### 2. MySQL에 접속"
   ]
  },
  {
   "cell_type": "code",
   "execution_count": 3,
   "metadata": {},
   "outputs": [],
   "source": [
    "import pymysql\n",
    "conn = pymysql.connect(\n",
    "    host=config['host'], user=config['user'], password=config['password'], \n",
    "    database=config['database'], port=config['port']\n",
    ")"
   ]
  },
  {
   "attachments": {},
   "cell_type": "markdown",
   "metadata": {},
   "source": [
    "##### 3. MySQL Access"
   ]
  },
  {
   "attachments": {},
   "cell_type": "markdown",
   "metadata": {},
   "source": [
    "- city table에서 10개 데이터 읽기"
   ]
  },
  {
   "cell_type": "code",
   "execution_count": 4,
   "metadata": {},
   "outputs": [
    {
     "name": "stdout",
     "output_type": "stream",
     "text": [
      "(1, 'Kabul', 'AFG', 'Kabol', 1780000)\n",
      "(2, 'Qandahar', 'AFG', 'Qandahar', 237500)\n",
      "(3, 'Herat', 'AFG', 'Herat', 186800)\n",
      "(4, 'Mazar-e-Sharif', 'AFG', 'Balkh', 127800)\n",
      "(5, 'Amsterdam', 'NLD', 'Noord-Holland', 731200)\n",
      "(6, 'Rotterdam', 'NLD', 'Zuid-Holland', 593321)\n",
      "(7, 'Haag', 'NLD', 'Zuid-Holland', 440900)\n",
      "(8, 'Utrecht', 'NLD', 'Utrecht', 234323)\n",
      "(9, 'Eindhoven', 'NLD', 'Noord-Brabant', 201843)\n",
      "(10, 'Tilburg', 'NLD', 'Noord-Brabant', 193238)\n"
     ]
    }
   ],
   "source": [
    "\n",
    "cur = conn.cursor()\n",
    "sql = \"SELECT * FROM city LIMIT 10;\"\n",
    "cur.execute(sql)\n",
    "rows = cur.fetchall()\n",
    "cur.close()\n",
    "\n",
    "for row in rows:\n",
    "    print(row)\n"
   ]
  },
  {
   "cell_type": "code",
   "execution_count": 6,
   "metadata": {},
   "outputs": [
    {
     "data": {
      "text/html": [
       "<div>\n",
       "<style scoped>\n",
       "    .dataframe tbody tr th:only-of-type {\n",
       "        vertical-align: middle;\n",
       "    }\n",
       "\n",
       "    .dataframe tbody tr th {\n",
       "        vertical-align: top;\n",
       "    }\n",
       "\n",
       "    .dataframe thead th {\n",
       "        text-align: right;\n",
       "    }\n",
       "</style>\n",
       "<table border=\"1\" class=\"dataframe\">\n",
       "  <thead>\n",
       "    <tr style=\"text-align: right;\">\n",
       "      <th></th>\n",
       "      <th>name</th>\n",
       "      <th>country_code</th>\n",
       "      <th>district</th>\n",
       "      <th>population</th>\n",
       "    </tr>\n",
       "    <tr>\n",
       "      <th>id</th>\n",
       "      <th></th>\n",
       "      <th></th>\n",
       "      <th></th>\n",
       "      <th></th>\n",
       "    </tr>\n",
       "  </thead>\n",
       "  <tbody>\n",
       "    <tr>\n",
       "      <th>1</th>\n",
       "      <td>Kabul</td>\n",
       "      <td>AFG</td>\n",
       "      <td>Kabol</td>\n",
       "      <td>1780000</td>\n",
       "    </tr>\n",
       "    <tr>\n",
       "      <th>2</th>\n",
       "      <td>Qandahar</td>\n",
       "      <td>AFG</td>\n",
       "      <td>Qandahar</td>\n",
       "      <td>237500</td>\n",
       "    </tr>\n",
       "    <tr>\n",
       "      <th>3</th>\n",
       "      <td>Herat</td>\n",
       "      <td>AFG</td>\n",
       "      <td>Herat</td>\n",
       "      <td>186800</td>\n",
       "    </tr>\n",
       "    <tr>\n",
       "      <th>4</th>\n",
       "      <td>Mazar-e-Sharif</td>\n",
       "      <td>AFG</td>\n",
       "      <td>Balkh</td>\n",
       "      <td>127800</td>\n",
       "    </tr>\n",
       "    <tr>\n",
       "      <th>5</th>\n",
       "      <td>Amsterdam</td>\n",
       "      <td>NLD</td>\n",
       "      <td>Noord-Holland</td>\n",
       "      <td>731200</td>\n",
       "    </tr>\n",
       "    <tr>\n",
       "      <th>6</th>\n",
       "      <td>Rotterdam</td>\n",
       "      <td>NLD</td>\n",
       "      <td>Zuid-Holland</td>\n",
       "      <td>593321</td>\n",
       "    </tr>\n",
       "    <tr>\n",
       "      <th>7</th>\n",
       "      <td>Haag</td>\n",
       "      <td>NLD</td>\n",
       "      <td>Zuid-Holland</td>\n",
       "      <td>440900</td>\n",
       "    </tr>\n",
       "    <tr>\n",
       "      <th>8</th>\n",
       "      <td>Utrecht</td>\n",
       "      <td>NLD</td>\n",
       "      <td>Utrecht</td>\n",
       "      <td>234323</td>\n",
       "    </tr>\n",
       "    <tr>\n",
       "      <th>9</th>\n",
       "      <td>Eindhoven</td>\n",
       "      <td>NLD</td>\n",
       "      <td>Noord-Brabant</td>\n",
       "      <td>201843</td>\n",
       "    </tr>\n",
       "    <tr>\n",
       "      <th>10</th>\n",
       "      <td>Tilburg</td>\n",
       "      <td>NLD</td>\n",
       "      <td>Noord-Brabant</td>\n",
       "      <td>193238</td>\n",
       "    </tr>\n",
       "  </tbody>\n",
       "</table>\n",
       "</div>"
      ],
      "text/plain": [
       "              name country_code       district  population\n",
       "id                                                        \n",
       "1            Kabul          AFG          Kabol     1780000\n",
       "2         Qandahar          AFG       Qandahar      237500\n",
       "3            Herat          AFG          Herat      186800\n",
       "4   Mazar-e-Sharif          AFG          Balkh      127800\n",
       "5        Amsterdam          NLD  Noord-Holland      731200\n",
       "6        Rotterdam          NLD   Zuid-Holland      593321\n",
       "7             Haag          NLD   Zuid-Holland      440900\n",
       "8          Utrecht          NLD        Utrecht      234323\n",
       "9        Eindhoven          NLD  Noord-Brabant      201843\n",
       "10         Tilburg          NLD  Noord-Brabant      193238"
      ]
     },
     "execution_count": 6,
     "metadata": {},
     "output_type": "execute_result"
    }
   ],
   "source": [
    "import pandas as pd\n",
    "df = pd.DataFrame(rows, columns=['id', 'name', 'country_code', 'district', 'population'])\n",
    "df.set_index('id', inplace=True)\n",
    "df"
   ]
  },
  {
   "attachments": {},
   "cell_type": "markdown",
   "metadata": {},
   "source": [
    "- 검색: 국가코드 KOR 의 인구수 Top 10"
   ]
  },
  {
   "cell_type": "code",
   "execution_count": 11,
   "metadata": {},
   "outputs": [],
   "source": [
    "# 데이터 여러건 가져오기\n",
    "cur = conn.cursor()\n",
    "sql = \"SELECT * FROM city \tWHERE countrycode=%s ORDER BY population DESC LIMIT 10;\" # %s로 전달\n",
    "cur.execute(sql, ('KOR', ))     # 파라메터는 반드시 튜플로 전달해야 함(주의: 한개더라도)\n",
    "rows = cur.fetchall()\n",
    "cur.close()"
   ]
  },
  {
   "cell_type": "code",
   "execution_count": 12,
   "metadata": {},
   "outputs": [
    {
     "name": "stdout",
     "output_type": "stream",
     "text": [
      "(2331, 'Seoul', 'KOR', 'Seoul', 10000000)\n",
      "(5006, '대도시', 'KOR', 'Kyonggi', 8000000)\n",
      "(2332, 'Pusan', 'KOR', 'Pusan', 3804522)\n",
      "(2333, 'Inchon', 'KOR', 'Inchon', 2559424)\n",
      "(2334, 'Taegu', 'KOR', 'Taegu', 2548568)\n",
      "(2335, 'Taejon', 'KOR', 'Taejon', 1425835)\n",
      "(2336, 'Kwangju', 'KOR', 'Kwangju', 1368341)\n",
      "(2340, 'Suwon', 'KOR', 'Kyonggi', 1200000)\n",
      "(2337, 'Ulsan', 'KOR', 'Kyongsangnam', 1084891)\n",
      "(2338, 'Songnam', 'KOR', 'Kyonggi', 869094)\n"
     ]
    }
   ],
   "source": [
    "for row in rows:\n",
    "    print(row)"
   ]
  },
  {
   "cell_type": "code",
   "execution_count": 21,
   "metadata": {},
   "outputs": [
    {
     "data": {
      "text/plain": [
       "(2340, 'Suwon', 'KOR', 'Kyonggi', 1200000)"
      ]
     },
     "execution_count": 21,
     "metadata": {},
     "output_type": "execute_result"
    }
   ],
   "source": [
    "# 데이터 한 건 가져오기\n",
    "cur = conn.cursor()\n",
    "sql = \"SELECT * FROM city \tWHERE name=%s\" \n",
    "cur.execute(sql, ('Suwon', )) \n",
    "row = cur.fetchone()\n",
    "cur.close()\n",
    "row"
   ]
  },
  {
   "attachments": {},
   "cell_type": "markdown",
   "metadata": {},
   "source": [
    "- 데이터 추가(Insert)"
   ]
  },
  {
   "cell_type": "code",
   "execution_count": 14,
   "metadata": {},
   "outputs": [],
   "source": [
    "cur = conn.cursor()\n",
    "sql = \"INSERT INTO city VALUES(DEFAULT, '자바', 'KOR', 'Kyonggi', 6000000)\"\n",
    "cur.execute(sql)\n",
    "conn.commit()       # DB가 변화되는 SQL(Insert, Update, Delete)에서는 필수\n",
    "cur.close()\n"
   ]
  },
  {
   "cell_type": "code",
   "execution_count": 15,
   "metadata": {},
   "outputs": [],
   "source": [
    "# 데이터 1건 insert\n",
    "params = ('노드JS', 'KOR', 'Kyonggi', 6000000)\n",
    "cur = conn.cursor()\n",
    "sql = \"INSERT INTO city VALUES(DEFAULT, %s, %s, %s, %s);\"\n",
    "cur.execute(sql, params)\n",
    "conn.commit()\n",
    "cur.close()"
   ]
  },
  {
   "cell_type": "code",
   "execution_count": 16,
   "metadata": {},
   "outputs": [],
   "source": [
    "# 데이터 여러건을 for로 한건씩 insert\n",
    "params_list = [\n",
    "    ('html', 'KOR', 'Kyonggi', 7000000), \n",
    "    ('css', 'KOR', 'Kyonggi', 7200000)\n",
    "]\n",
    "cur = conn.cursor()\n",
    "sql = \"INSERT INTO city VALUES(DEFAULT, %s, %s, %s, %s);\"\n",
    "for params in params_list:\n",
    "    cur.execute(sql, params)\n",
    "conn.commit()\n",
    "cur.close()"
   ]
  },
  {
   "cell_type": "code",
   "execution_count": 17,
   "metadata": {},
   "outputs": [],
   "source": [
    "# 데이터 한번에 insert\n",
    "params_list = [\n",
    "    ('html1', 'KOR', 'Kyonggi', 7000000), \n",
    "    ('css1', 'KOR', 'Kyonggi', 7200000)\n",
    "]\n",
    "cur = conn.cursor()\n",
    "sql = \"INSERT INTO city VALUES(DEFAULT, %s, %s, %s, %s);\"\n",
    "cur.executemany(sql, params_list)       # 몇 건은 가능하나 대량은 돌아가지 않을 수 있다. for문으로 추천한다.\n",
    "conn.commit()\n",
    "cur.close()"
   ]
  },
  {
   "attachments": {},
   "cell_type": "markdown",
   "metadata": {},
   "source": [
    "- 데이터 수정(Update)"
   ]
  },
  {
   "cell_type": "code",
   "execution_count": 18,
   "metadata": {},
   "outputs": [],
   "source": [
    "cur = conn.cursor()\n",
    "sql = \"UPDATE city SET name='CSS10' WHERE id=5011;\"\n",
    "cur.execute(sql)\n",
    "conn.commit()\n",
    "cur.close()"
   ]
  },
  {
   "cell_type": "code",
   "execution_count": 19,
   "metadata": {},
   "outputs": [],
   "source": [
    "params_list = [('html5', 5011), ('html5', 5013)]\n",
    "cur = conn.cursor()\n",
    "sql = \"UPDATE city SET name=%s WHERE id=%s;\"\n",
    "cur.executemany(sql, params_list)\n",
    "conn.commit()\n",
    "cur.close()"
   ]
  },
  {
   "attachments": {},
   "cell_type": "markdown",
   "metadata": {},
   "source": [
    "- 데이터 삭제(Delete)"
   ]
  },
  {
   "cell_type": "code",
   "execution_count": 20,
   "metadata": {},
   "outputs": [],
   "source": [
    "cur = conn.cursor()\n",
    "sql = \"DELETE FROM city WHERE id > %s;\"\n",
    "cur.execute(sql, (5000, ))\n",
    "conn.commit()\n",
    "cur.close()"
   ]
  },
  {
   "attachments": {},
   "cell_type": "markdown",
   "metadata": {},
   "source": [
    "##### 4. MySQL 접속 해제"
   ]
  },
  {
   "cell_type": "code",
   "execution_count": 22,
   "metadata": {},
   "outputs": [],
   "source": [
    "conn.close()"
   ]
  }
 ],
 "metadata": {
  "kernelspec": {
   "display_name": "base",
   "language": "python",
   "name": "python3"
  },
  "language_info": {
   "codemirror_mode": {
    "name": "ipython",
    "version": 3
   },
   "file_extension": ".py",
   "mimetype": "text/x-python",
   "name": "python",
   "nbconvert_exporter": "python",
   "pygments_lexer": "ipython3",
   "version": "3.10.10"
  },
  "orig_nbformat": 4
 },
 "nbformat": 4,
 "nbformat_minor": 2
}
