{
 "cells": [
  {
   "cell_type": "code",
   "execution_count": 2,
   "metadata": {},
   "outputs": [],
   "source": [
    "import sqlite3 as sq\n"
   ]
  },
  {
   "cell_type": "code",
   "execution_count": 18,
   "metadata": {},
   "outputs": [],
   "source": [
    "conn = sq.connect('../static/db/project.db')\n",
    "cur = conn.cursor()\n",
    "\n",
    "sql = '''CREATE TABLE \"bbs\" (\n",
    "\t\"bid\"\tINTEGER NOT NULL,\n",
    "\t\"uid\"\tTEXT NOT NULL,\n",
    "\t\"title\"\tTEXT NOT NULL,\n",
    "\t\"name\"\tTEXT NOT NULL,\n",
    "\t\"date\"\tTEXT NOT NULL,\n",
    "\t\"review\"\tINTEGER NOT NULL DEFAULT 0,\n",
    "\t\"reply\"\tINTEGER NOT NULL DEFAULT 0,\n",
    "\t\"img_cnt\"\tINTEGER NOT NULL DEFAULT 0,\n",
    "\t\"contents\"\tTEXT NOT NULL,\n",
    "\tPRIMARY KEY(\"bid\" AUTOINCREMENT)\n",
    ")'''\n",
    "cur.execute(sql)\n",
    "conn.commit()\n",
    "\n",
    "cur.close()\n",
    "conn.close()\n"
   ]
  },
  {
   "cell_type": "code",
   "execution_count": 27,
   "metadata": {},
   "outputs": [],
   "source": [
    "conn = sq.connect('../static/db/project.db')\n",
    "cur = conn.cursor()\n",
    "\n",
    "sql = 'insert into bbs(uid, title, name, date, contents) values (?, ?, ?, ?, ?);' \n",
    "cur.execute(sql, ('smpet', '제목1', 'smpet', '2020-04-01 00:00:00', 'content1'))\n",
    "conn.commit() \n",
    "\n",
    "cur.close()\n",
    "conn.close()"
   ]
  },
  {
   "cell_type": "code",
   "execution_count": 29,
   "metadata": {},
   "outputs": [],
   "source": [
    "conn = sq.connect('../static/db/project.db')\n",
    "cur = conn.cursor()\n",
    "\n",
    "cur.executemany(\n",
    "    'INSERT INTO bbs(uid, title, name, date, contents) VALUES (?, ?, ?, ?, ?)',\n",
    "    [\n",
    "     ('Donghyun1', 'SOMJANG', 'Development', '2020-04-01 00:00:00', 'content1'),\n",
    "     ('Sol1', 'Fairy', 'Marketing', '2020-04-01 00:00:00', 'content2'),\n",
    "     ('Jiyoung1', 'Magician', 'Marketing', '2020-04-01 00:00:00', 'content3'),\n",
    "     ('Hyeona1', 'Theif', 'Development', '2020-04-01 00:00:00', 'content4'),\n",
    "     ('Soyoung1', 'Chief', 'Development', '2020-04-01 00:00:00', 'content5'),\n",
    "     ('Donghyun1', 'SOMJANG', 'Development', '2020-04-01 00:00:00', 'content1'),\n",
    "     ('Sol1', 'Fairy', 'Marketing', '2020-04-01 00:00:00', 'content2'),\n",
    "     ('Jiyoung1', 'Magician', 'Marketing', '2020-04-01 00:00:00', 'content3'),\n",
    "     ('Hyeona1', 'Theif', 'Development', '2020-04-01 00:00:00', 'content4'),\n",
    "     ('Soyoung1', 'Chief', 'Development', '2020-04-01 00:00:00', 'content5'),\n",
    "     ('Donghyun1', 'SOMJANG', 'Development', '2020-04-01 00:00:00', 'content1'),\n",
    "     ('Sol1', 'Fairy', 'Marketing', '2020-04-01 00:00:00', 'content2'),\n",
    "     ('Jiyoung1', 'Magician', 'Marketing', '2020-04-01 00:00:00', 'content3'),\n",
    "     ('Hyeona1', 'Theif', 'Development', '2020-04-01 00:00:00', 'content4'),\n",
    "     ('Soyoung1', 'Chief', 'Development', '2020-04-01 00:00:00', 'content5'),\n",
    "     ('Donghyun1', 'SOMJANG', 'Development', '2020-04-01 00:00:00', 'content1'),\n",
    "     ('Sol1', 'Fairy', 'Marketing', '2020-04-01 00:00:00', 'content2'),\n",
    "     ('Jiyoung1', 'Magician', 'Marketing', '2020-04-01 00:00:00', 'content3'),\n",
    "     ('Hyeona1', 'Theif', 'Development', '2020-04-01 00:00:00', 'content4'),\n",
    "     ('Soyoung1', 'Chief', 'Development', '2020-04-01 00:00:00', 'content5'),\n",
    "     ('Donghyun1', 'SOMJANG', 'Development', '2020-04-01 00:00:00', 'content1'),\n",
    "     ('Sol1', 'Fairy', 'Marketing', '2020-04-01 00:00:00', 'content2'),\n",
    "     ('Jiyoung1', 'Magician', 'Marketing', '2020-04-01 00:00:00', 'content3'),\n",
    "     ('Hyeona1', 'Theif', 'Development', '2020-04-01 00:00:00', 'content4'),\n",
    "     ('Soyoung1', 'Chief', 'Development', '2020-04-01 00:00:00', 'content5'),\n",
    "     ('Donghyun1', 'SOMJANG', 'Development', '2020-04-01 00:00:00', 'content1'),\n",
    "     ('Sol1', 'Fairy', 'Marketing', '2020-04-01 00:00:00', 'content2'),\n",
    "     ('Jiyoung1', 'Magician', 'Marketing', '2020-04-01 00:00:00', 'content3'),\n",
    "     ('Hyeona1', 'Theif', 'Development', '2020-04-01 00:00:00', 'content4'),\n",
    "     ('Soyoung1', 'Chief', 'Development', '2020-04-01 00:00:00', 'content5'),\n",
    "     ('Donghyun1', 'SOMJANG', 'Development', '2020-04-01 00:00:00', 'content1'),\n",
    "     ('Sol1', 'Fairy', 'Marketing', '2020-04-01 00:00:00', 'content2'),\n",
    "     ('Jiyoung1', 'Magician', 'Marketing', '2020-04-01 00:00:00', 'content3'),\n",
    "     ('Hyeona1', 'Theif', 'Development', '2020-04-01 00:00:00', 'content4'),\n",
    "     ('Soyoung1', 'Chief', 'Development', '2020-04-01 00:00:00', 'content5'),\n",
    "     ('Donghyun1', 'SOMJANG', 'Development', '2020-04-01 00:00:00', 'content1'),\n",
    "     ('Sol1', 'Fairy', 'Marketing', '2020-04-01 00:00:00', 'content2'),\n",
    "     ('Jiyoung1', 'Magician', 'Marketing', '2020-04-01 00:00:00', 'content3'),\n",
    "     ('Hyeona1', 'Theif', 'Development', '2020-04-01 00:00:00', 'content4'),\n",
    "     ('Soyoung1', 'Chief', 'Development', '2020-04-01 00:00:00', 'content5'),\n",
    "     ('Donghyun1', 'SOMJANG', 'Development', '2020-04-01 00:00:00', 'content1'),\n",
    "     ('Sol1', 'Fairy', 'Marketing', '2020-04-01 00:00:00', 'content2'),\n",
    "     ('Jiyoung1', 'Magician', 'Marketing', '2020-04-01 00:00:00', 'content3'),\n",
    "     ('Hyeona1', 'Theif', 'Development', '2020-04-01 00:00:00', 'content4'),\n",
    "     ('Soyoung1', 'Chief', 'Development', '2020-04-01 00:00:00', 'content5')\n",
    "    ]\n",
    ")\n",
    "conn.commit() \n",
    "\n",
    "cur.close()\n",
    "conn.close()"
   ]
  },
  {
   "cell_type": "code",
   "execution_count": 38,
   "metadata": {},
   "outputs": [
    {
     "name": "stdout",
     "output_type": "stream",
     "text": [
      "51\n"
     ]
    }
   ],
   "source": [
    "conn = sq.connect('../static/db/project.db')\n",
    "cur = conn.cursor()\n",
    "\n",
    "sql = 'select count(*) from bbs '\n",
    "cur.execute(sql)\n",
    "row = cur.fetchone()\n",
    "\n",
    "cur.close()\n",
    "conn.close()\n",
    "\n",
    "print(row[0])\n"
   ]
  },
  {
   "cell_type": "code",
   "execution_count": 13,
   "metadata": {},
   "outputs": [
    {
     "name": "stdout",
     "output_type": "stream",
     "text": [
      "(13, 'Soyoung1', 'Development', 'Chief', '2020-04-01 00:00:00', 0, 0, 0, 'content5')\n",
      "(14, 'Donghyun1', 'Development', 'SOMJANG', '2020-04-01 00:00:00', 0, 0, 0, 'content1')\n",
      "(15, 'Sol1', 'Marketing', 'Fairy', '2020-04-01 00:00:00', 0, 0, 0, 'content2')\n",
      "(16, 'Jiyoung1', 'Marketing', 'Magician', '2020-04-01 00:00:00', 0, 0, 0, 'content3')\n",
      "(17, 'Hyeona1', 'Development', 'Theif', '2020-04-01 00:00:00', 0, 0, 0, 'content4')\n",
      "(18, 'Soyoung1', 'Development', 'Chief', '2020-04-01 00:00:00', 0, 0, 0, 'content5')\n",
      "(19, 'Donghyun1', 'Development', 'SOMJANG', '2020-04-01 00:00:00', 0, 0, 0, 'content1')\n",
      "(20, 'Sol1', 'Marketing', 'Fairy', '2020-04-01 00:00:00', 0, 0, 0, 'content2')\n",
      "(21, 'Jiyoung1', 'Marketing', 'Magician', '2020-04-01 00:00:00', 0, 0, 0, 'content3')\n",
      "(22, 'Hyeona1', 'Development', 'Theif', '2020-04-01 00:00:00', 0, 0, 0, 'content4')\n"
     ]
    }
   ],
   "source": [
    "conn = sq.connect('../static/db/project.db')\n",
    "cur = conn.cursor()\n",
    "\n",
    "offset = 10\n",
    "sql = 'select * from bbs LIMIT 10 offset ?'\n",
    "cur.execute(sql, (offset, ))\n",
    "rows = cur.fetchall()\n",
    "\n",
    "cur.close()\n",
    "conn.close()\n",
    "\n",
    "for row in rows:\n",
    "    print(row)"
   ]
  }
 ],
 "metadata": {
  "kernelspec": {
   "display_name": "base",
   "language": "python",
   "name": "python3"
  },
  "language_info": {
   "codemirror_mode": {
    "name": "ipython",
    "version": 3
   },
   "file_extension": ".py",
   "mimetype": "text/x-python",
   "name": "python",
   "nbconvert_exporter": "python",
   "pygments_lexer": "ipython3",
   "version": "3.9.13"
  },
  "orig_nbformat": 4
 },
 "nbformat": 4,
 "nbformat_minor": 2
}
