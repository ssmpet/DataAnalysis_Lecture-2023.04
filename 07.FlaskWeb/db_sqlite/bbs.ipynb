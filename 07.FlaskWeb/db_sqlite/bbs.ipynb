{
 "cells": [
  {
   "cell_type": "code",
   "execution_count": 4,
   "metadata": {},
   "outputs": [],
   "source": [
    "import sqlite3 as sq\n"
   ]
  },
  {
   "cell_type": "code",
   "execution_count": 18,
   "metadata": {},
   "outputs": [],
   "source": [
    "conn = sq.connect('../static/db/project.db')\n",
    "cur = conn.cursor()\n",
    "\n",
    "sql = '''CREATE TABLE \"bbs\" (\n",
    "\t\"bid\"\tINTEGER NOT NULL,\n",
    "\t\"uid\"\tTEXT NOT NULL,\n",
    "\t\"title\"\tTEXT NOT NULL,\n",
    "\t\"name\"\tTEXT NOT NULL,\n",
    "\t\"date\"\tTEXT NOT NULL,\n",
    "\t\"review\"\tINTEGER NOT NULL DEFAULT 0,\n",
    "\t\"reply\"\tINTEGER NOT NULL DEFAULT 0,\n",
    "\t\"img_cnt\"\tINTEGER NOT NULL DEFAULT 0,\n",
    "\t\"contents\"\tTEXT NOT NULL,\n",
    "\tPRIMARY KEY(\"bid\" AUTOINCREMENT)\n",
    ")'''\n",
    "cur.execute(sql)\n",
    "conn.commit()\n",
    "\n",
    "cur.close()\n",
    "conn.close()\n"
   ]
  },
  {
   "cell_type": "code",
   "execution_count": 27,
   "metadata": {},
   "outputs": [],
   "source": [
    "conn = sq.connect('../static/db/project.db')\n",
    "cur = conn.cursor()\n",
    "\n",
    "sql = 'insert into bbs(uid, title, name, date, contents) values (?, ?, ?, ?, ?);' \n",
    "cur.execute(sql, ('smpet', '제목1', 'smpet', '2020-04-01 00:00:00', 'content1'))\n",
    "conn.commit() \n",
    "\n",
    "cur.close()\n",
    "conn.close()"
   ]
  },
  {
   "cell_type": "code",
   "execution_count": 29,
   "metadata": {},
   "outputs": [],
   "source": [
    "conn = sq.connect('../static/db/project.db')\n",
    "cur = conn.cursor()\n",
    "\n",
    "cur.executemany(\n",
    "    'INSERT INTO bbs(uid, title, name, date, contents) VALUES (?, ?, ?, ?, ?)',\n",
    "    [\n",
    "     ('Donghyun1', 'SOMJANG', 'Development', '2020-04-01 00:00:00', 'content1'),\n",
    "     ('Sol1', 'Fairy', 'Marketing', '2020-04-01 00:00:00', 'content2'),\n",
    "     ('Jiyoung1', 'Magician', 'Marketing', '2020-04-01 00:00:00', 'content3'),\n",
    "     ('Hyeona1', 'Theif', 'Development', '2020-04-01 00:00:00', 'content4'),\n",
    "     ('Soyoung1', 'Chief', 'Development', '2020-04-01 00:00:00', 'content5'),\n",
    "     ('Donghyun1', 'SOMJANG', 'Development', '2020-04-01 00:00:00', 'content1'),\n",
    "     ('Sol1', 'Fairy', 'Marketing', '2020-04-01 00:00:00', 'content2'),\n",
    "     ('Jiyoung1', 'Magician', 'Marketing', '2020-04-01 00:00:00', 'content3'),\n",
    "     ('Hyeona1', 'Theif', 'Development', '2020-04-01 00:00:00', 'content4'),\n",
    "     ('Soyoung1', 'Chief', 'Development', '2020-04-01 00:00:00', 'content5'),\n",
    "     ('Donghyun1', 'SOMJANG', 'Development', '2020-04-01 00:00:00', 'content1'),\n",
    "     ('Sol1', 'Fairy', 'Marketing', '2020-04-01 00:00:00', 'content2'),\n",
    "     ('Jiyoung1', 'Magician', 'Marketing', '2020-04-01 00:00:00', 'content3'),\n",
    "     ('Hyeona1', 'Theif', 'Development', '2020-04-01 00:00:00', 'content4'),\n",
    "     ('Soyoung1', 'Chief', 'Development', '2020-04-01 00:00:00', 'content5'),\n",
    "     ('Donghyun1', 'SOMJANG', 'Development', '2020-04-01 00:00:00', 'content1'),\n",
    "     ('Sol1', 'Fairy', 'Marketing', '2020-04-01 00:00:00', 'content2'),\n",
    "     ('Jiyoung1', 'Magician', 'Marketing', '2020-04-01 00:00:00', 'content3'),\n",
    "     ('Hyeona1', 'Theif', 'Development', '2020-04-01 00:00:00', 'content4'),\n",
    "     ('Soyoung1', 'Chief', 'Development', '2020-04-01 00:00:00', 'content5'),\n",
    "     ('Donghyun1', 'SOMJANG', 'Development', '2020-04-01 00:00:00', 'content1'),\n",
    "     ('Sol1', 'Fairy', 'Marketing', '2020-04-01 00:00:00', 'content2'),\n",
    "     ('Jiyoung1', 'Magician', 'Marketing', '2020-04-01 00:00:00', 'content3'),\n",
    "     ('Hyeona1', 'Theif', 'Development', '2020-04-01 00:00:00', 'content4'),\n",
    "     ('Soyoung1', 'Chief', 'Development', '2020-04-01 00:00:00', 'content5'),\n",
    "     ('Donghyun1', 'SOMJANG', 'Development', '2020-04-01 00:00:00', 'content1'),\n",
    "     ('Sol1', 'Fairy', 'Marketing', '2020-04-01 00:00:00', 'content2'),\n",
    "     ('Jiyoung1', 'Magician', 'Marketing', '2020-04-01 00:00:00', 'content3'),\n",
    "     ('Hyeona1', 'Theif', 'Development', '2020-04-01 00:00:00', 'content4'),\n",
    "     ('Soyoung1', 'Chief', 'Development', '2020-04-01 00:00:00', 'content5'),\n",
    "     ('Donghyun1', 'SOMJANG', 'Development', '2020-04-01 00:00:00', 'content1'),\n",
    "     ('Sol1', 'Fairy', 'Marketing', '2020-04-01 00:00:00', 'content2'),\n",
    "     ('Jiyoung1', 'Magician', 'Marketing', '2020-04-01 00:00:00', 'content3'),\n",
    "     ('Hyeona1', 'Theif', 'Development', '2020-04-01 00:00:00', 'content4'),\n",
    "     ('Soyoung1', 'Chief', 'Development', '2020-04-01 00:00:00', 'content5'),\n",
    "     ('Donghyun1', 'SOMJANG', 'Development', '2020-04-01 00:00:00', 'content1'),\n",
    "     ('Sol1', 'Fairy', 'Marketing', '2020-04-01 00:00:00', 'content2'),\n",
    "     ('Jiyoung1', 'Magician', 'Marketing', '2020-04-01 00:00:00', 'content3'),\n",
    "     ('Hyeona1', 'Theif', 'Development', '2020-04-01 00:00:00', 'content4'),\n",
    "     ('Soyoung1', 'Chief', 'Development', '2020-04-01 00:00:00', 'content5'),\n",
    "     ('Donghyun1', 'SOMJANG', 'Development', '2020-04-01 00:00:00', 'content1'),\n",
    "     ('Sol1', 'Fairy', 'Marketing', '2020-04-01 00:00:00', 'content2'),\n",
    "     ('Jiyoung1', 'Magician', 'Marketing', '2020-04-01 00:00:00', 'content3'),\n",
    "     ('Hyeona1', 'Theif', 'Development', '2020-04-01 00:00:00', 'content4'),\n",
    "     ('Soyoung1', 'Chief', 'Development', '2020-04-01 00:00:00', 'content5')\n",
    "    ]\n",
    ")\n",
    "conn.commit() \n",
    "\n",
    "cur.close()\n",
    "conn.close()"
   ]
  },
  {
   "cell_type": "code",
   "execution_count": 38,
   "metadata": {},
   "outputs": [
    {
     "name": "stdout",
     "output_type": "stream",
     "text": [
      "51\n"
     ]
    }
   ],
   "source": [
    "conn = sq.connect('../static/db/project.db')\n",
    "cur = conn.cursor()\n",
    "\n",
    "sql = 'select count(*) from bbs'\n",
    "cur.execute(sql)\n",
    "row = cur.fetchone()\n",
    "\n",
    "cur.close()\n",
    "conn.close()\n",
    "\n",
    "print(row[0])\n"
   ]
  }
 ],
 "metadata": {
  "kernelspec": {
   "display_name": "base",
   "language": "python",
   "name": "python3"
  },
  "language_info": {
   "codemirror_mode": {
    "name": "ipython",
    "version": 3
   },
   "file_extension": ".py",
   "mimetype": "text/x-python",
   "name": "python",
   "nbconvert_exporter": "python",
   "pygments_lexer": "ipython3",
   "version": "3.9.13"
  },
  "orig_nbformat": 4
 },
 "nbformat": 4,
 "nbformat_minor": 2
}
