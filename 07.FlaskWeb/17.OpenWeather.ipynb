{
 "cells": [
  {
   "attachments": {},
   "cell_type": "markdown",
   "metadata": {},
   "source": [
    "### OpenWeather API 2.5"
   ]
  },
  {
   "cell_type": "code",
   "execution_count": 41,
   "metadata": {},
   "outputs": [],
   "source": [
    "import requests"
   ]
  },
  {
   "cell_type": "code",
   "execution_count": 42,
   "metadata": {},
   "outputs": [],
   "source": [
    "with open('static/key/openweather.txt') as f:\n",
    "    weather_key = f.read().strip()"
   ]
  },
  {
   "cell_type": "code",
   "execution_count": 51,
   "metadata": {},
   "outputs": [
    {
     "data": {
      "text/plain": [
       "{'coord': {'lon': 127.045, 'lat': 37.295},\n",
       " 'weather': [{'id': 803,\n",
       "   'main': 'Clouds',\n",
       "   'description': '튼구름',\n",
       "   'icon': '04d'}],\n",
       " 'base': 'stations',\n",
       " 'main': {'temp': 25.21,\n",
       "  'feels_like': 24.96,\n",
       "  'temp_min': 23.7,\n",
       "  'temp_max': 26.58,\n",
       "  'pressure': 1012,\n",
       "  'humidity': 45},\n",
       " 'visibility': 10000,\n",
       " 'wind': {'speed': 3.09, 'deg': 150},\n",
       " 'clouds': {'all': 75},\n",
       " 'dt': 1683176335,\n",
       " 'sys': {'type': 1,\n",
       "  'id': 5509,\n",
       "  'country': 'KR',\n",
       "  'sunrise': 1683146067,\n",
       "  'sunset': 1683195766},\n",
       " 'timezone': 32400,\n",
       " 'id': 6573030,\n",
       " 'name': 'Namhyang-dong',\n",
       " 'cod': 200}"
      ]
     },
     "execution_count": 51,
     "metadata": {},
     "output_type": "execute_result"
    }
   ],
   "source": [
    "base_url  = 'https://api.openweathermap.org/data/2.5/weather'\n",
    "icon_deps = 'https://api.openweathermap.org/img/w/'\n",
    "lat, lon = 37.295, 127.045  # 수원 중심부 좌표\n",
    "url = f'{base_url}?lat={lat}&lon={lon}&appid={weather_key}&units=metric&lang=kr'\n",
    "result = requests.get(url).json()\n",
    "result"
   ]
  },
  {
   "cell_type": "code",
   "execution_count": 44,
   "metadata": {},
   "outputs": [
    {
     "data": {
      "text/plain": [
       "dict_keys(['coord', 'weather', 'base', 'main', 'visibility', 'wind', 'clouds', 'dt', 'sys', 'timezone', 'id', 'name', 'cod'])"
      ]
     },
     "execution_count": 44,
     "metadata": {},
     "output_type": "execute_result"
    }
   ],
   "source": [
    "result.keys()"
   ]
  },
  {
   "cell_type": "code",
   "execution_count": 45,
   "metadata": {},
   "outputs": [
    {
     "data": {
      "text/plain": [
       "'튼구름'"
      ]
     },
     "execution_count": 45,
     "metadata": {},
     "output_type": "execute_result"
    }
   ],
   "source": [
    "desc = result['weather'][0]['description']\n",
    "desc"
   ]
  },
  {
   "cell_type": "code",
   "execution_count": 46,
   "metadata": {},
   "outputs": [
    {
     "data": {
      "text/plain": [
       "'https://api.openweathermap.org/img/w/04d.png'"
      ]
     },
     "execution_count": 46,
     "metadata": {},
     "output_type": "execute_result"
    }
   ],
   "source": [
    "icon_code = result['weather'][0]['icon']\n",
    "icon_url = f'{icon_deps}{icon_code}.png'\n",
    "icon_url"
   ]
  },
  {
   "cell_type": "code",
   "execution_count": 47,
   "metadata": {},
   "outputs": [],
   "source": [
    "temp_ = result['main']['temp']\n",
    "temp = round(float(temp_) + 0.01, 1)  # 올바르게 반올림 하기 위해서 0.01 해 준다."
   ]
  },
  {
   "cell_type": "code",
   "execution_count": 50,
   "metadata": {},
   "outputs": [
    {
     "data": {
      "text/plain": [
       "'<img src=\"https://api.openweathermap.org/img/w/04d.png\" height=\"32\"><strong>튼구름</strong>\\n            온도: <strong>24.9</strong>&#8451'"
      ]
     },
     "execution_count": 50,
     "metadata": {},
     "output_type": "execute_result"
    }
   ],
   "source": [
    "html = f'''<img src=\"{icon_url}\" height=\"32\"><strong>{desc}</strong>\n",
    "            온도: <strong>{temp}</strong>&#8451'''\n",
    "html"
   ]
  },
  {
   "cell_type": "code",
   "execution_count": null,
   "metadata": {},
   "outputs": [],
   "source": []
  }
 ],
 "metadata": {
  "kernelspec": {
   "display_name": "base",
   "language": "python",
   "name": "python3"
  },
  "language_info": {
   "codemirror_mode": {
    "name": "ipython",
    "version": 3
   },
   "file_extension": ".py",
   "mimetype": "text/x-python",
   "name": "python",
   "nbconvert_exporter": "python",
   "pygments_lexer": "ipython3",
   "version": "3.10.10"
  },
  "orig_nbformat": 4
 },
 "nbformat": 4,
 "nbformat_minor": 2
}
