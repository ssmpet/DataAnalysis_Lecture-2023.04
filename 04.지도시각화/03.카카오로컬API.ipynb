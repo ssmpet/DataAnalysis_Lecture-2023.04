{
 "cells": [
  {
   "attachments": {},
   "cell_type": "markdown",
   "metadata": {},
   "source": [
    "### 카카오 로컬 API 활용"
   ]
  },
  {
   "cell_type": "code",
   "execution_count": 1,
   "metadata": {},
   "outputs": [],
   "source": [
    "import requests\n",
    "from urllib.parse import quote\n",
    "import pandas as pd"
   ]
  },
  {
   "attachments": {},
   "cell_type": "markdown",
   "metadata": {},
   "source": [
    "- API Key 가져오기"
   ]
  },
  {
   "cell_type": "code",
   "execution_count": 2,
   "metadata": {},
   "outputs": [],
   "source": [
    "with open('data/kakaoapikey.txt') as f:\n",
    "    kakao_key = f.read()"
   ]
  },
  {
   "attachments": {},
   "cell_type": "markdown",
   "metadata": {},
   "source": [
    "- URL 만들기"
   ]
  },
  {
   "cell_type": "code",
   "execution_count": 3,
   "metadata": {},
   "outputs": [],
   "source": [
    "base_url = 'https://dapi.kakao.com/v2/local/search/address.json'\n",
    "addr = '경기도 수원시 영통구 도청로 30 (이의동)'\n",
    "url = f'{base_url}?query={quote(addr)}'"
   ]
  },
  {
   "cell_type": "code",
   "execution_count": 5,
   "metadata": {},
   "outputs": [],
   "source": [
    "# Header: \"Authorization: KakaoAK ${REST_API_KEY}\"\n",
    "header = {'Authorization': f'KakaoAK {kakao_key}'}"
   ]
  },
  {
   "attachments": {},
   "cell_type": "markdown",
   "metadata": {},
   "source": [
    "- Kakao Local API 호출하여 결과 가져오기"
   ]
  },
  {
   "cell_type": "code",
   "execution_count": 6,
   "metadata": {},
   "outputs": [
    {
     "data": {
      "text/plain": [
       "{'documents': [{'address': {'address_name': '경기 수원시 영통구 이의동 0',\n",
       "    'b_code': '4111710300',\n",
       "    'h_code': '4111760000',\n",
       "    'main_address_no': '0',\n",
       "    'mountain_yn': 'N',\n",
       "    'region_1depth_name': '경기',\n",
       "    'region_2depth_name': '수원시 영통구',\n",
       "    'region_3depth_h_name': '광교1동',\n",
       "    'region_3depth_name': '이의동',\n",
       "    'sub_address_no': '',\n",
       "    'x': '127.053543271',\n",
       "    'y': '37.2892851628003'},\n",
       "   'address_name': '경기 수원시 영통구 도청로 30',\n",
       "   'address_type': 'ROAD_ADDR',\n",
       "   'road_address': {'address_name': '경기 수원시 영통구 도청로 30',\n",
       "    'building_name': '경기도청',\n",
       "    'main_building_no': '30',\n",
       "    'region_1depth_name': '경기',\n",
       "    'region_2depth_name': '수원시 영통구',\n",
       "    'region_3depth_name': '이의동',\n",
       "    'road_name': '도청로',\n",
       "    'sub_building_no': '',\n",
       "    'underground_yn': 'N',\n",
       "    'x': '127.053543271',\n",
       "    'y': '37.2892851628003',\n",
       "    'zone_no': '16508'},\n",
       "   'x': '127.053543271',\n",
       "   'y': '37.2892851628003'}],\n",
       " 'meta': {'is_end': True, 'pageable_count': 1, 'total_count': 1}}"
      ]
     },
     "execution_count": 6,
     "metadata": {},
     "output_type": "execute_result"
    }
   ],
   "source": [
    "result = requests.get(url, headers=header).json()\n",
    "result"
   ]
  },
  {
   "cell_type": "code",
   "execution_count": 7,
   "metadata": {},
   "outputs": [
    {
     "data": {
      "text/plain": [
       "dict_keys(['documents', 'meta'])"
      ]
     },
     "execution_count": 7,
     "metadata": {},
     "output_type": "execute_result"
    }
   ],
   "source": [
    "result.keys()"
   ]
  },
  {
   "cell_type": "code",
   "execution_count": 8,
   "metadata": {},
   "outputs": [
    {
     "data": {
      "text/plain": [
       "{'address': {'address_name': '경기 수원시 영통구 이의동 0',\n",
       "  'b_code': '4111710300',\n",
       "  'h_code': '4111760000',\n",
       "  'main_address_no': '0',\n",
       "  'mountain_yn': 'N',\n",
       "  'region_1depth_name': '경기',\n",
       "  'region_2depth_name': '수원시 영통구',\n",
       "  'region_3depth_h_name': '광교1동',\n",
       "  'region_3depth_name': '이의동',\n",
       "  'sub_address_no': '',\n",
       "  'x': '127.053543271',\n",
       "  'y': '37.2892851628003'},\n",
       " 'address_name': '경기 수원시 영통구 도청로 30',\n",
       " 'address_type': 'ROAD_ADDR',\n",
       " 'road_address': {'address_name': '경기 수원시 영통구 도청로 30',\n",
       "  'building_name': '경기도청',\n",
       "  'main_building_no': '30',\n",
       "  'region_1depth_name': '경기',\n",
       "  'region_2depth_name': '수원시 영통구',\n",
       "  'region_3depth_name': '이의동',\n",
       "  'road_name': '도청로',\n",
       "  'sub_building_no': '',\n",
       "  'underground_yn': 'N',\n",
       "  'x': '127.053543271',\n",
       "  'y': '37.2892851628003',\n",
       "  'zone_no': '16508'},\n",
       " 'x': '127.053543271',\n",
       " 'y': '37.2892851628003'}"
      ]
     },
     "execution_count": 8,
     "metadata": {},
     "output_type": "execute_result"
    }
   ],
   "source": [
    "result['documents'][0]"
   ]
  },
  {
   "cell_type": "code",
   "execution_count": 9,
   "metadata": {},
   "outputs": [
    {
     "data": {
      "text/plain": [
       "dict_keys(['address', 'address_name', 'address_type', 'road_address', 'x', 'y'])"
      ]
     },
     "execution_count": 9,
     "metadata": {},
     "output_type": "execute_result"
    }
   ],
   "source": [
    "result['documents'][0].keys()"
   ]
  },
  {
   "cell_type": "code",
   "execution_count": 10,
   "metadata": {},
   "outputs": [
    {
     "data": {
      "text/plain": [
       "(37.2892851628003, 127.053543271)"
      ]
     },
     "execution_count": 10,
     "metadata": {},
     "output_type": "execute_result"
    }
   ],
   "source": [
    "lat = float(result['documents'][0]['y'])\n",
    "lng = float(result['documents'][0]['x'])\n",
    "lat, lng"
   ]
  },
  {
   "attachments": {},
   "cell_type": "markdown",
   "metadata": {},
   "source": [
    "- 수원 소재 관공서 정보 완성하기"
   ]
  },
  {
   "cell_type": "code",
   "execution_count": 11,
   "metadata": {},
   "outputs": [
    {
     "data": {
      "text/html": [
       "<div>\n",
       "<style scoped>\n",
       "    .dataframe tbody tr th:only-of-type {\n",
       "        vertical-align: middle;\n",
       "    }\n",
       "\n",
       "    .dataframe tbody tr th {\n",
       "        vertical-align: top;\n",
       "    }\n",
       "\n",
       "    .dataframe thead th {\n",
       "        text-align: right;\n",
       "    }\n",
       "</style>\n",
       "<table border=\"1\" class=\"dataframe\">\n",
       "  <thead>\n",
       "    <tr style=\"text-align: right;\">\n",
       "      <th></th>\n",
       "      <th>이름</th>\n",
       "      <th>주소</th>\n",
       "    </tr>\n",
       "  </thead>\n",
       "  <tbody>\n",
       "    <tr>\n",
       "      <th>0</th>\n",
       "      <td>경기도청</td>\n",
       "      <td>경기도 수원시 영통구 도청로 30 (이의동)</td>\n",
       "    </tr>\n",
       "    <tr>\n",
       "      <th>1</th>\n",
       "      <td>장안구청</td>\n",
       "      <td>경기도 수원시 장안구 송원로 101 (조원동)</td>\n",
       "    </tr>\n",
       "    <tr>\n",
       "      <th>2</th>\n",
       "      <td>권선구청</td>\n",
       "      <td>경기도 수원시 권선구 호매실로 12 (탑동)</td>\n",
       "    </tr>\n",
       "    <tr>\n",
       "      <th>3</th>\n",
       "      <td>팔달구청</td>\n",
       "      <td>경기도 수원시 팔달구 창룡대로 23 (매향동)</td>\n",
       "    </tr>\n",
       "    <tr>\n",
       "      <th>4</th>\n",
       "      <td>영통구청</td>\n",
       "      <td>경기도 수원시 영통구 효원로 407 (매탄동)</td>\n",
       "    </tr>\n",
       "  </tbody>\n",
       "</table>\n",
       "</div>"
      ],
      "text/plain": [
       "     이름                         주소\n",
       "0  경기도청   경기도 수원시 영통구 도청로 30 (이의동)\n",
       "1  장안구청  경기도 수원시 장안구 송원로 101 (조원동)\n",
       "2  권선구청   경기도 수원시 권선구 호매실로 12 (탑동)\n",
       "3  팔달구청  경기도 수원시 팔달구 창룡대로 23 (매향동)\n",
       "4  영통구청  경기도 수원시 영통구 효원로 407 (매탄동)"
      ]
     },
     "execution_count": 11,
     "metadata": {},
     "output_type": "execute_result"
    }
   ],
   "source": [
    "df = pd.read_csv('data/수원소재관공서.csv')\n",
    "df"
   ]
  },
  {
   "cell_type": "code",
   "execution_count": 12,
   "metadata": {},
   "outputs": [],
   "source": [
    "lat_list, lng_list = [], []\n",
    "for i in df.index:\n",
    "    url = f'{base_url}?query={quote(df.주소[i])}'\n",
    "    result = requests.get(url, headers=header).json()\n",
    "    lat_list.append(float(result['documents'][0]['y']))\n",
    "    lng_list.append(float(result['documents'][0]['x']))"
   ]
  },
  {
   "cell_type": "code",
   "execution_count": 13,
   "metadata": {},
   "outputs": [
    {
     "data": {
      "text/html": [
       "<div>\n",
       "<style scoped>\n",
       "    .dataframe tbody tr th:only-of-type {\n",
       "        vertical-align: middle;\n",
       "    }\n",
       "\n",
       "    .dataframe tbody tr th {\n",
       "        vertical-align: top;\n",
       "    }\n",
       "\n",
       "    .dataframe thead th {\n",
       "        text-align: right;\n",
       "    }\n",
       "</style>\n",
       "<table border=\"1\" class=\"dataframe\">\n",
       "  <thead>\n",
       "    <tr style=\"text-align: right;\">\n",
       "      <th></th>\n",
       "      <th>이름</th>\n",
       "      <th>주소</th>\n",
       "      <th>위도</th>\n",
       "      <th>경도</th>\n",
       "    </tr>\n",
       "  </thead>\n",
       "  <tbody>\n",
       "    <tr>\n",
       "      <th>0</th>\n",
       "      <td>경기도청</td>\n",
       "      <td>경기도 수원시 영통구 도청로 30 (이의동)</td>\n",
       "      <td>37.289285</td>\n",
       "      <td>127.053543</td>\n",
       "    </tr>\n",
       "    <tr>\n",
       "      <th>1</th>\n",
       "      <td>장안구청</td>\n",
       "      <td>경기도 수원시 장안구 송원로 101 (조원동)</td>\n",
       "      <td>37.304095</td>\n",
       "      <td>127.010401</td>\n",
       "    </tr>\n",
       "    <tr>\n",
       "      <th>2</th>\n",
       "      <td>권선구청</td>\n",
       "      <td>경기도 수원시 권선구 호매실로 12 (탑동)</td>\n",
       "      <td>37.257634</td>\n",
       "      <td>126.971898</td>\n",
       "    </tr>\n",
       "    <tr>\n",
       "      <th>3</th>\n",
       "      <td>팔달구청</td>\n",
       "      <td>경기도 수원시 팔달구 창룡대로 23 (매향동)</td>\n",
       "      <td>37.282651</td>\n",
       "      <td>127.020079</td>\n",
       "    </tr>\n",
       "    <tr>\n",
       "      <th>4</th>\n",
       "      <td>영통구청</td>\n",
       "      <td>경기도 수원시 영통구 효원로 407 (매탄동)</td>\n",
       "      <td>37.259599</td>\n",
       "      <td>127.046508</td>\n",
       "    </tr>\n",
       "  </tbody>\n",
       "</table>\n",
       "</div>"
      ],
      "text/plain": [
       "     이름                         주소         위도          경도\n",
       "0  경기도청   경기도 수원시 영통구 도청로 30 (이의동)  37.289285  127.053543\n",
       "1  장안구청  경기도 수원시 장안구 송원로 101 (조원동)  37.304095  127.010401\n",
       "2  권선구청   경기도 수원시 권선구 호매실로 12 (탑동)  37.257634  126.971898\n",
       "3  팔달구청  경기도 수원시 팔달구 창룡대로 23 (매향동)  37.282651  127.020079\n",
       "4  영통구청  경기도 수원시 영통구 효원로 407 (매탄동)  37.259599  127.046508"
      ]
     },
     "execution_count": 13,
     "metadata": {},
     "output_type": "execute_result"
    }
   ],
   "source": [
    "df['위도'] = lat_list\n",
    "df['경도'] = lng_list\n",
    "df"
   ]
  },
  {
   "cell_type": "code",
   "execution_count": 14,
   "metadata": {},
   "outputs": [
    {
     "data": {
      "text/html": [
       "<div>\n",
       "<style scoped>\n",
       "    .dataframe tbody tr th:only-of-type {\n",
       "        vertical-align: middle;\n",
       "    }\n",
       "\n",
       "    .dataframe tbody tr th {\n",
       "        vertical-align: top;\n",
       "    }\n",
       "\n",
       "    .dataframe thead th {\n",
       "        text-align: right;\n",
       "    }\n",
       "</style>\n",
       "<table border=\"1\" class=\"dataframe\">\n",
       "  <thead>\n",
       "    <tr style=\"text-align: right;\">\n",
       "      <th></th>\n",
       "      <th>이름</th>\n",
       "      <th>주소</th>\n",
       "      <th>위도</th>\n",
       "      <th>경도</th>\n",
       "    </tr>\n",
       "  </thead>\n",
       "  <tbody>\n",
       "    <tr>\n",
       "      <th>0</th>\n",
       "      <td>경기도청</td>\n",
       "      <td>경기도 수원시 영통구 도청로 30 (이의동)</td>\n",
       "      <td>37.289285</td>\n",
       "      <td>127.053543</td>\n",
       "    </tr>\n",
       "    <tr>\n",
       "      <th>1</th>\n",
       "      <td>장안구청</td>\n",
       "      <td>경기도 수원시 장안구 송원로 101 (조원동)</td>\n",
       "      <td>37.304095</td>\n",
       "      <td>127.010401</td>\n",
       "    </tr>\n",
       "    <tr>\n",
       "      <th>2</th>\n",
       "      <td>권선구청</td>\n",
       "      <td>경기도 수원시 권선구 호매실로 12 (탑동)</td>\n",
       "      <td>37.257634</td>\n",
       "      <td>126.971898</td>\n",
       "    </tr>\n",
       "    <tr>\n",
       "      <th>3</th>\n",
       "      <td>팔달구청</td>\n",
       "      <td>경기도 수원시 팔달구 창룡대로 23 (매향동)</td>\n",
       "      <td>37.282651</td>\n",
       "      <td>127.020079</td>\n",
       "    </tr>\n",
       "    <tr>\n",
       "      <th>4</th>\n",
       "      <td>영통구청</td>\n",
       "      <td>경기도 수원시 영통구 효원로 407 (매탄동)</td>\n",
       "      <td>37.259599</td>\n",
       "      <td>127.046508</td>\n",
       "    </tr>\n",
       "  </tbody>\n",
       "</table>\n",
       "</div>"
      ],
      "text/plain": [
       "     이름                         주소         위도          경도\n",
       "0  경기도청   경기도 수원시 영통구 도청로 30 (이의동)  37.289285  127.053543\n",
       "1  장안구청  경기도 수원시 장안구 송원로 101 (조원동)  37.304095  127.010401\n",
       "2  권선구청   경기도 수원시 권선구 호매실로 12 (탑동)  37.257634  126.971898\n",
       "3  팔달구청  경기도 수원시 팔달구 창룡대로 23 (매향동)  37.282651  127.020079\n",
       "4  영통구청  경기도 수원시 영통구 효원로 407 (매탄동)  37.259599  127.046508"
      ]
     },
     "execution_count": 14,
     "metadata": {},
     "output_type": "execute_result"
    }
   ],
   "source": [
    "df.to_csv('data/수원소재관공서2.csv', index=False)\n",
    "pd.read_csv('data/수원소재관공서2.csv')"
   ]
  },
  {
   "cell_type": "code",
   "execution_count": null,
   "metadata": {},
   "outputs": [],
   "source": []
  }
 ],
 "metadata": {
  "kernelspec": {
   "display_name": "base",
   "language": "python",
   "name": "python3"
  },
  "language_info": {
   "codemirror_mode": {
    "name": "ipython",
    "version": 3
   },
   "file_extension": ".py",
   "mimetype": "text/x-python",
   "name": "python",
   "nbconvert_exporter": "python",
   "pygments_lexer": "ipython3",
   "version": "3.10.10"
  },
  "orig_nbformat": 4
 },
 "nbformat": 4,
 "nbformat_minor": 2
}
